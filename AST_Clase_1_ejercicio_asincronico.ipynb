{
  "nbformat": 4,
  "nbformat_minor": 0,
  "metadata": {
    "colab": {
      "provenance": [],
      "include_colab_link": true
    },
    "kernelspec": {
      "name": "python3",
      "display_name": "Python 3"
    },
    "language_info": {
      "name": "python"
    }
  },
  "cells": [
    {
      "cell_type": "markdown",
      "metadata": {
        "id": "view-in-github",
        "colab_type": "text"
      },
      "source": [
        "<a href=\"https://colab.research.google.com/github/AndresMontesDeOca/TimeSeries/blob/main/AST_Clase_1_ejercicio_asincronico.ipynb\" target=\"_parent\"><img src=\"https://colab.research.google.com/assets/colab-badge.svg\" alt=\"Open In Colab\"/></a>"
      ]
    },
    {
      "cell_type": "markdown",
      "source": [
        "<div class=\"alert alert-block alert-info\">\n",
        "    <h1>Análisis de Series Temporales - 2023</h1>\n",
        "    <h3>Clase 1</h3>\n",
        "    <h5>Ejercitacion asincronica</h5>\n",
        "        <p>Docente: Rodrigo Del Rosso<p>\n",
        "        <p>Asistentes: Sebastián Calcagno y Braian Drago <p>\n",
        "</div>\n",
        "\n"
      ],
      "metadata": {
        "id": "4QnmTuwwvw47"
      }
    },
    {
      "cell_type": "markdown",
      "source": [
        "<p> <em> En el desarrollo de la siguiente actividad, se les requerirá llevar a cabo ejercicios prácticos y responder preguntas teóricas, las cuales serán abordadas en los espacios asignados para ello.</em> </p>\n",
        "<b><font size=\"5\"> El ejercicio finaliza con la leyenda \"FIN DEL EJERCICIO ASINCRONICO\" </b>"
      ],
      "metadata": {
        "id": "rzMV7xB2yOAt"
      }
    },
    {
      "cell_type": "code",
      "execution_count": null,
      "metadata": {
        "id": "tXdvVDztElTt"
      },
      "outputs": [],
      "source": [
        "# De ser necesario, instalar librerias\n",
        "# Ejemplo =\n",
        "# !pip install yfinance"
      ]
    },
    {
      "cell_type": "code",
      "source": [
        "#Importamos librerias\n",
        "import yfinance as yf\n",
        "import matplotlib.pyplot as plt\n",
        "from statsmodels.graphics.tsaplots import plot_acf, plot_pacf"
      ],
      "metadata": {
        "id": "ceACZTm4E0P8"
      },
      "execution_count": null,
      "outputs": []
    },
    {
      "cell_type": "code",
      "source": [
        "# En el ejemplo en cuestion, analizamos el intervalo de tiempo que va entre\n",
        "comienzo_fecha = '2020-01-02'\n",
        "\n",
        "# y la siguiente fecha\n",
        "fin_fecha = '2022-01-01'"
      ],
      "metadata": {
        "id": "Dang9dMQE5pO"
      },
      "execution_count": null,
      "outputs": []
    },
    {
      "cell_type": "code",
      "source": [
        "# Obtenga datos cercanos de Yahoo Finance para la empresa Alphabet Inc. (GOOG)\n",
        "ticker_list = ['GOOG']\n",
        "data = yf.download(ticker_list, start=comienzo_fecha, end=fin_fecha)[['Close']]\n",
        "\n",
        "# Primera aproximacion a los datos\n",
        "data.head()"
      ],
      "metadata": {
        "id": "bWspb9MZE9Lk"
      },
      "execution_count": null,
      "outputs": []
    },
    {
      "cell_type": "code",
      "source": [
        "# Mas informacion del dataset\n",
        "data.info()"
      ],
      "metadata": {
        "id": "Lcm6JcX7FPCd"
      },
      "execution_count": null,
      "outputs": []
    },
    {
      "cell_type": "markdown",
      "source": [
        "**EJERCICIO 1=**\n",
        "\n",
        "Realice una descomposición de la serie en sus componentes y proporcione una breve interpretación de los gráficos obtenidos."
      ],
      "metadata": {
        "id": "oG1aSnrt1ljb"
      }
    },
    {
      "cell_type": "code",
      "source": [
        "# ESPACIO PARA CODIGO DE DESCOMPOSICION DE LA SERIE =\n",
        "\n",
        "\n",
        "\n"
      ],
      "metadata": {
        "id": "MEDjAiLj1OgW"
      },
      "execution_count": null,
      "outputs": []
    },
    {
      "cell_type": "code",
      "source": [
        "\"\"\" ESCRIBA AQUI SU INTERPRETACION DE LOS GRAFICOS=\n",
        "\n",
        "\n",
        "\n",
        "\n",
        "\n",
        "\n",
        "\n",
        "\n",
        "\n",
        "\n",
        "\n",
        "\"\"\""
      ],
      "metadata": {
        "id": "ppqkHURA1wRq"
      },
      "execution_count": null,
      "outputs": []
    },
    {
      "cell_type": "code",
      "source": [
        "data.Close.plot(figsize=(20,5), title = \"Alphabet Inc. (GOOG)\")\n",
        "plt.show()"
      ],
      "metadata": {
        "id": "Eay33FjDFpPX"
      },
      "execution_count": null,
      "outputs": []
    },
    {
      "cell_type": "markdown",
      "source": [
        "**Ejercicio 2=** Analice las particularidades del gráfico. Además, determine si guarda similitudes con un proceso de caminata aleatoria o ruido blanco, y explique las razones que fundamentan su elección."
      ],
      "metadata": {
        "id": "E2mAJGiJW75-"
      }
    },
    {
      "cell_type": "code",
      "source": [
        "\"\"\" ESCRIBA AQUI SU RESPUESTA=\n",
        "\n",
        "\n",
        "\n",
        "\n",
        "\n",
        "\n",
        "\n",
        "\"\"\""
      ],
      "metadata": {
        "id": "XXOIndzQ0FZo"
      },
      "execution_count": null,
      "outputs": []
    },
    {
      "cell_type": "code",
      "source": [
        "plot_acf(data['Close']);\n",
        "plot_pacf(data['Close']);"
      ],
      "metadata": {
        "id": "SQEQ1u4hJLh4"
      },
      "execution_count": null,
      "outputs": []
    },
    {
      "cell_type": "markdown",
      "source": [
        "**Ejercicio 3=** ¿Cuáles son los atributos fundamentales de una serie estacionaria? A través de cuál de los dos gráficos podríamos evaluar si existe una aproximación a la estacionariedad o no estacionariedad. Además, ¿cuál es la interpretación que se puede hacer del otro gráfico?"
      ],
      "metadata": {
        "id": "avpGnWp2XLd3"
      }
    },
    {
      "cell_type": "code",
      "source": [
        "\"\"\" ESCRIBA AQUI SU RESPUESTA=\n",
        "\n",
        "\n",
        "\n",
        "\n",
        "\n",
        "\n",
        "\n",
        "\n",
        "\n",
        "\n",
        "\n",
        "\"\"\""
      ],
      "metadata": {
        "id": "Lgj12YsV2Q9W"
      },
      "execution_count": null,
      "outputs": []
    },
    {
      "cell_type": "code",
      "source": [
        "data_diff=data.copy()\n",
        "data_diff=data_diff.diff(axis = 0, periods = 1)\n"
      ],
      "metadata": {
        "id": "uPUavzhOUVl3"
      },
      "execution_count": null,
      "outputs": []
    },
    {
      "cell_type": "code",
      "source": [
        "data_diff.drop(['2020-01-02'], inplace=True)"
      ],
      "metadata": {
        "id": "c3Mt21FJUiD_"
      },
      "execution_count": null,
      "outputs": []
    },
    {
      "cell_type": "code",
      "source": [
        "plot_acf(data_diff['Close']);\n",
        "plot_pacf(data_diff['Close']);"
      ],
      "metadata": {
        "id": "ClDuHVhnUnFR"
      },
      "execution_count": null,
      "outputs": []
    },
    {
      "cell_type": "code",
      "source": [
        "data_diff.Close.plot(figsize=(20,5), title = \"Alphabet Inc. (GOOG)\")\n",
        "plt.show()"
      ],
      "metadata": {
        "id": "n_wQAHWSV4dZ"
      },
      "execution_count": null,
      "outputs": []
    },
    {
      "cell_type": "markdown",
      "source": [
        "**Ejercicio 4=** Analice nuevamente las particularidades del gráfico. Además, determine si guarda similitudes con un proceso de caminata aleatoria o ruido blanco, y explique las razones que fundamentan su elección."
      ],
      "metadata": {
        "id": "cnl9DGSkWsPf"
      }
    },
    {
      "cell_type": "code",
      "source": [
        "\"\"\" ESCRIBA AQUI SU RESPUESTA =\n",
        "\n",
        "\n",
        "\n",
        "\n",
        "\n",
        "\n",
        "\n",
        "\"\"\""
      ],
      "metadata": {
        "id": "1MAiZ7eB3zsM"
      },
      "execution_count": null,
      "outputs": []
    },
    {
      "cell_type": "markdown",
      "source": [
        "<!DOCTYPE html>\n",
        "<html>\n",
        "<head>\n",
        "</head>\n",
        "<body font size=\"6\">\n",
        "    <h1>Ejercicio 5= Para finalizar, contestar estas tres preguntas en el espacio asignado a continuacion </h1>\n",
        "    <ul>\n",
        "        <li>\n",
        "            <h2>Pregunta 5-A) Segun el libro de Daniel Peña, ¿cuál es la característica principal que se desprende al observar una serie de tiempo? </h2>\n",
        "        </li>\n",
        "            <h2></h2>\n",
        "            <h2></h2>\n",
        "    </ul>\n",
        "</body>\n",
        "</html>"
      ],
      "metadata": {
        "id": "R1aIm93loaQt"
      }
    },
    {
      "cell_type": "code",
      "source": [
        "\"\"\" ESCRIBA AQUI SU RESPUESTA 5-A =\n",
        "\n",
        "\n",
        "\n",
        "\n",
        "\n",
        "\n",
        "\n",
        "\"\"\""
      ],
      "metadata": {
        "id": "40KM5RnWobgP"
      },
      "execution_count": null,
      "outputs": []
    },
    {
      "cell_type": "markdown",
      "source": [
        "<!DOCTYPE html>\n",
        "<html>\n",
        "<head>\n",
        "\n",
        "</head>\n",
        "<body>\n",
        "    <ul>\n",
        "        <li>\n",
        "            <h2>Pregunta 5-B) Mencione las principales diferencias entre la estacionaridad estricta y la debil</h2>\n",
        "        </li>\n",
        "    </ul>\n",
        "</body>\n",
        "</html>"
      ],
      "metadata": {
        "id": "xwx8iUT9of0x"
      }
    },
    {
      "cell_type": "code",
      "source": [
        "\"\"\" ESCRIBA AQUI SU RESPUESTA 5-B =\n",
        "\n",
        "\n",
        "\n",
        "\n",
        "\n",
        "\n",
        "\n",
        "\"\"\""
      ],
      "metadata": {
        "id": "KZbAaEpGosqs"
      },
      "execution_count": null,
      "outputs": []
    },
    {
      "cell_type": "markdown",
      "source": [
        "<!DOCTYPE html>\n",
        "<html>\n",
        "<head>\n",
        "\n",
        "</head>\n",
        "<body>\n",
        "    <ul>\n",
        "        <li>\n",
        "            <h2>Pregunta 5-C) Al examinar los modelos autoregresivos, es deseable que las series temporales sean estacionarias. ¿Cuáles son los problemas más comunes que pueden evitar que las series temporales cumplan con esta estacionariedad?.</h2>\n",
        "        </li>\n",
        "    </ul>\n",
        "</body>\n",
        "</html>"
      ],
      "metadata": {
        "id": "fIaKbCDJotDJ"
      }
    },
    {
      "cell_type": "code",
      "source": [
        "\"\"\" ESCRIBA AQUI SU RESPUESTA 5-C =\n",
        "\n",
        "\n",
        "\n",
        "\n",
        "\n",
        "\n",
        "\n",
        "\"\"\""
      ],
      "metadata": {
        "id": "VEITcdbjovf9"
      },
      "execution_count": null,
      "outputs": []
    },
    {
      "cell_type": "markdown",
      "source": [
        "<b><font size=\"5\"> \"FIN DEL EJERCICIO ASINCRONICO\" - Muchas gracias! </b>"
      ],
      "metadata": {
        "id": "yDQudnKhpadP"
      }
    }
  ]
}
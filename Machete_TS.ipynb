{
  "cells": [
    {
      "cell_type": "markdown",
      "metadata": {
        "id": "view-in-github",
        "colab_type": "text"
      },
      "source": [
        "<a href=\"https://colab.research.google.com/github/AndresMontesDeOca/TimeSeries/blob/main/Machete_TS.ipynb\" target=\"_parent\"><img src=\"https://colab.research.google.com/assets/colab-badge.svg\" alt=\"Open In Colab\"/></a>"
      ]
    },
    {
      "cell_type": "markdown",
      "source": [
        "# Machete Series Temporales"
      ],
      "metadata": {
        "id": "HtNP2LQNDoEJ"
      }
    },
    {
      "cell_type": "markdown",
      "source": [
        "## Imortamos Librerias"
      ],
      "metadata": {
        "id": "neH4_q49FATr"
      }
    },
    {
      "cell_type": "code",
      "source": [
        "import pandas as pd\n",
        "import numpy as np\n",
        "import seaborn as sns\n",
        "import matplotlib.pyplot as plt\n",
        "import yfinance as yf\n",
        "import statsmodels.api as sm\n",
        "\n",
        "# !pip install pingouin\n",
        "# import pingouin as pg\n",
        "\n",
        "\n",
        "# Ignorar las advertencias específicas de statsmodels\n",
        "import warnings\n",
        "from statsmodels.tools.sm_exceptions import ValueWarning\n",
        "\n",
        "warnings.filterwarnings('ignore', category=ValueWarning)"
      ],
      "metadata": {
        "id": "ELfaOOfCFHfS"
      },
      "execution_count": null,
      "outputs": []
    },
    {
      "cell_type": "markdown",
      "source": [
        "## Cargamos el Dataset"
      ],
      "metadata": {
        "id": "wtgKAOyEFFua"
      }
    },
    {
      "cell_type": "code",
      "source": [
        "# Code to read csv file into Colaboratory:\n",
        "!pip install -U -q PyDrive\n",
        "from pydrive.auth import GoogleAuth\n",
        "from pydrive.drive import GoogleDrive\n",
        "from google.colab import auth\n",
        "from oauth2client.client import GoogleCredentials\n",
        "\n",
        "# Authenticate and create the PyDrive client.\n",
        "auth.authenticate_user()\n",
        "gauth = GoogleAuth()\n",
        "gauth.credentials = GoogleCredentials.get_application_default()\n",
        "drive = GoogleDrive(gauth)\n",
        "\n",
        "################################# Datasets ###################################\n",
        "# Air Pasangers\n",
        "id = '1L2Ww1zULOaJauVF370DFAziq_Mu19nj9'\n",
        "downloaded = drive.CreateFile({'id':id})\n",
        "downloaded.GetContentFile('AirPassengers.csv')\n",
        "data = pd.read_csv('AirPassengers.csv') # Cargamos el Dataset\n",
        "##############################################################################\n",
        "# Time Searies Example (Drug Sales)\n",
        "id = '1LIadGzbG8QbZvYmxTRTkAL1Mzk9CcOG7'\n",
        "downloaded = drive.CreateFile({'id':id})\n",
        "downloaded.GetContentFile('TimeSeries.csv')\n",
        "data_drugs = pd.read_csv('TimeSeries.csv') # Cargamos el Dataset\n",
        "bk_data_drugs = data_drugs.copy()"
      ],
      "metadata": {
        "id": "p7YBwUHlRomY"
      },
      "execution_count": 3,
      "outputs": []
    },
    {
      "cell_type": "code",
      "source": [
        "# url='https://raw.githubusercontent.com/sebcalcagno/AnalisisSeriesTemporales/main/Index2018.csv'\n",
        "# raw_csv_data = pd.read_csv(url)\n",
        "# data = raw_csv_data.copy()\n",
        "\n",
        "print(data.info())\n",
        "display(data.head(13))\n",
        "\n",
        "# Split the dataset into train and test sets\n",
        "train_size = int(len(data) * 0.8)\n",
        "train, test = data[:train_size].copy(), data[train_size:].copy()\n",
        "train.tail(), test.head()"
      ],
      "metadata": {
        "id": "tJoOCf5ZDrdX",
        "outputId": "96828371-5d11-444b-c561-d11e9340c510",
        "colab": {
          "base_uri": "https://localhost:8080/",
          "height": 904
        }
      },
      "execution_count": 20,
      "outputs": [
        {
          "output_type": "stream",
          "name": "stdout",
          "text": [
            "<class 'pandas.core.frame.DataFrame'>\n",
            "DatetimeIndex: 144 entries, 1949-01-01 to 1960-12-01\n",
            "Freq: MS\n",
            "Data columns (total 1 columns):\n",
            " #   Column     Non-Null Count  Dtype\n",
            "---  ------     --------------  -----\n",
            " 0   Pasajeros  144 non-null    int64\n",
            "dtypes: int64(1)\n",
            "memory usage: 2.2 KB\n",
            "None\n"
          ]
        },
        {
          "output_type": "display_data",
          "data": {
            "text/plain": [
              "            Pasajeros\n",
              "Mes                  \n",
              "1949-01-01        112\n",
              "1949-02-01        118\n",
              "1949-03-01        132\n",
              "1949-04-01        129\n",
              "1949-05-01        121\n",
              "1949-06-01        135\n",
              "1949-07-01        148\n",
              "1949-08-01        148\n",
              "1949-09-01        136\n",
              "1949-10-01        119\n",
              "1949-11-01        104\n",
              "1949-12-01        118\n",
              "1950-01-01        115"
            ],
            "text/html": [
              "\n",
              "  <div id=\"df-9e3da1e5-e949-453b-8052-c95c7621c84e\" class=\"colab-df-container\">\n",
              "    <div>\n",
              "<style scoped>\n",
              "    .dataframe tbody tr th:only-of-type {\n",
              "        vertical-align: middle;\n",
              "    }\n",
              "\n",
              "    .dataframe tbody tr th {\n",
              "        vertical-align: top;\n",
              "    }\n",
              "\n",
              "    .dataframe thead th {\n",
              "        text-align: right;\n",
              "    }\n",
              "</style>\n",
              "<table border=\"1\" class=\"dataframe\">\n",
              "  <thead>\n",
              "    <tr style=\"text-align: right;\">\n",
              "      <th></th>\n",
              "      <th>Pasajeros</th>\n",
              "    </tr>\n",
              "    <tr>\n",
              "      <th>Mes</th>\n",
              "      <th></th>\n",
              "    </tr>\n",
              "  </thead>\n",
              "  <tbody>\n",
              "    <tr>\n",
              "      <th>1949-01-01</th>\n",
              "      <td>112</td>\n",
              "    </tr>\n",
              "    <tr>\n",
              "      <th>1949-02-01</th>\n",
              "      <td>118</td>\n",
              "    </tr>\n",
              "    <tr>\n",
              "      <th>1949-03-01</th>\n",
              "      <td>132</td>\n",
              "    </tr>\n",
              "    <tr>\n",
              "      <th>1949-04-01</th>\n",
              "      <td>129</td>\n",
              "    </tr>\n",
              "    <tr>\n",
              "      <th>1949-05-01</th>\n",
              "      <td>121</td>\n",
              "    </tr>\n",
              "    <tr>\n",
              "      <th>1949-06-01</th>\n",
              "      <td>135</td>\n",
              "    </tr>\n",
              "    <tr>\n",
              "      <th>1949-07-01</th>\n",
              "      <td>148</td>\n",
              "    </tr>\n",
              "    <tr>\n",
              "      <th>1949-08-01</th>\n",
              "      <td>148</td>\n",
              "    </tr>\n",
              "    <tr>\n",
              "      <th>1949-09-01</th>\n",
              "      <td>136</td>\n",
              "    </tr>\n",
              "    <tr>\n",
              "      <th>1949-10-01</th>\n",
              "      <td>119</td>\n",
              "    </tr>\n",
              "    <tr>\n",
              "      <th>1949-11-01</th>\n",
              "      <td>104</td>\n",
              "    </tr>\n",
              "    <tr>\n",
              "      <th>1949-12-01</th>\n",
              "      <td>118</td>\n",
              "    </tr>\n",
              "    <tr>\n",
              "      <th>1950-01-01</th>\n",
              "      <td>115</td>\n",
              "    </tr>\n",
              "  </tbody>\n",
              "</table>\n",
              "</div>\n",
              "    <div class=\"colab-df-buttons\">\n",
              "\n",
              "  <div class=\"colab-df-container\">\n",
              "    <button class=\"colab-df-convert\" onclick=\"convertToInteractive('df-9e3da1e5-e949-453b-8052-c95c7621c84e')\"\n",
              "            title=\"Convert this dataframe to an interactive table.\"\n",
              "            style=\"display:none;\">\n",
              "\n",
              "  <svg xmlns=\"http://www.w3.org/2000/svg\" height=\"24px\" viewBox=\"0 -960 960 960\">\n",
              "    <path d=\"M120-120v-720h720v720H120Zm60-500h600v-160H180v160Zm220 220h160v-160H400v160Zm0 220h160v-160H400v160ZM180-400h160v-160H180v160Zm440 0h160v-160H620v160ZM180-180h160v-160H180v160Zm440 0h160v-160H620v160Z\"/>\n",
              "  </svg>\n",
              "    </button>\n",
              "\n",
              "  <style>\n",
              "    .colab-df-container {\n",
              "      display:flex;\n",
              "      gap: 12px;\n",
              "    }\n",
              "\n",
              "    .colab-df-convert {\n",
              "      background-color: #E8F0FE;\n",
              "      border: none;\n",
              "      border-radius: 50%;\n",
              "      cursor: pointer;\n",
              "      display: none;\n",
              "      fill: #1967D2;\n",
              "      height: 32px;\n",
              "      padding: 0 0 0 0;\n",
              "      width: 32px;\n",
              "    }\n",
              "\n",
              "    .colab-df-convert:hover {\n",
              "      background-color: #E2EBFA;\n",
              "      box-shadow: 0px 1px 2px rgba(60, 64, 67, 0.3), 0px 1px 3px 1px rgba(60, 64, 67, 0.15);\n",
              "      fill: #174EA6;\n",
              "    }\n",
              "\n",
              "    .colab-df-buttons div {\n",
              "      margin-bottom: 4px;\n",
              "    }\n",
              "\n",
              "    [theme=dark] .colab-df-convert {\n",
              "      background-color: #3B4455;\n",
              "      fill: #D2E3FC;\n",
              "    }\n",
              "\n",
              "    [theme=dark] .colab-df-convert:hover {\n",
              "      background-color: #434B5C;\n",
              "      box-shadow: 0px 1px 3px 1px rgba(0, 0, 0, 0.15);\n",
              "      filter: drop-shadow(0px 1px 2px rgba(0, 0, 0, 0.3));\n",
              "      fill: #FFFFFF;\n",
              "    }\n",
              "  </style>\n",
              "\n",
              "    <script>\n",
              "      const buttonEl =\n",
              "        document.querySelector('#df-9e3da1e5-e949-453b-8052-c95c7621c84e button.colab-df-convert');\n",
              "      buttonEl.style.display =\n",
              "        google.colab.kernel.accessAllowed ? 'block' : 'none';\n",
              "\n",
              "      async function convertToInteractive(key) {\n",
              "        const element = document.querySelector('#df-9e3da1e5-e949-453b-8052-c95c7621c84e');\n",
              "        const dataTable =\n",
              "          await google.colab.kernel.invokeFunction('convertToInteractive',\n",
              "                                                    [key], {});\n",
              "        if (!dataTable) return;\n",
              "\n",
              "        const docLinkHtml = 'Like what you see? Visit the ' +\n",
              "          '<a target=\"_blank\" href=https://colab.research.google.com/notebooks/data_table.ipynb>data table notebook</a>'\n",
              "          + ' to learn more about interactive tables.';\n",
              "        element.innerHTML = '';\n",
              "        dataTable['output_type'] = 'display_data';\n",
              "        await google.colab.output.renderOutput(dataTable, element);\n",
              "        const docLink = document.createElement('div');\n",
              "        docLink.innerHTML = docLinkHtml;\n",
              "        element.appendChild(docLink);\n",
              "      }\n",
              "    </script>\n",
              "  </div>\n",
              "\n",
              "\n",
              "<div id=\"df-8e79f4b8-deb8-4bf4-8aae-f5622c2cb369\">\n",
              "  <button class=\"colab-df-quickchart\" onclick=\"quickchart('df-8e79f4b8-deb8-4bf4-8aae-f5622c2cb369')\"\n",
              "            title=\"Suggest charts.\"\n",
              "            style=\"display:none;\">\n",
              "\n",
              "<svg xmlns=\"http://www.w3.org/2000/svg\" height=\"24px\"viewBox=\"0 0 24 24\"\n",
              "     width=\"24px\">\n",
              "    <g>\n",
              "        <path d=\"M19 3H5c-1.1 0-2 .9-2 2v14c0 1.1.9 2 2 2h14c1.1 0 2-.9 2-2V5c0-1.1-.9-2-2-2zM9 17H7v-7h2v7zm4 0h-2V7h2v10zm4 0h-2v-4h2v4z\"/>\n",
              "    </g>\n",
              "</svg>\n",
              "  </button>\n",
              "\n",
              "<style>\n",
              "  .colab-df-quickchart {\n",
              "      --bg-color: #E8F0FE;\n",
              "      --fill-color: #1967D2;\n",
              "      --hover-bg-color: #E2EBFA;\n",
              "      --hover-fill-color: #174EA6;\n",
              "      --disabled-fill-color: #AAA;\n",
              "      --disabled-bg-color: #DDD;\n",
              "  }\n",
              "\n",
              "  [theme=dark] .colab-df-quickchart {\n",
              "      --bg-color: #3B4455;\n",
              "      --fill-color: #D2E3FC;\n",
              "      --hover-bg-color: #434B5C;\n",
              "      --hover-fill-color: #FFFFFF;\n",
              "      --disabled-bg-color: #3B4455;\n",
              "      --disabled-fill-color: #666;\n",
              "  }\n",
              "\n",
              "  .colab-df-quickchart {\n",
              "    background-color: var(--bg-color);\n",
              "    border: none;\n",
              "    border-radius: 50%;\n",
              "    cursor: pointer;\n",
              "    display: none;\n",
              "    fill: var(--fill-color);\n",
              "    height: 32px;\n",
              "    padding: 0;\n",
              "    width: 32px;\n",
              "  }\n",
              "\n",
              "  .colab-df-quickchart:hover {\n",
              "    background-color: var(--hover-bg-color);\n",
              "    box-shadow: 0 1px 2px rgba(60, 64, 67, 0.3), 0 1px 3px 1px rgba(60, 64, 67, 0.15);\n",
              "    fill: var(--button-hover-fill-color);\n",
              "  }\n",
              "\n",
              "  .colab-df-quickchart-complete:disabled,\n",
              "  .colab-df-quickchart-complete:disabled:hover {\n",
              "    background-color: var(--disabled-bg-color);\n",
              "    fill: var(--disabled-fill-color);\n",
              "    box-shadow: none;\n",
              "  }\n",
              "\n",
              "  .colab-df-spinner {\n",
              "    border: 2px solid var(--fill-color);\n",
              "    border-color: transparent;\n",
              "    border-bottom-color: var(--fill-color);\n",
              "    animation:\n",
              "      spin 1s steps(1) infinite;\n",
              "  }\n",
              "\n",
              "  @keyframes spin {\n",
              "    0% {\n",
              "      border-color: transparent;\n",
              "      border-bottom-color: var(--fill-color);\n",
              "      border-left-color: var(--fill-color);\n",
              "    }\n",
              "    20% {\n",
              "      border-color: transparent;\n",
              "      border-left-color: var(--fill-color);\n",
              "      border-top-color: var(--fill-color);\n",
              "    }\n",
              "    30% {\n",
              "      border-color: transparent;\n",
              "      border-left-color: var(--fill-color);\n",
              "      border-top-color: var(--fill-color);\n",
              "      border-right-color: var(--fill-color);\n",
              "    }\n",
              "    40% {\n",
              "      border-color: transparent;\n",
              "      border-right-color: var(--fill-color);\n",
              "      border-top-color: var(--fill-color);\n",
              "    }\n",
              "    60% {\n",
              "      border-color: transparent;\n",
              "      border-right-color: var(--fill-color);\n",
              "    }\n",
              "    80% {\n",
              "      border-color: transparent;\n",
              "      border-right-color: var(--fill-color);\n",
              "      border-bottom-color: var(--fill-color);\n",
              "    }\n",
              "    90% {\n",
              "      border-color: transparent;\n",
              "      border-bottom-color: var(--fill-color);\n",
              "    }\n",
              "  }\n",
              "</style>\n",
              "\n",
              "  <script>\n",
              "    async function quickchart(key) {\n",
              "      const quickchartButtonEl =\n",
              "        document.querySelector('#' + key + ' button');\n",
              "      quickchartButtonEl.disabled = true;  // To prevent multiple clicks.\n",
              "      quickchartButtonEl.classList.add('colab-df-spinner');\n",
              "      try {\n",
              "        const charts = await google.colab.kernel.invokeFunction(\n",
              "            'suggestCharts', [key], {});\n",
              "      } catch (error) {\n",
              "        console.error('Error during call to suggestCharts:', error);\n",
              "      }\n",
              "      quickchartButtonEl.classList.remove('colab-df-spinner');\n",
              "      quickchartButtonEl.classList.add('colab-df-quickchart-complete');\n",
              "    }\n",
              "    (() => {\n",
              "      let quickchartButtonEl =\n",
              "        document.querySelector('#df-8e79f4b8-deb8-4bf4-8aae-f5622c2cb369 button');\n",
              "      quickchartButtonEl.style.display =\n",
              "        google.colab.kernel.accessAllowed ? 'block' : 'none';\n",
              "    })();\n",
              "  </script>\n",
              "</div>\n",
              "    </div>\n",
              "  </div>\n"
            ]
          },
          "metadata": {}
        },
        {
          "output_type": "execute_result",
          "data": {
            "text/plain": [
              "(            Pasajeros\n",
              " Mes                  \n",
              " 1958-03-01        362\n",
              " 1958-04-01        348\n",
              " 1958-05-01        363\n",
              " 1958-06-01        435\n",
              " 1958-07-01        491,\n",
              "             Pasajeros\n",
              " Mes                  \n",
              " 1958-08-01        505\n",
              " 1958-09-01        404\n",
              " 1958-10-01        359\n",
              " 1958-11-01        310\n",
              " 1958-12-01        337)"
            ]
          },
          "metadata": {},
          "execution_count": 20
        }
      ]
    },
    {
      "cell_type": "markdown",
      "source": [
        "## Pre-Procesamiento\n",
        "- Periodo: Frecuencia con la que se repite un patrón en la serie temporal\n",
        "- Lag: Distancia temporal entre dos observaciones"
      ],
      "metadata": {
        "id": "bkFQ6YtGFTT2"
      }
    },
    {
      "cell_type": "code",
      "source": [
        "# Convert the 'Month' column to a datetime data type\n",
        "data['Mes'] = pd.to_datetime(data['Month'])\n",
        "\n",
        "# Set the 'Month' column as the index of the dataframe\n",
        "data.set_index('Mes', inplace=True)\n",
        "\n",
        "# Deberia setear la frecuencia?\n",
        "data.index.freq='MS' # Depende como este formateado Date\n",
        "# data = data.asfreq('M') # O puede estar incompleta\n",
        "\n",
        "# Adaptamos distintas frecuencias temporales\n",
        "# display(data.asfreq('b').head()) # Business Day\n",
        "# data.asfreq('d').head() # Completa dias faltantes con null\n",
        "# data.asfreq('m').head() # Mes\n",
        "# data.resample(rule='QS').max # Agrupa por Cuartos, y muestra el Max de cada uno\n",
        "\n",
        "# Una vez transformada a Index y renombrada a Mes, eliminamos la variable Month\n",
        "data.drop(columns='Month', inplace=True)\n",
        "\n",
        "# Renombramos la variable #Passengers\n",
        "data.rename(columns={'#Passengers':'Pasajeros'}, inplace=True)\n",
        "\n",
        "print(data.info())\n",
        "display(data.head(13))"
      ],
      "metadata": {
        "id": "8KlgPXt3RuuJ",
        "outputId": "9eba7df6-0b2d-4bb8-b72d-9db17d61d332",
        "colab": {
          "base_uri": "https://localhost:8080/",
          "height": 662
        }
      },
      "execution_count": 5,
      "outputs": [
        {
          "output_type": "stream",
          "name": "stdout",
          "text": [
            "<class 'pandas.core.frame.DataFrame'>\n",
            "DatetimeIndex: 144 entries, 1949-01-01 to 1960-12-01\n",
            "Freq: MS\n",
            "Data columns (total 1 columns):\n",
            " #   Column     Non-Null Count  Dtype\n",
            "---  ------     --------------  -----\n",
            " 0   Pasajeros  144 non-null    int64\n",
            "dtypes: int64(1)\n",
            "memory usage: 2.2 KB\n",
            "None\n"
          ]
        },
        {
          "output_type": "display_data",
          "data": {
            "text/plain": [
              "            Pasajeros\n",
              "Mes                  \n",
              "1949-01-01        112\n",
              "1949-02-01        118\n",
              "1949-03-01        132\n",
              "1949-04-01        129\n",
              "1949-05-01        121\n",
              "1949-06-01        135\n",
              "1949-07-01        148\n",
              "1949-08-01        148\n",
              "1949-09-01        136\n",
              "1949-10-01        119\n",
              "1949-11-01        104\n",
              "1949-12-01        118\n",
              "1950-01-01        115"
            ],
            "text/html": [
              "\n",
              "  <div id=\"df-d07defbe-6c12-41a2-a054-d589316892b2\" class=\"colab-df-container\">\n",
              "    <div>\n",
              "<style scoped>\n",
              "    .dataframe tbody tr th:only-of-type {\n",
              "        vertical-align: middle;\n",
              "    }\n",
              "\n",
              "    .dataframe tbody tr th {\n",
              "        vertical-align: top;\n",
              "    }\n",
              "\n",
              "    .dataframe thead th {\n",
              "        text-align: right;\n",
              "    }\n",
              "</style>\n",
              "<table border=\"1\" class=\"dataframe\">\n",
              "  <thead>\n",
              "    <tr style=\"text-align: right;\">\n",
              "      <th></th>\n",
              "      <th>Pasajeros</th>\n",
              "    </tr>\n",
              "    <tr>\n",
              "      <th>Mes</th>\n",
              "      <th></th>\n",
              "    </tr>\n",
              "  </thead>\n",
              "  <tbody>\n",
              "    <tr>\n",
              "      <th>1949-01-01</th>\n",
              "      <td>112</td>\n",
              "    </tr>\n",
              "    <tr>\n",
              "      <th>1949-02-01</th>\n",
              "      <td>118</td>\n",
              "    </tr>\n",
              "    <tr>\n",
              "      <th>1949-03-01</th>\n",
              "      <td>132</td>\n",
              "    </tr>\n",
              "    <tr>\n",
              "      <th>1949-04-01</th>\n",
              "      <td>129</td>\n",
              "    </tr>\n",
              "    <tr>\n",
              "      <th>1949-05-01</th>\n",
              "      <td>121</td>\n",
              "    </tr>\n",
              "    <tr>\n",
              "      <th>1949-06-01</th>\n",
              "      <td>135</td>\n",
              "    </tr>\n",
              "    <tr>\n",
              "      <th>1949-07-01</th>\n",
              "      <td>148</td>\n",
              "    </tr>\n",
              "    <tr>\n",
              "      <th>1949-08-01</th>\n",
              "      <td>148</td>\n",
              "    </tr>\n",
              "    <tr>\n",
              "      <th>1949-09-01</th>\n",
              "      <td>136</td>\n",
              "    </tr>\n",
              "    <tr>\n",
              "      <th>1949-10-01</th>\n",
              "      <td>119</td>\n",
              "    </tr>\n",
              "    <tr>\n",
              "      <th>1949-11-01</th>\n",
              "      <td>104</td>\n",
              "    </tr>\n",
              "    <tr>\n",
              "      <th>1949-12-01</th>\n",
              "      <td>118</td>\n",
              "    </tr>\n",
              "    <tr>\n",
              "      <th>1950-01-01</th>\n",
              "      <td>115</td>\n",
              "    </tr>\n",
              "  </tbody>\n",
              "</table>\n",
              "</div>\n",
              "    <div class=\"colab-df-buttons\">\n",
              "\n",
              "  <div class=\"colab-df-container\">\n",
              "    <button class=\"colab-df-convert\" onclick=\"convertToInteractive('df-d07defbe-6c12-41a2-a054-d589316892b2')\"\n",
              "            title=\"Convert this dataframe to an interactive table.\"\n",
              "            style=\"display:none;\">\n",
              "\n",
              "  <svg xmlns=\"http://www.w3.org/2000/svg\" height=\"24px\" viewBox=\"0 -960 960 960\">\n",
              "    <path d=\"M120-120v-720h720v720H120Zm60-500h600v-160H180v160Zm220 220h160v-160H400v160Zm0 220h160v-160H400v160ZM180-400h160v-160H180v160Zm440 0h160v-160H620v160ZM180-180h160v-160H180v160Zm440 0h160v-160H620v160Z\"/>\n",
              "  </svg>\n",
              "    </button>\n",
              "\n",
              "  <style>\n",
              "    .colab-df-container {\n",
              "      display:flex;\n",
              "      gap: 12px;\n",
              "    }\n",
              "\n",
              "    .colab-df-convert {\n",
              "      background-color: #E8F0FE;\n",
              "      border: none;\n",
              "      border-radius: 50%;\n",
              "      cursor: pointer;\n",
              "      display: none;\n",
              "      fill: #1967D2;\n",
              "      height: 32px;\n",
              "      padding: 0 0 0 0;\n",
              "      width: 32px;\n",
              "    }\n",
              "\n",
              "    .colab-df-convert:hover {\n",
              "      background-color: #E2EBFA;\n",
              "      box-shadow: 0px 1px 2px rgba(60, 64, 67, 0.3), 0px 1px 3px 1px rgba(60, 64, 67, 0.15);\n",
              "      fill: #174EA6;\n",
              "    }\n",
              "\n",
              "    .colab-df-buttons div {\n",
              "      margin-bottom: 4px;\n",
              "    }\n",
              "\n",
              "    [theme=dark] .colab-df-convert {\n",
              "      background-color: #3B4455;\n",
              "      fill: #D2E3FC;\n",
              "    }\n",
              "\n",
              "    [theme=dark] .colab-df-convert:hover {\n",
              "      background-color: #434B5C;\n",
              "      box-shadow: 0px 1px 3px 1px rgba(0, 0, 0, 0.15);\n",
              "      filter: drop-shadow(0px 1px 2px rgba(0, 0, 0, 0.3));\n",
              "      fill: #FFFFFF;\n",
              "    }\n",
              "  </style>\n",
              "\n",
              "    <script>\n",
              "      const buttonEl =\n",
              "        document.querySelector('#df-d07defbe-6c12-41a2-a054-d589316892b2 button.colab-df-convert');\n",
              "      buttonEl.style.display =\n",
              "        google.colab.kernel.accessAllowed ? 'block' : 'none';\n",
              "\n",
              "      async function convertToInteractive(key) {\n",
              "        const element = document.querySelector('#df-d07defbe-6c12-41a2-a054-d589316892b2');\n",
              "        const dataTable =\n",
              "          await google.colab.kernel.invokeFunction('convertToInteractive',\n",
              "                                                    [key], {});\n",
              "        if (!dataTable) return;\n",
              "\n",
              "        const docLinkHtml = 'Like what you see? Visit the ' +\n",
              "          '<a target=\"_blank\" href=https://colab.research.google.com/notebooks/data_table.ipynb>data table notebook</a>'\n",
              "          + ' to learn more about interactive tables.';\n",
              "        element.innerHTML = '';\n",
              "        dataTable['output_type'] = 'display_data';\n",
              "        await google.colab.output.renderOutput(dataTable, element);\n",
              "        const docLink = document.createElement('div');\n",
              "        docLink.innerHTML = docLinkHtml;\n",
              "        element.appendChild(docLink);\n",
              "      }\n",
              "    </script>\n",
              "  </div>\n",
              "\n",
              "\n",
              "<div id=\"df-8ab1f1dc-ea00-4c2a-8d27-919a0755664f\">\n",
              "  <button class=\"colab-df-quickchart\" onclick=\"quickchart('df-8ab1f1dc-ea00-4c2a-8d27-919a0755664f')\"\n",
              "            title=\"Suggest charts.\"\n",
              "            style=\"display:none;\">\n",
              "\n",
              "<svg xmlns=\"http://www.w3.org/2000/svg\" height=\"24px\"viewBox=\"0 0 24 24\"\n",
              "     width=\"24px\">\n",
              "    <g>\n",
              "        <path d=\"M19 3H5c-1.1 0-2 .9-2 2v14c0 1.1.9 2 2 2h14c1.1 0 2-.9 2-2V5c0-1.1-.9-2-2-2zM9 17H7v-7h2v7zm4 0h-2V7h2v10zm4 0h-2v-4h2v4z\"/>\n",
              "    </g>\n",
              "</svg>\n",
              "  </button>\n",
              "\n",
              "<style>\n",
              "  .colab-df-quickchart {\n",
              "      --bg-color: #E8F0FE;\n",
              "      --fill-color: #1967D2;\n",
              "      --hover-bg-color: #E2EBFA;\n",
              "      --hover-fill-color: #174EA6;\n",
              "      --disabled-fill-color: #AAA;\n",
              "      --disabled-bg-color: #DDD;\n",
              "  }\n",
              "\n",
              "  [theme=dark] .colab-df-quickchart {\n",
              "      --bg-color: #3B4455;\n",
              "      --fill-color: #D2E3FC;\n",
              "      --hover-bg-color: #434B5C;\n",
              "      --hover-fill-color: #FFFFFF;\n",
              "      --disabled-bg-color: #3B4455;\n",
              "      --disabled-fill-color: #666;\n",
              "  }\n",
              "\n",
              "  .colab-df-quickchart {\n",
              "    background-color: var(--bg-color);\n",
              "    border: none;\n",
              "    border-radius: 50%;\n",
              "    cursor: pointer;\n",
              "    display: none;\n",
              "    fill: var(--fill-color);\n",
              "    height: 32px;\n",
              "    padding: 0;\n",
              "    width: 32px;\n",
              "  }\n",
              "\n",
              "  .colab-df-quickchart:hover {\n",
              "    background-color: var(--hover-bg-color);\n",
              "    box-shadow: 0 1px 2px rgba(60, 64, 67, 0.3), 0 1px 3px 1px rgba(60, 64, 67, 0.15);\n",
              "    fill: var(--button-hover-fill-color);\n",
              "  }\n",
              "\n",
              "  .colab-df-quickchart-complete:disabled,\n",
              "  .colab-df-quickchart-complete:disabled:hover {\n",
              "    background-color: var(--disabled-bg-color);\n",
              "    fill: var(--disabled-fill-color);\n",
              "    box-shadow: none;\n",
              "  }\n",
              "\n",
              "  .colab-df-spinner {\n",
              "    border: 2px solid var(--fill-color);\n",
              "    border-color: transparent;\n",
              "    border-bottom-color: var(--fill-color);\n",
              "    animation:\n",
              "      spin 1s steps(1) infinite;\n",
              "  }\n",
              "\n",
              "  @keyframes spin {\n",
              "    0% {\n",
              "      border-color: transparent;\n",
              "      border-bottom-color: var(--fill-color);\n",
              "      border-left-color: var(--fill-color);\n",
              "    }\n",
              "    20% {\n",
              "      border-color: transparent;\n",
              "      border-left-color: var(--fill-color);\n",
              "      border-top-color: var(--fill-color);\n",
              "    }\n",
              "    30% {\n",
              "      border-color: transparent;\n",
              "      border-left-color: var(--fill-color);\n",
              "      border-top-color: var(--fill-color);\n",
              "      border-right-color: var(--fill-color);\n",
              "    }\n",
              "    40% {\n",
              "      border-color: transparent;\n",
              "      border-right-color: var(--fill-color);\n",
              "      border-top-color: var(--fill-color);\n",
              "    }\n",
              "    60% {\n",
              "      border-color: transparent;\n",
              "      border-right-color: var(--fill-color);\n",
              "    }\n",
              "    80% {\n",
              "      border-color: transparent;\n",
              "      border-right-color: var(--fill-color);\n",
              "      border-bottom-color: var(--fill-color);\n",
              "    }\n",
              "    90% {\n",
              "      border-color: transparent;\n",
              "      border-bottom-color: var(--fill-color);\n",
              "    }\n",
              "  }\n",
              "</style>\n",
              "\n",
              "  <script>\n",
              "    async function quickchart(key) {\n",
              "      const quickchartButtonEl =\n",
              "        document.querySelector('#' + key + ' button');\n",
              "      quickchartButtonEl.disabled = true;  // To prevent multiple clicks.\n",
              "      quickchartButtonEl.classList.add('colab-df-spinner');\n",
              "      try {\n",
              "        const charts = await google.colab.kernel.invokeFunction(\n",
              "            'suggestCharts', [key], {});\n",
              "      } catch (error) {\n",
              "        console.error('Error during call to suggestCharts:', error);\n",
              "      }\n",
              "      quickchartButtonEl.classList.remove('colab-df-spinner');\n",
              "      quickchartButtonEl.classList.add('colab-df-quickchart-complete');\n",
              "    }\n",
              "    (() => {\n",
              "      let quickchartButtonEl =\n",
              "        document.querySelector('#df-8ab1f1dc-ea00-4c2a-8d27-919a0755664f button');\n",
              "      quickchartButtonEl.style.display =\n",
              "        google.colab.kernel.accessAllowed ? 'block' : 'none';\n",
              "    })();\n",
              "  </script>\n",
              "</div>\n",
              "    </div>\n",
              "  </div>\n"
            ]
          },
          "metadata": {}
        }
      ]
    },
    {
      "cell_type": "markdown",
      "source": [
        "## Visualizacion de la Serie Original"
      ],
      "metadata": {
        "id": "QDR6n2F-K7zV"
      }
    },
    {
      "cell_type": "code",
      "source": [
        "# Visualizamos\n",
        "data.plot(figsize=(14, 5), title='Serie Temporal')\n",
        "# plt.show()\n",
        "\n",
        "data.to_csv('AirPassengers_std.csv', index=True)"
      ],
      "metadata": {
        "id": "MeNdC0C5HOez",
        "outputId": "9174659c-b8f0-488e-9ea9-e6eab2a1abb2",
        "colab": {
          "base_uri": "https://localhost:8080/",
          "height": 318
        }
      },
      "execution_count": 6,
      "outputs": [
        {
          "output_type": "display_data",
          "data": {
            "text/plain": [
              "<Figure size 1400x500 with 1 Axes>"
            ],
            "image/png": "[encoded data removed]"
          },
          "metadata": {}
        }
      ]
    },
    {
      "cell_type": "code",
      "source": [
        "# Descomposicion de la Serie\n",
        "from statsmodels.tsa.seasonal import seasonal_decompose\n",
        "\n",
        "data_dec = seasonal_decompose(data, model = \"adittive\") # Multiplicativo es mas apto cuando hay ceros o negativos\n",
        "data_dec.plot()\n",
        "plt.show()"
      ],
      "metadata": {
        "colab": {
          "base_uri": "https://localhost:8080/",
          "height": 487
        },
        "id": "Qj-GcHQG1pGB",
        "outputId": "a38f8a8b-19c8-4697-edde-e20c21018caa"
      },
      "execution_count": 7,
      "outputs": [
        {
          "output_type": "display_data",
          "data": {
            "text/plain": [
              "<Figure size 640x480 with 4 Axes>"
            ],
            "image/png": "[encoded data removed]"
          },
          "metadata": {}
        }
      ]
    },
    {
      "cell_type": "markdown",
      "source": [
        "**Observado**: Muestra los datos originales de la serie temporal, que en este caso son los pasajeros mensuales.\n",
        "\n",
        "**Tendencia**: Indica la tendencia a largo plazo de los datos, eliminando las fluctuaciones estacionales y el ruido aleatorio. En este caso, parece haber una tendencia ascendente a lo largo del tiempo, lo que sugiere un aumento en el número de pasajeros a lo largo de los años.\n",
        "\n",
        "**Estacionalidad**: Muestra el patrón estacional dentro de los datos, que se repite con regularidad. La estacionalidad parece ser bastante consistente a lo largo del tiempo, lo que indica que hay un patrón estacional claro, probablemente relacionado con los ciclos de viaje durante el año.\n",
        "\n",
        "**Residuo**: Representa el ruido o las irregularidades en los datos después de eliminar la tendencia y la estacionalidad. Los residuos parecen ser bastante pequeños en comparación con la tendencia y la estacionalidad, lo que sugiere que el modelo aditivo ha capturado la mayor parte de la información en los datos originales."
      ],
      "metadata": {
        "id": "BsAwxN_04tqw"
      }
    },
    {
      "cell_type": "markdown",
      "source": [
        "## Analisis de Estacionariedad"
      ],
      "metadata": {
        "id": "Z7iGpFP95VCu"
      }
    },
    {
      "cell_type": "code",
      "source": [
        "# Funciones Auxiliares para el Analisis Analitco de Estacionariedad\n",
        "# Mepa que es lo mismo que ADFTest de  pmdarima\n",
        "\n",
        "from statsmodels.tsa.stattools import adfuller\n",
        "\n",
        "def estacioneriedad(y):\n",
        "  resultado = adfuller(y)\n",
        "  # print('Estadistico ADF: %f' % resultado[0])\n",
        "  print('p-valor: %f' % resultado[1])\n",
        "  # print('Valores criticos:')\n",
        "  # for key, valor in resultado[4].items():\n",
        "  #   print('\\t%s: %.3f' % (key, valor))\n",
        "  if resultado[1] < 0.05:\n",
        "    print('Serie Estacionaria')\n",
        "  else:\n",
        "    print('Serie no Estacionaria')"
      ],
      "metadata": {
        "id": "lTXXbx9GDdC1"
      },
      "execution_count": 8,
      "outputs": []
    },
    {
      "cell_type": "code",
      "source": [
        "from statsmodels.graphics.tsaplots import plot_acf, plot_pacf\n",
        "\n",
        "# Funcion Auxiliar del analisis de Estacionariedad\n",
        "print(estacioneriedad(data))\n",
        "\n",
        "# Plot the ACF and PACF\n",
        "fig, (ax1, ax2) = plt.subplots(2, 1, figsize=(12, 8))\n",
        "plot_acf(data, lags=50, ax=ax1)\n",
        "plot_pacf(data, lags=50, ax=ax2)\n",
        "plt.show()"
      ],
      "metadata": {
        "colab": {
          "base_uri": "https://localhost:8080/",
          "height": 566
        },
        "id": "d8oCOfJu5ZzE",
        "outputId": "4bef5314-4755-4c36-987d-72575b95723d"
      },
      "execution_count": 9,
      "outputs": [
        {
          "output_type": "stream",
          "name": "stdout",
          "text": [
            "p-valor: 0.991880\n",
            "Serie no Estacionaria\n",
            "None\n"
          ]
        },
        {
          "output_type": "display_data",
          "data": {
            "text/plain": [
              "<Figure size 1200x800 with 2 Axes>"
            ],
            "image/png": "[encoded data removed]"
          },
          "metadata": {}
        }
      ]
    },
    {
      "cell_type": "markdown",
      "source": [
        "**ACF (Autocorrelation Function)**: Muestra la correlación de la serie consigo misma en diferentes lags. Si la serie fuera estacionaria, esperaríamos que las autocorrelaciones se redujeran rápidamente a cero. Sin embargo, en esta gráfica, las autocorrelaciones se mantienen significativas (fuera del área azul sombreada que representa el intervalo de confianza) para muchos lags, lo que sugiere que la serie no es estacionaria.\n",
        "\n",
        "**PACF (Partial Autocorrelation Function)**: Muestra la correlación parcial de la serie consigo misma, controlando por las correlaciones de todos los lags más cortos. La PACF corta bruscamente después del primer lag, lo que es típico de una serie que necesita ser diferenciada para alcanzar la estacionariedad.\n",
        "\n",
        "El **Test Analitico de Augmented Dickey–Fuller**, tambien nos indica que la serie es No-Estacionaria"
      ],
      "metadata": {
        "id": "UvSZPmVy6WhD"
      }
    },
    {
      "cell_type": "markdown",
      "source": [
        "## Diferenciacion de la Serie Original"
      ],
      "metadata": {
        "id": "9SY_Q18v7W9t"
      }
    },
    {
      "cell_type": "code",
      "source": [
        "# Funciones Auxiliares para en Analsis Analitico de Diferenciacion\n",
        "\n",
        "from pmdarima.arima import auto_arima, ndiffs, nsdiffs\n",
        "from pmdarima.arima import ADFTest\n",
        "\n",
        "def diferenciacion(y):\n",
        "  # Estimado de número de diferencias con ADF test:Dickey-Fuller\n",
        "  n_adf = ndiffs(y, test='adf')  # -> 0\n",
        "\n",
        "  # KPSS test (auto_arima default): Kwiatkowski-Phillips-Schmidt-Shin\n",
        "  n_kpss = ndiffs(y, test='kpss')  # -> 0\n",
        "\n",
        "  # PP test: Phillips-Perron\n",
        "  n_pp = ndiffs(y, test='pp')  # -> 0\n",
        "\n",
        "  print('Estimado de número de diferencias con KPSS test')\n",
        "  print(n_kpss)\n",
        "\n",
        "\n",
        "  print('Estimado de número de diferencias con ADF test')\n",
        "  print(n_adf)\n",
        "\n",
        "  print('Estimado de número de diferencias con PP test')\n",
        "  print(n_pp)\n",
        "\n",
        "  # print('Se debe realizar diferenciación (should_diff) ADF Test')\n",
        "  # adftest = ADFTest(alpha=0.05)\n",
        "  # print(adftest.should_diff(y))"
      ],
      "metadata": {
        "id": "nBE-OvgMFB-w",
        "outputId": "14840b09-a305-4023-ef30-cc157ef396ee",
        "colab": {
          "base_uri": "https://localhost:8080/",
          "height": 384
        }
      },
      "execution_count": 10,
      "outputs": [
        {
          "output_type": "error",
          "ename": "ModuleNotFoundError",
          "evalue": "ignored",
          "traceback": [
            "\u001b[0;31m---------------------------------------------------------------------------\u001b[0m",
            "\u001b[0;31mModuleNotFoundError\u001b[0m                       Traceback (most recent call last)",
            "\u001b[0;32m<ipython-input-10-c61379ecdd32>\u001b[0m in \u001b[0;36m<cell line: 3>\u001b[0;34m()\u001b[0m\n\u001b[1;32m      1\u001b[0m \u001b[0;31m# Funciones Auxiliares para en Analsis Analitico de Diferenciacion\u001b[0m\u001b[0;34m\u001b[0m\u001b[0;34m\u001b[0m\u001b[0m\n\u001b[1;32m      2\u001b[0m \u001b[0;34m\u001b[0m\u001b[0m\n\u001b[0;32m----> 3\u001b[0;31m \u001b[0;32mfrom\u001b[0m \u001b[0mpmdarima\u001b[0m\u001b[0;34m.\u001b[0m\u001b[0marima\u001b[0m \u001b[0;32mimport\u001b[0m \u001b[0mauto_arima\u001b[0m\u001b[0;34m,\u001b[0m \u001b[0mndiffs\u001b[0m\u001b[0;34m,\u001b[0m \u001b[0mnsdiffs\u001b[0m\u001b[0;34m\u001b[0m\u001b[0;34m\u001b[0m\u001b[0m\n\u001b[0m\u001b[1;32m      4\u001b[0m \u001b[0;32mfrom\u001b[0m \u001b[0mpmdarima\u001b[0m\u001b[0;34m.\u001b[0m\u001b[0marima\u001b[0m \u001b[0;32mimport\u001b[0m \u001b[0mADFTest\u001b[0m\u001b[0;34m\u001b[0m\u001b[0;34m\u001b[0m\u001b[0m\n\u001b[1;32m      5\u001b[0m \u001b[0;34m\u001b[0m\u001b[0m\n",
            "\u001b[0;31mModuleNotFoundError\u001b[0m: No module named 'pmdarima'",
            "",
            "\u001b[0;31m---------------------------------------------------------------------------\u001b[0;32m\nNOTE: If your import is failing due to a missing package, you can\nmanually install dependencies using either !pip or !apt.\n\nTo view examples of installing some common dependencies, click the\n\"Open Examples\" button below.\n\u001b[0;31m---------------------------------------------------------------------------\u001b[0m\n"
          ],
          "errorDetails": {
            "actions": [
              {
                "action": "open_url",
                "actionText": "Open Examples",
                "url": "/notebooks/snippets/importing_libraries.ipynb"
              }
            ]
          }
        }
      ]
    },
    {
      "cell_type": "code",
      "source": [
        "# Distintos Test Analiticos para determinar el orden de Diferenciacion recomendados\n",
        "diferenciacion(data)\n",
        "\n",
        "# Apply first difference\n",
        "data_diff = data['Pasajeros'].diff().dropna()\n",
        "\n",
        "# Plot the differenced data\n",
        "plt.figure(figsize=(14,6))\n",
        "plt.plot(data_diff)\n",
        "plt.title('First Difference of the Passengers Time Series')\n",
        "plt.xlabel('Date')\n",
        "plt.ylabel('Number of Passengers')\n",
        "plt.show()"
      ],
      "metadata": {
        "id": "P--qiS1B7Une"
      },
      "execution_count": null,
      "outputs": []
    },
    {
      "cell_type": "markdown",
      "source": [
        "**Variaciones alrededor de cero**: La serie diferenciada oscila alrededor de una media que parece ser cercana a cero, lo cual es un indicio de que la tendencia ha sido eliminada. Esto es un buen signo de que la diferenciación ha ayudado a estabilizar la media de la serie temporal.\n",
        "\n",
        "**Disminución de la varianza**: No hay un patrón claro de aumento o disminución de la varianza a lo largo del tiempo, lo que sugiere que la diferenciación también ha ayudado a estabilizar la varianza de la serie temporal.\n",
        "\n",
        "**Patrones estacionales**: Aunque la tendencia se ha eliminado, todavía se pueden observar patrones estacionales. Esto se evidencia por los picos y valles regulares que persisten después de la diferenciación. Estos patrones indican que aún puede haber estacionalidad en los datos que no ha sido abordada por la primera diferencia.\n",
        "\n",
        "**Ausencia de tendencia**: No hay una tendencia ascendente o descendente clara en la serie diferenciada, lo que sugiere que la primera diferencia fue efectiva en eliminar la tendencia lineal de la serie original."
      ],
      "metadata": {
        "id": "6vmJqcls8HZQ"
      }
    },
    {
      "cell_type": "code",
      "source": [
        "# Plot the ACF and PACF for the differenced data\n",
        "fig, (ax1, ax2) = plt.subplots(2, 1, figsize=(14, 8))\n",
        "plot_acf(data_diff, lags=50, ax=ax1)\n",
        "plot_pacf(data_diff, lags=50, ax=ax2)\n",
        "plt.show()"
      ],
      "metadata": {
        "id": "r8C6tngT8W0d"
      },
      "execution_count": null,
      "outputs": []
    },
    {
      "cell_type": "markdown",
      "source": [
        "**ACF (Autocorrelation Function)**: La función de autocorrelación muestra que hay algunos picos significativos en los primeros lags y luego se reduce, pero no decae inmediatamente a cero, lo que sugiere que todavía hay cierta correlación estacional en los datos. Tambien se observan los picos Estacionales, con un periodo de 12\n",
        "\n",
        "**PACF (Partial Autocorrelation Function)**: La función de autocorrelación parcial muestra picos significativos en los primeros lags y luego se corta, lo que es indicativo de un posible orden AR (autoregresivo) para un modelo ARIMA.\n",
        "\n",
        "Estos patrones en las gráficas ACF y PACF sugieren que, aunque la primera diferencia ha ayudado a eliminar la tendencia, todavía puede haber estacionalidad en los datos que podría necesitar ser modelada. Además, los picos en la PACF podrían indicar que un modelo ARIMA con componentes autoregresivos podría ser apropiado para estos datos."
      ],
      "metadata": {
        "id": "-qTqkIOl8tj1"
      }
    },
    {
      "cell_type": "markdown",
      "source": [
        "## Modelo ARMA\n",
        "- Solo para series ya Estacionarias\n",
        "- Para un modelo ARMA(p,q), p es el último lag significativo en la PACF, y q es el último lag significativo en la ACF."
      ],
      "metadata": {
        "id": "_FhEAI_o_G2R"
      }
    },
    {
      "cell_type": "code",
      "source": [
        "from statsmodels.tsa.arima.model import ARIMA\n",
        "\n",
        "# Fit an ARMA model. Here we need to specify the order (p, d, q).\n",
        "# Since we have already differenced the data once, d=0 in this ARIMA model.\n",
        "# We will start with p=1 and q=1, which are common starting points.\n",
        "model = ARIMA(data_diff, order=(1, 0, 1))\n",
        "results = model.fit()\n",
        "\n",
        "# Display the summary of the model\n",
        "results.summary()"
      ],
      "metadata": {
        "id": "aKGcIf9MAa1V"
      },
      "execution_count": null,
      "outputs": []
    },
    {
      "cell_type": "markdown",
      "source": [
        "**Coeficientes**: El coeficiente para el término autoregresivo (AR) es -0.4767 y para el término de media móvil (MA) es 0.8645. Ambos son significativos, como lo indica el valor p (P>|z|) que es menor que 0.05.\n",
        "\n",
        "**AIC y BIC**: El Criterio de Información de Akaike (AIC) es 1396.122 y el Criterio de Información Bayesiano (BIC) es 1407.973. Estos valores se utilizan para comparar modelos; en general, un valor más bajo indica un mejor modelo, tomando en cuenta la complejidad y el ajuste.\n",
        "\n",
        "**Pruebas de Diagnóstico**:\n",
        "\n",
        "- **La prueba de Ljung-Box (Q)** tiene un valor p de 0.64, lo que indica que no hay autocorrelaciones significativas en los residuos, es decir, los residuos parecen ser ruido blanco\n",
        "- **La prueba de Heteroscedasticidad (H)** tiene un valor p muy bajo, lo que sugiere que hay heteroscedasticidad en los residuos.\n",
        "- **La prueba de Jarque-Bera (JB)** tiene un valor p de 0.34, lo que indica que los residuos tienen una distribución normal."
      ],
      "metadata": {
        "id": "dsDg23wmBRSy"
      }
    },
    {
      "cell_type": "markdown",
      "source": [
        "## Modelo Auto-ARIMA\n",
        "- Al ser la Serie Orignal No-Estacionaria, el parametro d nos indicaria la cantidad de diferenciaciones recomendadas\n",
        "- Solo con los datos de Train"
      ],
      "metadata": {
        "id": "-ccfJ_ykCcMe"
      }
    },
    {
      "cell_type": "code",
      "source": [
        "# Usando la libreria pmdarima\n",
        "# !pip install pmdarima\n",
        "from pmdarima.arima import auto_arima\n",
        "\n",
        "# Configuración inicial para p, d, q\n",
        "start_p = 1  # Valor inicial de p\n",
        "start_q = 1  # Valor inicial de q\n",
        "max_p = 6    # Máximo valor de p a considerar\n",
        "max_q = 6   # Máximo valor de q a considerar\n",
        "d = None     # Diferenciación (si se establece en None, auto_arima la determinará)\n",
        "max_d = 2    # Máximo número de diferenciaciones no estacionales\n",
        "\n",
        "\n",
        "# Ejecutar auto_arima\n",
        "model = auto_arima(data, start_p=start_p, start_q=start_q,\n",
        "                   max_p=max_p, max_q=max_q, max_d=max_d,\n",
        "                   seasonal=False,  # No estacionalidad\n",
        "                   trace=True,      # Imprimir resultados\n",
        "                   error_action='ignore',\n",
        "                   suppress_warnings=True,\n",
        "                   stepwise=True)   # Utilizar el algoritmo stepwise\n",
        "\n",
        "# Imprimir el resumen del modelo\n",
        "print(model.summary())"
      ],
      "metadata": {
        "id": "PFXMOHHrCfYw"
      },
      "execution_count": null,
      "outputs": []
    },
    {
      "cell_type": "code",
      "source": [
        "# # Probando distintos p, d, q\n",
        "from statsmodels.tsa.arima.model import ARIMA\n",
        "import itertools\n",
        "\n",
        "# Define the p, d, and q parameters to take any value between 0 and x\n",
        "p = q = range(9, 13)\n",
        "d = range(1, 3)\n",
        "\n",
        "# Generate all different combinations of p, d, and q triplets\n",
        "pdq = list(itertools.product(p, d, q))\n",
        "\n",
        "# Define a DataFrame to store the results\n",
        "results_df = pd.DataFrame(columns=['pdq', 'aic'])\n",
        "\n",
        "# Run a grid search over all pdq combinations\n",
        "for param in pdq:\n",
        "    try:\n",
        "        temp_model = ARIMA(data, order=param)\n",
        "        results = temp_model.fit()\n",
        "\n",
        "        # Store results\n",
        "        results_df = results_df.append({'pdq': param, 'aic': results.aic}, ignore_index=True)\n",
        "    except Exception as e:\n",
        "        # Store the exception message\n",
        "        results_df = results_df.append({'pdq': param, 'aic': str(e)}, ignore_index=True)\n",
        "\n",
        "# Sort the results by AIC and return the best combination\n",
        "results_df.sort_values('aic', inplace=True)\n",
        "results_df.head()"
      ],
      "metadata": {
        "id": "PkUyGkZnP3Dl"
      },
      "execution_count": null,
      "outputs": []
    },
    {
      "cell_type": "markdown",
      "source": [
        "## Metodologia Box-Jenkings"
      ],
      "metadata": {
        "id": "kA5kPVXcXZeY"
      }
    },
    {
      "cell_type": "markdown",
      "source": [
        "### **Paso 1: Identificación**\n",
        "Diferenciación: Si la serie temporal no es estacionaria, necesitamos diferenciarla. Esto ya lo hemos hecho previamente con tu serie temporal.\n",
        "ACF y PACF: Examinamos los gráficos ACF y PACF para determinar los posibles valores de p y q.\n",
        "\n"
      ],
      "metadata": {
        "id": "gH5fvziMcfOK"
      }
    },
    {
      "cell_type": "code",
      "source": [
        "# Paso 1: Identificación\n",
        "estacioneriedad(data_diff)\n",
        "\n",
        "# Suponemos que con una diferenciacino de 1 es suficiente\n",
        "# Tambien deberiamos anlizar las graficas de ACF y PACF"
      ],
      "metadata": {
        "id": "9B8X1IGGeOXw"
      },
      "execution_count": null,
      "outputs": []
    },
    {
      "cell_type": "markdown",
      "source": [],
      "metadata": {
        "id": "PxJLG115nw2f"
      }
    },
    {
      "cell_type": "markdown",
      "source": [
        "### **Paso 2: Estimación**\n",
        "Ajuste del Modelo: Ajustamos un modelo ARIMA con los valores de p, d, y q identificados en el paso anterior. Esto se puede hacer con la función ARIMA de statsmodels."
      ],
      "metadata": {
        "id": "Sqq1XTyOeOht"
      }
    },
    {
      "cell_type": "code",
      "source": [
        "# Paso 2: Estimación\n",
        "\n",
        "# Ajustamos un modelo ARIMA con los valores iniciales de p, d, q basados en los gráficos ACF y PACF\n",
        "model = ARIMA(data_diff, order=(1,0,1))\n",
        "model_fit = model.fit()"
      ],
      "metadata": {
        "id": "Kdn02n6TeOr_"
      },
      "execution_count": null,
      "outputs": []
    },
    {
      "cell_type": "markdown",
      "source": [
        "### **Paso 3: Diagnóstico**\n"
      ],
      "metadata": {
        "id": "iPyuOZg4eOzk"
      }
    },
    {
      "cell_type": "markdown",
      "source": [
        "#### **Coeficientes**: Verificamos que los coeficientes del modelo son signific"
      ],
      "metadata": {
        "id": "YzDkL7hUh4Rr"
      }
    },
    {
      "cell_type": "code",
      "source": [
        "# Paso 3: Diagnóstico\n",
        "\n",
        "# Imprimimos el resumen del modelo\n",
        "print(model_fit.summary())"
      ],
      "metadata": {
        "id": "LO3VOQ86hnG5"
      },
      "execution_count": null,
      "outputs": []
    },
    {
      "cell_type": "markdown",
      "source": [
        "- El coeficiente para el término AR (ar.L1) es -0.4767 y es estadísticamente significativo (p < 0.05)\n",
        "- El coeficiente para el término MA (ma.L1) es 0.8645 y también es estadísticamente significativo (p < 0.05)"
      ],
      "metadata": {
        "id": "ngdmIj1JhaNc"
      }
    },
    {
      "cell_type": "markdown",
      "source": [
        "#### **Gráficos de Residuos**: Examinamos los gráficos de los residuos para asegurarnos de que parecen ruido blanco.\n"
      ],
      "metadata": {
        "id": "BT2-ICXIhvX8"
      }
    },
    {
      "cell_type": "code",
      "source": [
        "# Vamos a realizar un diagnóstico del modelo para verificar la adecuación\n",
        "residuals = model_fit.resid\n",
        "\n",
        "# Gráfico de los residuos\n",
        "plt.figure(figsize=(14,6))\n",
        "plt.plot(residuals)\n",
        "plt.title('Residuos del Modelo ARIMA')\n",
        "plt.axhline(y=0, color='r', linestyle='--')\n",
        "plt.show()\n",
        "\n",
        "# Densidad de los residuos\n",
        "plt.figure(figsize=(12,6))\n",
        "plt.title('Densidad de los Residuos del Modelo ARIMA')\n",
        "sns.kdeplot(residuals, shade=True)\n",
        "plt.show()\n",
        "\n",
        "# Normalidad en la Distribucion de los Residuso\n",
        "# sm.qqplot(residuals)\n",
        "pg.qqplot(residuals)\n",
        "plt.show()"
      ],
      "metadata": {
        "id": "Apq12IzliUj5"
      },
      "execution_count": null,
      "outputs": []
    },
    {
      "cell_type": "markdown",
      "source": [
        "- El gráfico de los residuos muestra que están centrados alrededor de cero y no parecen tener una estructura o patrón claro, lo cual es bueno.\n",
        "- La densidad de los residuos parece seguir una distribución normal, lo que sugiere que los residuos se comportan como ruido blanco."
      ],
      "metadata": {
        "id": "0SZLtAoBijR3"
      }
    },
    {
      "cell_type": "markdown",
      "source": [
        "#### **Prueba de Ljung-Box**: Realizamos la prueba de Ljung-Box en los residuos para buscar autocorrelaciones significativas."
      ],
      "metadata": {
        "id": "qnIb7X5KiK87"
      }
    },
    {
      "cell_type": "code",
      "source": [
        "# Paso 3: Diagnóstico\n",
        "from statsmodels.stats.diagnostic import acorr_ljungbox\n",
        "\n",
        "# Realizamos la prueba de Ljung-Box en los residuos para buscar autocorrelaciones significativas\n",
        "ljung_box_results = acorr_ljungbox(residuals, return_df=True)#, lags=[10])\n",
        "print('Resultados de la prueba de Ljung-Box:')\n",
        "print(ljung_box_results)\n",
        "\n",
        "# Pendiente el analisis de la Incorrelacion de los Residuos"
      ],
      "metadata": {
        "id": "WfGPsMGyeO99"
      },
      "execution_count": null,
      "outputs": []
    },
    {
      "cell_type": "markdown",
      "source": [
        "- La estadística de prueba para 10 rezagos es aproximadamente 31.59, y el p-valor asociado es 0.000468, lo cual es menor que el nivel de significancia típico de 0.05.\n",
        "- Esto indica que hay autocorrelación significativa en los residuos a 10 rezagos, lo que sugiere que el modelo ARIMA(1,0,1) puede no ser adecuado para los datos.\n",
        "- Podríamos considerar ajustar un modelo diferente, posiblemente con diferentes valores de p y q, o incluir términos estacionales si sospechamos que hay estacionalidad en los datos"
      ],
      "metadata": {
        "id": "KdDxyph5f8Y5"
      }
    },
    {
      "cell_type": "markdown",
      "source": [
        "### **Paso X: Transformacion Alternativa Box-Cox o Diferenciacion**"
      ],
      "metadata": {
        "id": "1pJCiGcnqAgd"
      }
    },
    {
      "cell_type": "code",
      "source": [
        "#cargar los paquetes necesarios\n",
        "from scipy.stats import jarque_bera, shapiro, boxcox, probplot\n",
        "\n",
        "# realizar la transformación de Box-Cox en datos originales\n",
        "transform_data, best_lambda = boxcox (data['Pasajeros'])\n",
        "\n",
        "# print(f\" El lambda óptima aproximado es =  {best_lambda}\")\n",
        "\n",
        "# Chequeamos la Normalidad de los reisudos. H0 Data follows a Normal Distribution\n",
        "# Para datos originales\n",
        "print('Original:', jarque_bera(data['Pasajeros'])[1])\n",
        "\n",
        "# Para datos con transformacion de Box Cox\n",
        "print('Transformada:', jarque_bera(transform_data)[1])"
      ],
      "metadata": {
        "id": "Q-DPjbv1qFmp"
      },
      "execution_count": null,
      "outputs": []
    },
    {
      "cell_type": "markdown",
      "source": [
        "### **Paso X: Forecast**"
      ],
      "metadata": {
        "id": "zHbw02hU68zg"
      }
    },
    {
      "cell_type": "code",
      "source": [
        "# Si los residuos del modelo se comportan como ruido blanco, hacemos la proyeccion\n",
        "\n",
        "model_fit.predict(n_periods=30,return_conf_int=True)\n",
        "\n",
        "# Pendiente"
      ],
      "metadata": {
        "id": "hiDiwnXy7BmY"
      },
      "execution_count": null,
      "outputs": []
    },
    {
      "cell_type": "markdown",
      "source": [
        "## Metodos Forecasting"
      ],
      "metadata": {
        "id": "MIGjXo02k4wr"
      }
    },
    {
      "cell_type": "code",
      "source": [
        "data.head()"
      ],
      "metadata": {
        "id": "IMTNR6DWk7pd",
        "outputId": "934b0eb4-890d-4878-864a-a93404023fa3",
        "colab": {
          "base_uri": "https://localhost:8080/",
          "height": 237
        }
      },
      "execution_count": 11,
      "outputs": [
        {
          "output_type": "execute_result",
          "data": {
            "text/plain": [
              "            Pasajeros\n",
              "Mes                  \n",
              "1949-01-01        112\n",
              "1949-02-01        118\n",
              "1949-03-01        132\n",
              "1949-04-01        129\n",
              "1949-05-01        121"
            ],
            "text/html": [
              "\n",
              "  <div id=\"df-21fbfd50-784a-42a0-931e-2a36b3256d54\" class=\"colab-df-container\">\n",
              "    <div>\n",
              "<style scoped>\n",
              "    .dataframe tbody tr th:only-of-type {\n",
              "        vertical-align: middle;\n",
              "    }\n",
              "\n",
              "    .dataframe tbody tr th {\n",
              "        vertical-align: top;\n",
              "    }\n",
              "\n",
              "    .dataframe thead th {\n",
              "        text-align: right;\n",
              "    }\n",
              "</style>\n",
              "<table border=\"1\" class=\"dataframe\">\n",
              "  <thead>\n",
              "    <tr style=\"text-align: right;\">\n",
              "      <th></th>\n",
              "      <th>Pasajeros</th>\n",
              "    </tr>\n",
              "    <tr>\n",
              "      <th>Mes</th>\n",
              "      <th></th>\n",
              "    </tr>\n",
              "  </thead>\n",
              "  <tbody>\n",
              "    <tr>\n",
              "      <th>1949-01-01</th>\n",
              "      <td>112</td>\n",
              "    </tr>\n",
              "    <tr>\n",
              "      <th>1949-02-01</th>\n",
              "      <td>118</td>\n",
              "    </tr>\n",
              "    <tr>\n",
              "      <th>1949-03-01</th>\n",
              "      <td>132</td>\n",
              "    </tr>\n",
              "    <tr>\n",
              "      <th>1949-04-01</th>\n",
              "      <td>129</td>\n",
              "    </tr>\n",
              "    <tr>\n",
              "      <th>1949-05-01</th>\n",
              "      <td>121</td>\n",
              "    </tr>\n",
              "  </tbody>\n",
              "</table>\n",
              "</div>\n",
              "    <div class=\"colab-df-buttons\">\n",
              "\n",
              "  <div class=\"colab-df-container\">\n",
              "    <button class=\"colab-df-convert\" onclick=\"convertToInteractive('df-21fbfd50-784a-42a0-931e-2a36b3256d54')\"\n",
              "            title=\"Convert this dataframe to an interactive table.\"\n",
              "            style=\"display:none;\">\n",
              "\n",
              "  <svg xmlns=\"http://www.w3.org/2000/svg\" height=\"24px\" viewBox=\"0 -960 960 960\">\n",
              "    <path d=\"M120-120v-720h720v720H120Zm60-500h600v-160H180v160Zm220 220h160v-160H400v160Zm0 220h160v-160H400v160ZM180-400h160v-160H180v160Zm440 0h160v-160H620v160ZM180-180h160v-160H180v160Zm440 0h160v-160H620v160Z\"/>\n",
              "  </svg>\n",
              "    </button>\n",
              "\n",
              "  <style>\n",
              "    .colab-df-container {\n",
              "      display:flex;\n",
              "      gap: 12px;\n",
              "    }\n",
              "\n",
              "    .colab-df-convert {\n",
              "      background-color: #E8F0FE;\n",
              "      border: none;\n",
              "      border-radius: 50%;\n",
              "      cursor: pointer;\n",
              "      display: none;\n",
              "      fill: #1967D2;\n",
              "      height: 32px;\n",
              "      padding: 0 0 0 0;\n",
              "      width: 32px;\n",
              "    }\n",
              "\n",
              "    .colab-df-convert:hover {\n",
              "      background-color: #E2EBFA;\n",
              "      box-shadow: 0px 1px 2px rgba(60, 64, 67, 0.3), 0px 1px 3px 1px rgba(60, 64, 67, 0.15);\n",
              "      fill: #174EA6;\n",
              "    }\n",
              "\n",
              "    .colab-df-buttons div {\n",
              "      margin-bottom: 4px;\n",
              "    }\n",
              "\n",
              "    [theme=dark] .colab-df-convert {\n",
              "      background-color: #3B4455;\n",
              "      fill: #D2E3FC;\n",
              "    }\n",
              "\n",
              "    [theme=dark] .colab-df-convert:hover {\n",
              "      background-color: #434B5C;\n",
              "      box-shadow: 0px 1px 3px 1px rgba(0, 0, 0, 0.15);\n",
              "      filter: drop-shadow(0px 1px 2px rgba(0, 0, 0, 0.3));\n",
              "      fill: #FFFFFF;\n",
              "    }\n",
              "  </style>\n",
              "\n",
              "    <script>\n",
              "      const buttonEl =\n",
              "        document.querySelector('#df-21fbfd50-784a-42a0-931e-2a36b3256d54 button.colab-df-convert');\n",
              "      buttonEl.style.display =\n",
              "        google.colab.kernel.accessAllowed ? 'block' : 'none';\n",
              "\n",
              "      async function convertToInteractive(key) {\n",
              "        const element = document.querySelector('#df-21fbfd50-784a-42a0-931e-2a36b3256d54');\n",
              "        const dataTable =\n",
              "          await google.colab.kernel.invokeFunction('convertToInteractive',\n",
              "                                                    [key], {});\n",
              "        if (!dataTable) return;\n",
              "\n",
              "        const docLinkHtml = 'Like what you see? Visit the ' +\n",
              "          '<a target=\"_blank\" href=https://colab.research.google.com/notebooks/data_table.ipynb>data table notebook</a>'\n",
              "          + ' to learn more about interactive tables.';\n",
              "        element.innerHTML = '';\n",
              "        dataTable['output_type'] = 'display_data';\n",
              "        await google.colab.output.renderOutput(dataTable, element);\n",
              "        const docLink = document.createElement('div');\n",
              "        docLink.innerHTML = docLinkHtml;\n",
              "        element.appendChild(docLink);\n",
              "      }\n",
              "    </script>\n",
              "  </div>\n",
              "\n",
              "\n",
              "<div id=\"df-09281d33-90d5-4d77-9de4-9d864ff42d36\">\n",
              "  <button class=\"colab-df-quickchart\" onclick=\"quickchart('df-09281d33-90d5-4d77-9de4-9d864ff42d36')\"\n",
              "            title=\"Suggest charts.\"\n",
              "            style=\"display:none;\">\n",
              "\n",
              "<svg xmlns=\"http://www.w3.org/2000/svg\" height=\"24px\"viewBox=\"0 0 24 24\"\n",
              "     width=\"24px\">\n",
              "    <g>\n",
              "        <path d=\"M19 3H5c-1.1 0-2 .9-2 2v14c0 1.1.9 2 2 2h14c1.1 0 2-.9 2-2V5c0-1.1-.9-2-2-2zM9 17H7v-7h2v7zm4 0h-2V7h2v10zm4 0h-2v-4h2v4z\"/>\n",
              "    </g>\n",
              "</svg>\n",
              "  </button>\n",
              "\n",
              "<style>\n",
              "  .colab-df-quickchart {\n",
              "      --bg-color: #E8F0FE;\n",
              "      --fill-color: #1967D2;\n",
              "      --hover-bg-color: #E2EBFA;\n",
              "      --hover-fill-color: #174EA6;\n",
              "      --disabled-fill-color: #AAA;\n",
              "      --disabled-bg-color: #DDD;\n",
              "  }\n",
              "\n",
              "  [theme=dark] .colab-df-quickchart {\n",
              "      --bg-color: #3B4455;\n",
              "      --fill-color: #D2E3FC;\n",
              "      --hover-bg-color: #434B5C;\n",
              "      --hover-fill-color: #FFFFFF;\n",
              "      --disabled-bg-color: #3B4455;\n",
              "      --disabled-fill-color: #666;\n",
              "  }\n",
              "\n",
              "  .colab-df-quickchart {\n",
              "    background-color: var(--bg-color);\n",
              "    border: none;\n",
              "    border-radius: 50%;\n",
              "    cursor: pointer;\n",
              "    display: none;\n",
              "    fill: var(--fill-color);\n",
              "    height: 32px;\n",
              "    padding: 0;\n",
              "    width: 32px;\n",
              "  }\n",
              "\n",
              "  .colab-df-quickchart:hover {\n",
              "    background-color: var(--hover-bg-color);\n",
              "    box-shadow: 0 1px 2px rgba(60, 64, 67, 0.3), 0 1px 3px 1px rgba(60, 64, 67, 0.15);\n",
              "    fill: var(--button-hover-fill-color);\n",
              "  }\n",
              "\n",
              "  .colab-df-quickchart-complete:disabled,\n",
              "  .colab-df-quickchart-complete:disabled:hover {\n",
              "    background-color: var(--disabled-bg-color);\n",
              "    fill: var(--disabled-fill-color);\n",
              "    box-shadow: none;\n",
              "  }\n",
              "\n",
              "  .colab-df-spinner {\n",
              "    border: 2px solid var(--fill-color);\n",
              "    border-color: transparent;\n",
              "    border-bottom-color: var(--fill-color);\n",
              "    animation:\n",
              "      spin 1s steps(1) infinite;\n",
              "  }\n",
              "\n",
              "  @keyframes spin {\n",
              "    0% {\n",
              "      border-color: transparent;\n",
              "      border-bottom-color: var(--fill-color);\n",
              "      border-left-color: var(--fill-color);\n",
              "    }\n",
              "    20% {\n",
              "      border-color: transparent;\n",
              "      border-left-color: var(--fill-color);\n",
              "      border-top-color: var(--fill-color);\n",
              "    }\n",
              "    30% {\n",
              "      border-color: transparent;\n",
              "      border-left-color: var(--fill-color);\n",
              "      border-top-color: var(--fill-color);\n",
              "      border-right-color: var(--fill-color);\n",
              "    }\n",
              "    40% {\n",
              "      border-color: transparent;\n",
              "      border-right-color: var(--fill-color);\n",
              "      border-top-color: var(--fill-color);\n",
              "    }\n",
              "    60% {\n",
              "      border-color: transparent;\n",
              "      border-right-color: var(--fill-color);\n",
              "    }\n",
              "    80% {\n",
              "      border-color: transparent;\n",
              "      border-right-color: var(--fill-color);\n",
              "      border-bottom-color: var(--fill-color);\n",
              "    }\n",
              "    90% {\n",
              "      border-color: transparent;\n",
              "      border-bottom-color: var(--fill-color);\n",
              "    }\n",
              "  }\n",
              "</style>\n",
              "\n",
              "  <script>\n",
              "    async function quickchart(key) {\n",
              "      const quickchartButtonEl =\n",
              "        document.querySelector('#' + key + ' button');\n",
              "      quickchartButtonEl.disabled = true;  // To prevent multiple clicks.\n",
              "      quickchartButtonEl.classList.add('colab-df-spinner');\n",
              "      try {\n",
              "        const charts = await google.colab.kernel.invokeFunction(\n",
              "            'suggestCharts', [key], {});\n",
              "      } catch (error) {\n",
              "        console.error('Error during call to suggestCharts:', error);\n",
              "      }\n",
              "      quickchartButtonEl.classList.remove('colab-df-spinner');\n",
              "      quickchartButtonEl.classList.add('colab-df-quickchart-complete');\n",
              "    }\n",
              "    (() => {\n",
              "      let quickchartButtonEl =\n",
              "        document.querySelector('#df-09281d33-90d5-4d77-9de4-9d864ff42d36 button');\n",
              "      quickchartButtonEl.style.display =\n",
              "        google.colab.kernel.accessAllowed ? 'block' : 'none';\n",
              "    })();\n",
              "  </script>\n",
              "</div>\n",
              "    </div>\n",
              "  </div>\n"
            ]
          },
          "metadata": {},
          "execution_count": 11
        }
      ]
    },
    {
      "cell_type": "markdown",
      "source": [
        "### 1 - Average Method"
      ],
      "metadata": {
        "id": "OUREkFX-miSf"
      }
    },
    {
      "cell_type": "code",
      "source": [
        "# Calculate the average (mean) of the train set\n",
        "numerador = train['Pasajeros'].sum()\n",
        "denominador = len(train)\n",
        "resultado = numerador / denominador\n",
        "\n",
        "# Assign the mean to a new column in the test set\n",
        "test['prediccion_Average_M'] = resultado\n",
        "test.head()\n",
        "\n",
        "# Ploteamos\n",
        "plt.figure(figsize=(14,6))\n",
        "plt.grid()\n",
        "plt.plot(train['Pasajeros'], label='Train')\n",
        "plt.plot(test['Pasajeros'], label='Test')\n",
        "plt.plot(test['prediccion_Average_M'], label='Average Method')\n",
        "plt.legend(loc='best')\n",
        "plt.title('Average Method')\n",
        "plt.show()"
      ],
      "metadata": {
        "id": "CCzZ5Ba_mlin",
        "outputId": "51018570-8a53-43ab-8c45-a942d3e7b858",
        "colab": {
          "base_uri": "https://localhost:8080/",
          "height": 355
        }
      },
      "execution_count": 63,
      "outputs": [
        {
          "output_type": "display_data",
          "data": {
            "text/plain": [
              "<Figure size 1400x600 with 1 Axes>"
            ],
            "image/png": "[encoded data removed]"
          },
          "metadata": {}
        }
      ]
    },
    {
      "cell_type": "code",
      "source": [
        "# Evaluación de la Performance del Pronóstico\n",
        "\n",
        "from sklearn.metrics import mean_absolute_error, mean_absolute_percentage_error\n",
        "import math\n",
        "\n",
        "# Calculo los valores\n",
        "MAE_AV_METHOD = mean_absolute_error(test['Pasajeros'], test['prediccion_Average_M'])\n",
        "RMSE_AV_METHOD = math.sqrt(MAE_AV_METHOD)\n",
        "MAPE_AV_METHOD = mean_absolute_percentage_error(test['Pasajeros'], test['prediccion_Average_M'])\n",
        "\n",
        "# Imprimo los resultados\n",
        "resultados_AV_METHOD = pd.DataFrame({'Metodo':['Average Method'],'MAE':[MAE_AV_METHOD] ,'RMSE': [RMSE_AV_METHOD], 'MAPE': [MAPE_AV_METHOD]})\n",
        "resultados_AV_METHOD = resultados_AV_METHOD[['Metodo', 'MAE','RMSE', 'MAPE']]\n",
        "display(resultados_AV_METHOD)"
      ],
      "metadata": {
        "id": "J2i-nmKmprbv",
        "outputId": "8d36bc1e-a53b-42d8-d5f0-59040d13d9dc",
        "colab": {
          "base_uri": "https://localhost:8080/",
          "height": 80
        }
      },
      "execution_count": 50,
      "outputs": [
        {
          "output_type": "display_data",
          "data": {
            "text/plain": [
              "           Metodo         MAE       RMSE      MAPE\n",
              "0  Average Method  200.362519  14.154947  0.438525"
            ],
            "text/html": [
              "\n",
              "  <div id=\"df-69495330-1531-4a48-ab44-7e492d2aaaf8\" class=\"colab-df-container\">\n",
              "    <div>\n",
              "<style scoped>\n",
              "    .dataframe tbody tr th:only-of-type {\n",
              "        vertical-align: middle;\n",
              "    }\n",
              "\n",
              "    .dataframe tbody tr th {\n",
              "        vertical-align: top;\n",
              "    }\n",
              "\n",
              "    .dataframe thead th {\n",
              "        text-align: right;\n",
              "    }\n",
              "</style>\n",
              "<table border=\"1\" class=\"dataframe\">\n",
              "  <thead>\n",
              "    <tr style=\"text-align: right;\">\n",
              "      <th></th>\n",
              "      <th>Metodo</th>\n",
              "      <th>MAE</th>\n",
              "      <th>RMSE</th>\n",
              "      <th>MAPE</th>\n",
              "    </tr>\n",
              "  </thead>\n",
              "  <tbody>\n",
              "    <tr>\n",
              "      <th>0</th>\n",
              "      <td>Average Method</td>\n",
              "      <td>200.362519</td>\n",
              "      <td>14.154947</td>\n",
              "      <td>0.438525</td>\n",
              "    </tr>\n",
              "  </tbody>\n",
              "</table>\n",
              "</div>\n",
              "    <div class=\"colab-df-buttons\">\n",
              "\n",
              "  <div class=\"colab-df-container\">\n",
              "    <button class=\"colab-df-convert\" onclick=\"convertToInteractive('df-69495330-1531-4a48-ab44-7e492d2aaaf8')\"\n",
              "            title=\"Convert this dataframe to an interactive table.\"\n",
              "            style=\"display:none;\">\n",
              "\n",
              "  <svg xmlns=\"http://www.w3.org/2000/svg\" height=\"24px\" viewBox=\"0 -960 960 960\">\n",
              "    <path d=\"M120-120v-720h720v720H120Zm60-500h600v-160H180v160Zm220 220h160v-160H400v160Zm0 220h160v-160H400v160ZM180-400h160v-160H180v160Zm440 0h160v-160H620v160ZM180-180h160v-160H180v160Zm440 0h160v-160H620v160Z\"/>\n",
              "  </svg>\n",
              "    </button>\n",
              "\n",
              "  <style>\n",
              "    .colab-df-container {\n",
              "      display:flex;\n",
              "      gap: 12px;\n",
              "    }\n",
              "\n",
              "    .colab-df-convert {\n",
              "      background-color: #E8F0FE;\n",
              "      border: none;\n",
              "      border-radius: 50%;\n",
              "      cursor: pointer;\n",
              "      display: none;\n",
              "      fill: #1967D2;\n",
              "      height: 32px;\n",
              "      padding: 0 0 0 0;\n",
              "      width: 32px;\n",
              "    }\n",
              "\n",
              "    .colab-df-convert:hover {\n",
              "      background-color: #E2EBFA;\n",
              "      box-shadow: 0px 1px 2px rgba(60, 64, 67, 0.3), 0px 1px 3px 1px rgba(60, 64, 67, 0.15);\n",
              "      fill: #174EA6;\n",
              "    }\n",
              "\n",
              "    .colab-df-buttons div {\n",
              "      margin-bottom: 4px;\n",
              "    }\n",
              "\n",
              "    [theme=dark] .colab-df-convert {\n",
              "      background-color: #3B4455;\n",
              "      fill: #D2E3FC;\n",
              "    }\n",
              "\n",
              "    [theme=dark] .colab-df-convert:hover {\n",
              "      background-color: #434B5C;\n",
              "      box-shadow: 0px 1px 3px 1px rgba(0, 0, 0, 0.15);\n",
              "      filter: drop-shadow(0px 1px 2px rgba(0, 0, 0, 0.3));\n",
              "      fill: #FFFFFF;\n",
              "    }\n",
              "  </style>\n",
              "\n",
              "    <script>\n",
              "      const buttonEl =\n",
              "        document.querySelector('#df-69495330-1531-4a48-ab44-7e492d2aaaf8 button.colab-df-convert');\n",
              "      buttonEl.style.display =\n",
              "        google.colab.kernel.accessAllowed ? 'block' : 'none';\n",
              "\n",
              "      async function convertToInteractive(key) {\n",
              "        const element = document.querySelector('#df-69495330-1531-4a48-ab44-7e492d2aaaf8');\n",
              "        const dataTable =\n",
              "          await google.colab.kernel.invokeFunction('convertToInteractive',\n",
              "                                                    [key], {});\n",
              "        if (!dataTable) return;\n",
              "\n",
              "        const docLinkHtml = 'Like what you see? Visit the ' +\n",
              "          '<a target=\"_blank\" href=https://colab.research.google.com/notebooks/data_table.ipynb>data table notebook</a>'\n",
              "          + ' to learn more about interactive tables.';\n",
              "        element.innerHTML = '';\n",
              "        dataTable['output_type'] = 'display_data';\n",
              "        await google.colab.output.renderOutput(dataTable, element);\n",
              "        const docLink = document.createElement('div');\n",
              "        docLink.innerHTML = docLinkHtml;\n",
              "        element.appendChild(docLink);\n",
              "      }\n",
              "    </script>\n",
              "  </div>\n",
              "\n",
              "    </div>\n",
              "  </div>\n"
            ]
          },
          "metadata": {}
        }
      ]
    },
    {
      "cell_type": "markdown",
      "source": [
        "### 2 - Naïve Method\n",
        "\n"
      ],
      "metadata": {
        "id": "j7n6zs0Sqe7u"
      }
    },
    {
      "cell_type": "code",
      "source": [
        "test['prediccion_Naive_M'] = train['Pasajeros'][train.shape[0]-1]\n",
        "\n",
        "# Ploteo\n",
        "plt.figure(figsize=(14,6))\n",
        "plt.grid()\n",
        "plt.plot(train['Pasajeros'], label='Train')\n",
        "plt.plot(test['Pasajeros'], label='Test')\n",
        "plt.plot(test['prediccion_Naive_M'], label='Naive Method prediccion')\n",
        "plt.legend(loc='best')\n",
        "plt.title('Naive Method')\n",
        "plt.show()\n"
      ],
      "metadata": {
        "id": "JB0zS3c7qlSW",
        "outputId": "e2e99e69-4548-4b08-f9c1-384a020bd2e0",
        "colab": {
          "base_uri": "https://localhost:8080/",
          "height": 355
        }
      },
      "execution_count": 64,
      "outputs": [
        {
          "output_type": "display_data",
          "data": {
            "text/plain": [
              "<Figure size 1400x600 with 1 Axes>"
            ],
            "image/png": "[encoded data removed]"
          },
          "metadata": {}
        }
      ]
    },
    {
      "cell_type": "code",
      "source": [
        "# Evaluación de la Performance del Pronóstico\n",
        "\n",
        "MAE_NAIVE_METHOD = mean_absolute_error(test['Pasajeros'], test['prediccion_Naive_M'])\n",
        "RMSE_NAIVE_METHOD = math.sqrt(MAE_NAIVE_METHOD)\n",
        "MAPE_NAIVE_METHOD = mean_absolute_percentage_error(test['Pasajeros'], test['prediccion_Naive_M'])\n",
        "\n",
        "# Imprimir Resultados\n",
        "resultados_NAIVE_METHOD = pd.DataFrame({'Metodo':['Naïve Method'],'MAE':[MAE_NAIVE_METHOD] ,'RMSE': [RMSE_NAIVE_METHOD], 'MAPE': [MAPE_NAIVE_METHOD]})\n",
        "resultados_NAIVE_METHOD = resultados_NAIVE_METHOD[['Metodo', 'MAE','RMSE', 'MAPE']]\n",
        "# display(resultados_NAIVE_METHOD)\n",
        "\n",
        "# Impmirlos juntos\n",
        "pd.concat([resultados_AV_METHOD, resultados_NAIVE_METHOD], axis=0)"
      ],
      "metadata": {
        "id": "ISTbNSm0s7Ms",
        "outputId": "b79d582d-f328-4026-eb7d-b0e3b0b67e44",
        "colab": {
          "base_uri": "https://localhost:8080/",
          "height": 112
        }
      },
      "execution_count": 61,
      "outputs": [
        {
          "output_type": "execute_result",
          "data": {
            "text/plain": [
              "           Metodo         MAE       RMSE      MAPE\n",
              "0  Average Method  200.362519  14.154947  0.438525\n",
              "0    Naïve Method   81.448276   9.024870  0.202001"
            ],
            "text/html": [
              "\n",
              "  <div id=\"df-3487df25-c618-4e18-8d5d-c97e5d428a6c\" class=\"colab-df-container\">\n",
              "    <div>\n",
              "<style scoped>\n",
              "    .dataframe tbody tr th:only-of-type {\n",
              "        vertical-align: middle;\n",
              "    }\n",
              "\n",
              "    .dataframe tbody tr th {\n",
              "        vertical-align: top;\n",
              "    }\n",
              "\n",
              "    .dataframe thead th {\n",
              "        text-align: right;\n",
              "    }\n",
              "</style>\n",
              "<table border=\"1\" class=\"dataframe\">\n",
              "  <thead>\n",
              "    <tr style=\"text-align: right;\">\n",
              "      <th></th>\n",
              "      <th>Metodo</th>\n",
              "      <th>MAE</th>\n",
              "      <th>RMSE</th>\n",
              "      <th>MAPE</th>\n",
              "    </tr>\n",
              "  </thead>\n",
              "  <tbody>\n",
              "    <tr>\n",
              "      <th>0</th>\n",
              "      <td>Average Method</td>\n",
              "      <td>200.362519</td>\n",
              "      <td>14.154947</td>\n",
              "      <td>0.438525</td>\n",
              "    </tr>\n",
              "    <tr>\n",
              "      <th>0</th>\n",
              "      <td>Naïve Method</td>\n",
              "      <td>81.448276</td>\n",
              "      <td>9.024870</td>\n",
              "      <td>0.202001</td>\n",
              "    </tr>\n",
              "  </tbody>\n",
              "</table>\n",
              "</div>\n",
              "    <div class=\"colab-df-buttons\">\n",
              "\n",
              "  <div class=\"colab-df-container\">\n",
              "    <button class=\"colab-df-convert\" onclick=\"convertToInteractive('df-3487df25-c618-4e18-8d5d-c97e5d428a6c')\"\n",
              "            title=\"Convert this dataframe to an interactive table.\"\n",
              "            style=\"display:none;\">\n",
              "\n",
              "  <svg xmlns=\"http://www.w3.org/2000/svg\" height=\"24px\" viewBox=\"0 -960 960 960\">\n",
              "    <path d=\"M120-120v-720h720v720H120Zm60-500h600v-160H180v160Zm220 220h160v-160H400v160Zm0 220h160v-160H400v160ZM180-400h160v-160H180v160Zm440 0h160v-160H620v160ZM180-180h160v-160H180v160Zm440 0h160v-160H620v160Z\"/>\n",
              "  </svg>\n",
              "    </button>\n",
              "\n",
              "  <style>\n",
              "    .colab-df-container {\n",
              "      display:flex;\n",
              "      gap: 12px;\n",
              "    }\n",
              "\n",
              "    .colab-df-convert {\n",
              "      background-color: #E8F0FE;\n",
              "      border: none;\n",
              "      border-radius: 50%;\n",
              "      cursor: pointer;\n",
              "      display: none;\n",
              "      fill: #1967D2;\n",
              "      height: 32px;\n",
              "      padding: 0 0 0 0;\n",
              "      width: 32px;\n",
              "    }\n",
              "\n",
              "    .colab-df-convert:hover {\n",
              "      background-color: #E2EBFA;\n",
              "      box-shadow: 0px 1px 2px rgba(60, 64, 67, 0.3), 0px 1px 3px 1px rgba(60, 64, 67, 0.15);\n",
              "      fill: #174EA6;\n",
              "    }\n",
              "\n",
              "    .colab-df-buttons div {\n",
              "      margin-bottom: 4px;\n",
              "    }\n",
              "\n",
              "    [theme=dark] .colab-df-convert {\n",
              "      background-color: #3B4455;\n",
              "      fill: #D2E3FC;\n",
              "    }\n",
              "\n",
              "    [theme=dark] .colab-df-convert:hover {\n",
              "      background-color: #434B5C;\n",
              "      box-shadow: 0px 1px 3px 1px rgba(0, 0, 0, 0.15);\n",
              "      filter: drop-shadow(0px 1px 2px rgba(0, 0, 0, 0.3));\n",
              "      fill: #FFFFFF;\n",
              "    }\n",
              "  </style>\n",
              "\n",
              "    <script>\n",
              "      const buttonEl =\n",
              "        document.querySelector('#df-3487df25-c618-4e18-8d5d-c97e5d428a6c button.colab-df-convert');\n",
              "      buttonEl.style.display =\n",
              "        google.colab.kernel.accessAllowed ? 'block' : 'none';\n",
              "\n",
              "      async function convertToInteractive(key) {\n",
              "        const element = document.querySelector('#df-3487df25-c618-4e18-8d5d-c97e5d428a6c');\n",
              "        const dataTable =\n",
              "          await google.colab.kernel.invokeFunction('convertToInteractive',\n",
              "                                                    [key], {});\n",
              "        if (!dataTable) return;\n",
              "\n",
              "        const docLinkHtml = 'Like what you see? Visit the ' +\n",
              "          '<a target=\"_blank\" href=https://colab.research.google.com/notebooks/data_table.ipynb>data table notebook</a>'\n",
              "          + ' to learn more about interactive tables.';\n",
              "        element.innerHTML = '';\n",
              "        dataTable['output_type'] = 'display_data';\n",
              "        await google.colab.output.renderOutput(dataTable, element);\n",
              "        const docLink = document.createElement('div');\n",
              "        docLink.innerHTML = docLinkHtml;\n",
              "        element.appendChild(docLink);\n",
              "      }\n",
              "    </script>\n",
              "  </div>\n",
              "\n",
              "\n",
              "<div id=\"df-bd14f83c-d5b4-4bb5-943f-b23e8e23dcbe\">\n",
              "  <button class=\"colab-df-quickchart\" onclick=\"quickchart('df-bd14f83c-d5b4-4bb5-943f-b23e8e23dcbe')\"\n",
              "            title=\"Suggest charts.\"\n",
              "            style=\"display:none;\">\n",
              "\n",
              "<svg xmlns=\"http://www.w3.org/2000/svg\" height=\"24px\"viewBox=\"0 0 24 24\"\n",
              "     width=\"24px\">\n",
              "    <g>\n",
              "        <path d=\"M19 3H5c-1.1 0-2 .9-2 2v14c0 1.1.9 2 2 2h14c1.1 0 2-.9 2-2V5c0-1.1-.9-2-2-2zM9 17H7v-7h2v7zm4 0h-2V7h2v10zm4 0h-2v-4h2v4z\"/>\n",
              "    </g>\n",
              "</svg>\n",
              "  </button>\n",
              "\n",
              "<style>\n",
              "  .colab-df-quickchart {\n",
              "      --bg-color: #E8F0FE;\n",
              "      --fill-color: #1967D2;\n",
              "      --hover-bg-color: #E2EBFA;\n",
              "      --hover-fill-color: #174EA6;\n",
              "      --disabled-fill-color: #AAA;\n",
              "      --disabled-bg-color: #DDD;\n",
              "  }\n",
              "\n",
              "  [theme=dark] .colab-df-quickchart {\n",
              "      --bg-color: #3B4455;\n",
              "      --fill-color: #D2E3FC;\n",
              "      --hover-bg-color: #434B5C;\n",
              "      --hover-fill-color: #FFFFFF;\n",
              "      --disabled-bg-color: #3B4455;\n",
              "      --disabled-fill-color: #666;\n",
              "  }\n",
              "\n",
              "  .colab-df-quickchart {\n",
              "    background-color: var(--bg-color);\n",
              "    border: none;\n",
              "    border-radius: 50%;\n",
              "    cursor: pointer;\n",
              "    display: none;\n",
              "    fill: var(--fill-color);\n",
              "    height: 32px;\n",
              "    padding: 0;\n",
              "    width: 32px;\n",
              "  }\n",
              "\n",
              "  .colab-df-quickchart:hover {\n",
              "    background-color: var(--hover-bg-color);\n",
              "    box-shadow: 0 1px 2px rgba(60, 64, 67, 0.3), 0 1px 3px 1px rgba(60, 64, 67, 0.15);\n",
              "    fill: var(--button-hover-fill-color);\n",
              "  }\n",
              "\n",
              "  .colab-df-quickchart-complete:disabled,\n",
              "  .colab-df-quickchart-complete:disabled:hover {\n",
              "    background-color: var(--disabled-bg-color);\n",
              "    fill: var(--disabled-fill-color);\n",
              "    box-shadow: none;\n",
              "  }\n",
              "\n",
              "  .colab-df-spinner {\n",
              "    border: 2px solid var(--fill-color);\n",
              "    border-color: transparent;\n",
              "    border-bottom-color: var(--fill-color);\n",
              "    animation:\n",
              "      spin 1s steps(1) infinite;\n",
              "  }\n",
              "\n",
              "  @keyframes spin {\n",
              "    0% {\n",
              "      border-color: transparent;\n",
              "      border-bottom-color: var(--fill-color);\n",
              "      border-left-color: var(--fill-color);\n",
              "    }\n",
              "    20% {\n",
              "      border-color: transparent;\n",
              "      border-left-color: var(--fill-color);\n",
              "      border-top-color: var(--fill-color);\n",
              "    }\n",
              "    30% {\n",
              "      border-color: transparent;\n",
              "      border-left-color: var(--fill-color);\n",
              "      border-top-color: var(--fill-color);\n",
              "      border-right-color: var(--fill-color);\n",
              "    }\n",
              "    40% {\n",
              "      border-color: transparent;\n",
              "      border-right-color: var(--fill-color);\n",
              "      border-top-color: var(--fill-color);\n",
              "    }\n",
              "    60% {\n",
              "      border-color: transparent;\n",
              "      border-right-color: var(--fill-color);\n",
              "    }\n",
              "    80% {\n",
              "      border-color: transparent;\n",
              "      border-right-color: var(--fill-color);\n",
              "      border-bottom-color: var(--fill-color);\n",
              "    }\n",
              "    90% {\n",
              "      border-color: transparent;\n",
              "      border-bottom-color: var(--fill-color);\n",
              "    }\n",
              "  }\n",
              "</style>\n",
              "\n",
              "  <script>\n",
              "    async function quickchart(key) {\n",
              "      const quickchartButtonEl =\n",
              "        document.querySelector('#' + key + ' button');\n",
              "      quickchartButtonEl.disabled = true;  // To prevent multiple clicks.\n",
              "      quickchartButtonEl.classList.add('colab-df-spinner');\n",
              "      try {\n",
              "        const charts = await google.colab.kernel.invokeFunction(\n",
              "            'suggestCharts', [key], {});\n",
              "      } catch (error) {\n",
              "        console.error('Error during call to suggestCharts:', error);\n",
              "      }\n",
              "      quickchartButtonEl.classList.remove('colab-df-spinner');\n",
              "      quickchartButtonEl.classList.add('colab-df-quickchart-complete');\n",
              "    }\n",
              "    (() => {\n",
              "      let quickchartButtonEl =\n",
              "        document.querySelector('#df-bd14f83c-d5b4-4bb5-943f-b23e8e23dcbe button');\n",
              "      quickchartButtonEl.style.display =\n",
              "        google.colab.kernel.accessAllowed ? 'block' : 'none';\n",
              "    })();\n",
              "  </script>\n",
              "</div>\n",
              "    </div>\n",
              "  </div>\n"
            ]
          },
          "metadata": {},
          "execution_count": 61
        }
      ]
    }
  ],
  "metadata": {
    "colab": {
      "name": "scratchpad",
      "provenance": [],
      "include_colab_link": true
    },
    "kernelspec": {
      "display_name": "Python 3",
      "name": "python3"
    }
  },
  "nbformat": 4,
  "nbformat_minor": 0
}
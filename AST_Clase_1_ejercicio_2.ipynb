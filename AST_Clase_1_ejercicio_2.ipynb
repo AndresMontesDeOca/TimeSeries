{
  "nbformat": 4,
  "nbformat_minor": 0,
  "metadata": {
    "colab": {
      "provenance": [],
      "include_colab_link": true
    },
    "kernelspec": {
      "name": "python3",
      "display_name": "Python 3"
    },
    "language_info": {
      "name": "python"
    }
  },
  "cells": [
    {
      "cell_type": "markdown",
      "metadata": {
        "id": "view-in-github",
        "colab_type": "text"
      },
      "source": [
        "<a href=\"https://colab.research.google.com/github/AndresMontesDeOca/TimeSeries/blob/main/AST_Clase_1_ejercicio_2.ipynb\" target=\"_parent\"><img src=\"https://colab.research.google.com/assets/colab-badge.svg\" alt=\"Open In Colab\"/></a>"
      ]
    },
    {
      "cell_type": "markdown",
      "source": [
        "<div class=\"alert alert-block alert-info\">\n",
        "    <h1>Análisis de Series Temporales - 2023</h1>\n",
        "    <h3>Clase 1</h3>\n",
        "    <h5>Ejercicio 2</h5>\n",
        "        <p>Docente: Rodrigo Del Rosso<p>\n",
        "        <p>Asistentes: Sebastián Calcagno y Braian Drago <p>\n",
        "</div>"
      ],
      "metadata": {
        "id": "TOsI7JmJ4n94"
      }
    },
    {
      "cell_type": "code",
      "source": [
        "import numpy as np\n",
        "import pandas as pd\n",
        "from statsmodels.graphics.tsaplots import plot_acf\n",
        "\n",
        "import matplotlib.pyplot as plt\n",
        "from matplotlib import rcParams\n",
        "from cycler import cycler"
      ],
      "metadata": {
        "id": "el8BKmBT4oMT"
      },
      "execution_count": null,
      "outputs": []
    },
    {
      "cell_type": "code",
      "source": [
        "rcParams['figure.figsize']= 14, 5\n",
        "rcParams['axes.spines.top']= False\n",
        "rcParams['axes.spines.right']= False\n",
        "rcParams['axes.prop_cycle']= cycler(color=['#101010'])\n",
        "rcParams['lines.linewidth']= 2"
      ],
      "metadata": {
        "id": "ofI3TvJDK9y7"
      },
      "execution_count": null,
      "outputs": []
    },
    {
      "cell_type": "code",
      "source": [
        "from IPython import display\n",
        "display.set_matplotlib_formats(\"svg\")"
      ],
      "metadata": {
        "id": "vaIAoGsML1k5"
      },
      "execution_count": null,
      "outputs": []
    },
    {
      "cell_type": "markdown",
      "source": [
        "**RUIDO BLANCO**"
      ],
      "metadata": {
        "id": "7hfnVPGspd2F"
      }
    },
    {
      "cell_type": "code",
      "source": [
        "ruido_blanco = np.random.randn(1000)"
      ],
      "metadata": {
        "id": "teM3aLElMLf3"
      },
      "execution_count": null,
      "outputs": []
    },
    {
      "cell_type": "code",
      "source": [
        "plt.title(\"Grafico Ruido blanco\", size=20)\n",
        "plt.plot(np.arange(len(ruido_blanco)),ruido_blanco)"
      ],
      "metadata": {
        "id": "Xot25W4EMdQQ"
      },
      "execution_count": null,
      "outputs": []
    },
    {
      "cell_type": "code",
      "source": [
        "ruido_blanco_chunks = np.split(ruido_blanco, 20)\n",
        "means, stds = [], []\n",
        "\n",
        "for chunk in ruido_blanco_chunks:\n",
        "    means.append(np.mean(chunk))\n",
        "    stds.append(np.std(chunk))\n",
        "\n",
        "plt.title('Comparacion de media y desvio standard en Ruido Blanco', size=25)\n",
        "plt.plot(np.arange(len(means)), [ruido_blanco.mean()] * len(means), label='Global mean', lw=1.5)\n",
        "plt.scatter(x=np.arange(len(means)), y=means, label='Mean', s=100)\n",
        "plt.plot(np.arange(len(stds)), [ruido_blanco.std()] * len(stds), label='Global std', lw=1.5, color='green')\n",
        "plt.scatter(x=np.arange(len(stds)), y=stds, label='STD', s=100, color='green')\n",
        "plt.legend();"
      ],
      "metadata": {
        "id": "h8iUu2W9Z2Qj"
      },
      "execution_count": null,
      "outputs": []
    },
    {
      "cell_type": "code",
      "source": [
        "plot_acf(np.array(ruido_blanco));"
      ],
      "metadata": {
        "id": "Z51QHgrjZ1Z4"
      },
      "execution_count": null,
      "outputs": []
    },
    {
      "cell_type": "markdown",
      "source": [
        "Camino aleatorio"
      ],
      "metadata": {
        "id": "Ng_w_iwbp0MO"
      }
    },
    {
      "cell_type": "code",
      "source": [
        "random_walk = [0]\n",
        "\n",
        "for i in range(1,1000):\n",
        "  num= -1 if np.random.random() < 0.5 else 1\n",
        "  random_walk.append(random_walk[-1] + num)\n",
        "\n",
        "plt.title('Grafico de Random Walk', size=20)\n",
        "plt.plot(np.arange(len(random_walk)), random_walk);"
      ],
      "metadata": {
        "id": "hjeu6aTDbbC6"
      },
      "execution_count": null,
      "outputs": []
    },
    {
      "cell_type": "code",
      "source": [
        "plot_acf(np.array(random_walk));"
      ],
      "metadata": {
        "id": "j4xAJqxbcR56"
      },
      "execution_count": null,
      "outputs": []
    },
    {
      "cell_type": "code",
      "source": [
        "s_random_walk = pd.Series(random_walk)\n",
        "s_random_walk_diff = s_random_walk.diff().dropna()"
      ],
      "metadata": {
        "id": "K2wBEVytdLYx"
      },
      "execution_count": null,
      "outputs": []
    },
    {
      "cell_type": "code",
      "source": [
        "plot_acf(np.array(s_random_walk_diff));"
      ],
      "metadata": {
        "id": "8-crR1JGeWnl"
      },
      "execution_count": null,
      "outputs": []
    },
    {
      "cell_type": "markdown",
      "source": [
        "Datos históricos del mercado\n",
        "\n",
        "https://pypi.org/project/yfinance/"
      ],
      "metadata": {
        "id": "hUYa05PWqI-h"
      }
    },
    {
      "cell_type": "code",
      "source": [
        "#   !pip install yfinance\n",
        "#   !pip install mplfinance"
      ],
      "metadata": {
        "id": "L7Lnn-CxSW3T"
      },
      "execution_count": null,
      "outputs": []
    },
    {
      "cell_type": "code",
      "source": [
        "from datetime import datetime\n",
        "import yfinance as yf\n",
        "import mplfinance as mpf\n",
        "start_date = datetime(2022, 1, 1)\n",
        "end_date = datetime(2022, 12, 31)\n",
        "data = yf.download('MSFT', start=start_date, end=end_date)"
      ],
      "metadata": {
        "id": "pQ8C4pZESZJ_"
      },
      "execution_count": null,
      "outputs": []
    },
    {
      "cell_type": "code",
      "source": [
        "data2 = data[\"Open\"]"
      ],
      "metadata": {
        "id": "A_i7gKerU2b2"
      },
      "execution_count": null,
      "outputs": []
    },
    {
      "cell_type": "code",
      "source": [
        "data2.plot()"
      ],
      "metadata": {
        "id": "MCgS__hmUe55"
      },
      "execution_count": null,
      "outputs": []
    },
    {
      "cell_type": "code",
      "source": [
        "plot_acf(np.array(data2));"
      ],
      "metadata": {
        "id": "UAAEchW8VloC"
      },
      "execution_count": null,
      "outputs": []
    },
    {
      "cell_type": "code",
      "source": [
        "s_data2 = pd.Series(data2)\n",
        "s_data2_diff = s_data2.diff().dropna()"
      ],
      "metadata": {
        "id": "fqALgI2RVsIe"
      },
      "execution_count": null,
      "outputs": []
    },
    {
      "cell_type": "code",
      "source": [
        "plot_acf(np.array(s_data2_diff));"
      ],
      "metadata": {
        "id": "XNjoIgSQV2Ww"
      },
      "execution_count": null,
      "outputs": []
    },
    {
      "cell_type": "markdown",
      "source": [
        "<body>\n",
        "  <h1> Fin ejercicio! </h1>\n",
        "</body>"
      ],
      "metadata": {
        "id": "-vMHky_qrwjT"
      }
    }
  ]
}
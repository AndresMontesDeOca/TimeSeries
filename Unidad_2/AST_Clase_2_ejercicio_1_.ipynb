{
  "nbformat": 4,
  "nbformat_minor": 0,
  "metadata": {
    "colab": {
      "provenance": [],
      "include_colab_link": true
    },
    "kernelspec": {
      "name": "python3",
      "display_name": "Python 3"
    },
    "language_info": {
      "name": "python"
    }
  },
  "cells": [
    {
      "cell_type": "markdown",
      "metadata": {
        "id": "view-in-github",
        "colab_type": "text"
      },
      "source": [
        "<a href=\"https://colab.research.google.com/github/AndresMontesDeOca/TimeSeries/blob/main/Unidad_2/AST_Clase_2_ejercicio_1_.ipynb\" target=\"_parent\"><img src=\"https://colab.research.google.com/assets/colab-badge.svg\" alt=\"Open In Colab\"/></a>"
      ]
    },
    {
      "cell_type": "markdown",
      "source": [
        "<div class=\"alert alert-block alert-info\">\n",
        "    <h1>Análisis de Series Temporales - 2023</h1>\n",
        "    <h3>Clase 2</h3>\n",
        "    <h5>Ejercicio 1</h5>\n",
        "        <p>Docente: Rodrigo Del Rosso<p>\n",
        "        <p>Asistentes: Sebastián Calcagno y Braian Drago <p>\n",
        "</div>"
      ],
      "metadata": {
        "id": "g3qqv6dROyS7"
      }
    },
    {
      "cell_type": "code",
      "source": [
        "import pandas as pd\n",
        "import numpy as np\n",
        "import seaborn as sns\n",
        "import matplotlib.pyplot as plt\n",
        "from statsmodels.graphics.tsaplots import plot_acf, plot_pacf\n",
        "import statsmodels.graphics.tsaplots as sgt\n",
        "\n",
        "import warnings\n",
        "warnings.filterwarnings('ignore')"
      ],
      "metadata": {
        "id": "mFcTGJNXO_8J"
      },
      "execution_count": null,
      "outputs": []
    },
    {
      "cell_type": "markdown",
      "source": [
        "Leemos los datos a trabajar\n"
      ],
      "metadata": {
        "id": "6gr6z9EpPHLO"
      }
    },
    {
      "cell_type": "code",
      "source": [
        "url='https://raw.githubusercontent.com/sebcalcagno/AnalisisSeriesTemporales/main/series.csv'\n",
        "data = pd.read_csv(url)"
      ],
      "metadata": {
        "id": "wFvXAB9_PHje"
      },
      "execution_count": null,
      "outputs": []
    },
    {
      "cell_type": "code",
      "source": [
        "data['date'] = pd.to_datetime(data['date'])\n",
        "data.index = data['date']\n",
        "del data['date']"
      ],
      "metadata": {
        "id": "2ETTOox2fOff"
      },
      "execution_count": null,
      "outputs": []
    },
    {
      "cell_type": "code",
      "source": [
        "data=data.asfreq('d')\n",
        "data.head()"
      ],
      "metadata": {
        "id": "16U0JVi-5SnU"
      },
      "execution_count": null,
      "outputs": []
    },
    {
      "cell_type": "code",
      "source": [
        "data.drop('x1', inplace=True, axis=1)\n",
        "data.drop('x2', inplace=True, axis=1)\n",
        "data.drop('x4', inplace=True, axis=1)\n",
        "data.drop('x5', inplace=True, axis=1)\n",
        "data.drop('x6', inplace=True, axis=1)"
      ],
      "metadata": {
        "id": "RjnnZWPHgkr6"
      },
      "execution_count": null,
      "outputs": []
    },
    {
      "cell_type": "code",
      "source": [
        "data.rename({'x3': 'analisis'}, axis=1,inplace=True)"
      ],
      "metadata": {
        "id": "-Ek_xdVHOADk"
      },
      "execution_count": null,
      "outputs": []
    },
    {
      "cell_type": "code",
      "source": [
        "result = type(data)\n",
        "print(result)"
      ],
      "metadata": {
        "id": "2DONT9aShOIV"
      },
      "execution_count": null,
      "outputs": []
    },
    {
      "cell_type": "code",
      "source": [
        "data.describe()"
      ],
      "metadata": {
        "id": "t8YZkH6FPb7y"
      },
      "execution_count": null,
      "outputs": []
    },
    {
      "cell_type": "code",
      "source": [
        "sns.distplot(data.analisis,bins=20,color='#fcba03')\n",
        "plt.title('Histograma de la Serie')"
      ],
      "metadata": {
        "id": "6vGb-XXwQ5da"
      },
      "execution_count": null,
      "outputs": []
    },
    {
      "cell_type": "code",
      "source": [
        "import scipy.stats\n",
        "import pylab"
      ],
      "metadata": {
        "id": "dMWwIFpBRD4H"
      },
      "execution_count": null,
      "outputs": []
    },
    {
      "cell_type": "code",
      "source": [
        "scipy.stats.probplot(data.analisis, plot = pylab)\n",
        "plt.title(\"QQ Plot\", size = 24)\n",
        "pylab.show()"
      ],
      "metadata": {
        "id": "cg7g2IesRFge"
      },
      "execution_count": null,
      "outputs": []
    },
    {
      "cell_type": "code",
      "source": [
        "data.plot(figsize=(20,5), title = \"Serie original\")\n",
        "plt.show()"
      ],
      "metadata": {
        "id": "jToasngsRQNK"
      },
      "execution_count": null,
      "outputs": []
    },
    {
      "cell_type": "code",
      "source": [
        "data_diff=data.copy()\n",
        "data_diff=data_diff.diff(axis = 0, periods = 1)\n",
        "data_diff.drop(['2021-11-28\t'], inplace=True)"
      ],
      "metadata": {
        "id": "0ICRfjmKRSqy"
      },
      "execution_count": null,
      "outputs": []
    },
    {
      "cell_type": "code",
      "source": [
        "data_diff.head()"
      ],
      "metadata": {
        "id": "8AQMk0KsRdQM"
      },
      "execution_count": null,
      "outputs": []
    },
    {
      "cell_type": "code",
      "source": [
        "data_diff.analisis.plot(figsize=(20,5), title = \"Serie diferenciada\")\n",
        "plt.show()"
      ],
      "metadata": {
        "id": "yDd5wLU7RfNA"
      },
      "execution_count": null,
      "outputs": []
    },
    {
      "cell_type": "code",
      "source": [
        "plt.figure(figsize=(16, 8), dpi=110)\n",
        "\n",
        "data['analisis'].plot(label='Serie original', color='orange')\n",
        "data_diff['analisis'].plot(label='Serie diferenciada')\n",
        "\n",
        "plt.title('Graficos de las series')\n",
        "\n",
        "plt.xlabel('Tiempo')\n",
        "\n",
        "plt.legend()"
      ],
      "metadata": {
        "id": "fSvqghIHRhvw"
      },
      "execution_count": null,
      "outputs": []
    },
    {
      "cell_type": "markdown",
      "source": [
        "# Graficos serie original"
      ],
      "metadata": {
        "id": "o68eEzyGCE3b"
      }
    },
    {
      "cell_type": "code",
      "source": [
        "def autocovariance(series, lag):\n",
        "    n = len(series)\n",
        "    mean = np.mean(series)\n",
        "    covar_sum = 0\n",
        "\n",
        "    for t in range(lag, n):\n",
        "        covar_sum += (series[t] - mean) * (series[t - lag] - mean)\n",
        "\n",
        "    return covar_sum / (n - lag)\n",
        "\n",
        "time_series = data.analisis\n",
        "\n",
        "# Calcular autocovarianza para 20 retrasos (lags)\n",
        "lags = range(20)\n",
        "\n",
        "autocovars = [autocovariance(time_series, lag) for lag in lags]\n",
        "\n",
        "# Graficar la función de autocovarianza\n",
        "plt.bar(lags, autocovars)\n",
        "plt.xlabel('Lags')\n",
        "plt.ylabel('Autocovarianza')\n",
        "plt.title('Funcion de Autocovarianza')\n",
        "plt.show()"
      ],
      "metadata": {
        "id": "XBYak6VkDS0_"
      },
      "execution_count": null,
      "outputs": []
    },
    {
      "cell_type": "code",
      "source": [
        "sgt.plot_acf(data.analisis, zero = True, lags = 20)\n",
        "plt.title(\"ACF para la serie original\", size = 20)\n",
        "plt.show()"
      ],
      "metadata": {
        "id": "9FH_mlT3Rkey"
      },
      "execution_count": null,
      "outputs": []
    },
    {
      "cell_type": "markdown",
      "source": [
        "*COMENTARIO NUEVO 1*\n",
        "\n",
        "Una vez mas, vemos la grafica de la funcion de autocorrelacion que muestra cómo las observaciones en una serie de datos se relacionan entre sí a medida que se desplazan en el tiempo. Ayuda a identificar patrones de repetición en los datos.La relacion en cada momento es directa e indirecta con respecto al momento 0.\n",
        "Con esta grafica, podemos llegar a tener una primera aproximacion de presencia o no de estacionariedad."
      ],
      "metadata": {
        "id": "tyIDk5liGSfR"
      }
    },
    {
      "cell_type": "code",
      "source": [
        "sgt.plot_pacf(data.analisis, lags = 20, alpha = 0.05,  method = ('ols'))\n",
        "plt.title(\"PACF para la serie original\", size = 20)\n",
        "plt.show()"
      ],
      "metadata": {
        "id": "GBQyks3WFsJ8"
      },
      "execution_count": null,
      "outputs": []
    },
    {
      "cell_type": "markdown",
      "source": [
        "*COMENTARIO NUEVO 2*\n",
        "\n",
        "En este caso, la grafica es de una funcion de autocorrelacion parcial ( PACF = \"Partial Autocorrelation Function ). La misma ayuda a identificar relaciones directas entre observaciones separadas en el tiempo, eliminando efectos indirectos. Cuando estamos trabajando con modelos autoregresivos, nos puede mostrar el orden del mismo."
      ],
      "metadata": {
        "id": "fHTbUHWRGUgv"
      }
    },
    {
      "cell_type": "markdown",
      "source": [
        "# Graficos serie original diferenciada"
      ],
      "metadata": {
        "id": "147SbmWGF1kt"
      }
    },
    {
      "cell_type": "code",
      "source": [
        "sgt.plot_acf(data_diff.analisis, zero = False, lags = 40)\n",
        "plt.title(\"ACF para la diferencia de la serie original\", size = 20)\n",
        "plt.show()"
      ],
      "metadata": {
        "id": "7w9KXKfcGCaa"
      },
      "execution_count": null,
      "outputs": []
    },
    {
      "cell_type": "code",
      "source": [
        "sgt.plot_pacf(data_diff.analisis, lags = 40, alpha = 0.05, zero = False)\n",
        "plt.title(\"PACF de la diferencia de la serie original\", size = 20)\n",
        "plt.show()"
      ],
      "metadata": {
        "id": "b3D3PVGkGVKE"
      },
      "execution_count": null,
      "outputs": []
    },
    {
      "cell_type": "markdown",
      "source": [
        "# Modelo Autorregresivo de orden 1"
      ],
      "metadata": {
        "id": "MNrDqYoIRtkr"
      }
    },
    {
      "cell_type": "code",
      "source": [
        "from statsmodels.tsa.arima_model import ARMA\n",
        "import statsmodels.api as sm"
      ],
      "metadata": {
        "id": "Zce-lmJFRwmi"
      },
      "execution_count": null,
      "outputs": []
    },
    {
      "cell_type": "code",
      "source": [
        "model = sm.tsa.arima.ARIMA(data.analisis, order=((1),0,0))\n",
        "result = model.fit()"
      ],
      "metadata": {
        "id": "8qg6-E7o9b90"
      },
      "execution_count": null,
      "outputs": []
    },
    {
      "cell_type": "code",
      "source": [
        "result.summary()"
      ],
      "metadata": {
        "id": "0XvJM1uFjBt-"
      },
      "execution_count": null,
      "outputs": []
    },
    {
      "cell_type": "code",
      "source": [
        "result.arroots"
      ],
      "metadata": {
        "id": "bTwE55jIwXyI"
      },
      "execution_count": null,
      "outputs": []
    },
    {
      "cell_type": "code",
      "source": [],
      "metadata": {
        "id": "TeL5sH3t3cxA"
      },
      "execution_count": null,
      "outputs": []
    },
    {
      "cell_type": "code",
      "source": [
        "print(f\"La raiz REAL del modelo condicionado a un AR(1)  es= {result.arroots} \\n vemos que es en modulo mayor a 1. Es decir, es estacionaria \")"
      ],
      "metadata": {
        "id": "bcxrLHSvRf-y"
      },
      "execution_count": null,
      "outputs": []
    },
    {
      "cell_type": "code",
      "source": [
        "print(f\"Los parametros que arroja el modelo son= \\n {result.params} \")"
      ],
      "metadata": {
        "id": "fmOyWToNkiMu"
      },
      "execution_count": null,
      "outputs": []
    },
    {
      "cell_type": "code",
      "source": [
        "print(f\"Los criterios de informacion que arroja el modelo son \\n -Akaike= {result.aic} \\n -Bayesiano= {result.bic} \\n -Hannan-Quinn {result.hqic}\")"
      ],
      "metadata": {
        "id": "d4VY2qOx9jMA"
      },
      "execution_count": null,
      "outputs": []
    },
    {
      "cell_type": "markdown",
      "source": [
        "Presentacion de los residuos del modelo"
      ],
      "metadata": {
        "id": "wGNADIQFR67i"
      }
    },
    {
      "cell_type": "code",
      "source": [
        "print(f\" La media de los residuos del modelo es=  {result.resid.mean()}\")"
      ],
      "metadata": {
        "id": "H7xKTdcbu5i1"
      },
      "execution_count": null,
      "outputs": []
    },
    {
      "cell_type": "code",
      "source": [
        "print(f\" La varianza de los residuos del modelo es=  {result.resid.var()}\")"
      ],
      "metadata": {
        "id": "OiQJFpZyvRuV"
      },
      "execution_count": null,
      "outputs": []
    },
    {
      "cell_type": "code",
      "source": [
        "result.resid.plot(figsize=(20,5))\n",
        "plt.title(\"Residuos del modelo\",size=24)\n",
        "plt.show()"
      ],
      "metadata": {
        "id": "rL78nQP_SD3m"
      },
      "execution_count": null,
      "outputs": []
    },
    {
      "cell_type": "markdown",
      "source": [
        "*COMENTARIO NUEVO 3*\n",
        "\n",
        "En el gráfico, se presentan los residuos del modelo. Para validar la elección adecuada del modelo, es fundamental que los resultados de estos residuos cumplan con la propiedad de \"ruido blanco\". Es recomendable enfatizar este concepto y aclarar cualquier pregunta o inquietud que puedan surgir al respecto. Estoy a disposición para responder cualquier consulta sin ningún problema."
      ],
      "metadata": {
        "id": "CfpdNgzLGXCI"
      }
    },
    {
      "cell_type": "code",
      "source": [
        "sns.distplot(result.resid,bins=12,color='#fcba03')\n",
        "plt.title('Histograma de los residuos del modelo')"
      ],
      "metadata": {
        "id": "7LLvcYzXvoy6"
      },
      "execution_count": null,
      "outputs": []
    },
    {
      "cell_type": "code",
      "source": [
        "import scipy.stats\n",
        "import pylab"
      ],
      "metadata": {
        "id": "pnqUY14j_p_5"
      },
      "execution_count": null,
      "outputs": []
    },
    {
      "cell_type": "code",
      "source": [
        "scipy.stats.probplot(result.resid, plot = pylab)\n",
        "plt.title(\"QQ Plot residuos del modelo\", size = 24)\n",
        "pylab.show()"
      ],
      "metadata": {
        "id": "-IIbAL7V_suU"
      },
      "execution_count": null,
      "outputs": []
    },
    {
      "cell_type": "markdown",
      "source": [
        "*Prueba* Ljung-Box"
      ],
      "metadata": {
        "id": "a2bmHPWCSHxE"
      }
    },
    {
      "cell_type": "code",
      "source": [
        "import statsmodels.api as sm"
      ],
      "metadata": {
        "id": "DB0IEDbiSJDL"
      },
      "execution_count": null,
      "outputs": []
    },
    {
      "cell_type": "code",
      "source": [
        "Incorr_residuos_modelo=sm.stats.acorr_ljungbox(result.resid, lags=30)"
      ],
      "metadata": {
        "id": "2d-IdlxKwTqc"
      },
      "execution_count": null,
      "outputs": []
    },
    {
      "cell_type": "code",
      "source": [
        "Incorr_residuos_modelo"
      ],
      "metadata": {
        "id": "scjQ-WKpwcv3"
      },
      "execution_count": null,
      "outputs": []
    },
    {
      "cell_type": "code",
      "source": [
        "plt.plot(Incorr_residuos_modelo.lb_pvalue, marker='o', markersize=10, linestyle='--', linewidth=1)\n",
        "plt.title(\"Grafico de incorrelacion de los residuos del modelo\")\n",
        "plt.ylabel(\"P-valores \")"
      ],
      "metadata": {
        "id": "GtWbM1DqyvnR"
      },
      "execution_count": null,
      "outputs": []
    },
    {
      "cell_type": "markdown",
      "source": [
        "*COMENTARIO NUEVO 4*\n",
        "\n",
        "Aqui vemos la grafica de incorrelacion de los residuos del modelo, los residuos tienen q estar incorrelacionados. Tienen q ser proxi al ruido blanco. Una forma de analisis es esta grafica para ver esto. En este caso, los residuos no presentan correlacion."
      ],
      "metadata": {
        "id": "XAI3YljQGZF-"
      }
    }
  ]
}
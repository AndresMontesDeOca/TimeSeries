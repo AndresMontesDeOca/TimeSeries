{
  "nbformat": 4,
  "nbformat_minor": 0,
  "metadata": {
    "colab": {
      "provenance": [],
      "include_colab_link": true
    },
    "kernelspec": {
      "name": "python3",
      "display_name": "Python 3"
    },
    "language_info": {
      "name": "python"
    }
  },
  "cells": [
    {
      "cell_type": "markdown",
      "metadata": {
        "id": "view-in-github",
        "colab_type": "text"
      },
      "source": [
        "<a href=\"https://colab.research.google.com/github/AndresMontesDeOca/TimeSeries/blob/main/AST_Clase_1_ejercicio_1.ipynb\" target=\"_parent\"><img src=\"https://colab.research.google.com/assets/colab-badge.svg\" alt=\"Open In Colab\"/></a>"
      ]
    },
    {
      "cell_type": "markdown",
      "source": [
        "<div class=\"alert alert-block alert-info\">\n",
        "    <h1>Análisis de Series Temporales - 2023</h1>\n",
        "    <h3>Clase 1</h3>\n",
        "    <h5>Ejercicio 1</h5>\n",
        "        <p>Docente: Rodrigo Del Rosso<p>\n",
        "        <p>Asistentes: Sebastián Calcagno y Braian Drago <p>\n",
        "</div>"
      ],
      "metadata": {
        "id": "IUTZ2kjJpWjB"
      }
    },
    {
      "cell_type": "markdown",
      "source": [
        "Importamos modulos a utilizar"
      ],
      "metadata": {
        "id": "aVGRBAia0-6Q"
      }
    },
    {
      "cell_type": "code",
      "source": [
        "import pandas as pd\n",
        "import numpy as np\n",
        "import seaborn as sns\n",
        "import matplotlib.pyplot as plt\n",
        "\n",
        "\n",
        "import warnings\n",
        "warnings.filterwarnings('ignore')"
      ],
      "metadata": {
        "id": "AyU4DzBMpaKp"
      },
      "execution_count": null,
      "outputs": []
    },
    {
      "cell_type": "markdown",
      "source": [
        "####  Leemos los datos a trabajar\n"
      ],
      "metadata": {
        "id": "v3buWu_q1tae"
      }
    },
    {
      "cell_type": "code",
      "source": [
        "url='https://raw.githubusercontent.com/sebcalcagno/AnalisisSeriesTemporales/main/Index2018.csv'\n",
        "raw_csv_data = pd.read_csv(url)\n",
        "df_comp=raw_csv_data.copy()"
      ],
      "metadata": {
        "id": "Q6Iww9GK1AlG"
      },
      "execution_count": null,
      "outputs": []
    },
    {
      "cell_type": "markdown",
      "source": [
        "#### Breve resumen del dataset\n"
      ],
      "metadata": {
        "id": "g1mh9e793-b2"
      }
    },
    {
      "cell_type": "code",
      "source": [
        "df_comp.spx.mean()"
      ],
      "metadata": {
        "id": "1clceJ0M4GEK"
      },
      "execution_count": null,
      "outputs": []
    },
    {
      "cell_type": "code",
      "source": [
        "df_comp.head(10)"
      ],
      "metadata": {
        "id": "-jW0CBh94IdI"
      },
      "execution_count": null,
      "outputs": []
    },
    {
      "cell_type": "code",
      "source": [
        "df_comp.date.describe()"
      ],
      "metadata": {
        "id": "nWV8CY-D4KQR"
      },
      "execution_count": null,
      "outputs": []
    },
    {
      "cell_type": "code",
      "source": [
        "df_comp.dtypes"
      ],
      "metadata": {
        "id": "nMIgYkTY4Lzo"
      },
      "execution_count": null,
      "outputs": []
    },
    {
      "cell_type": "markdown",
      "source": [
        "Adaptamos el dataset para trabajarlo segun sus series temporales"
      ],
      "metadata": {
        "id": "_ssyqO764dts"
      }
    },
    {
      "cell_type": "code",
      "source": [
        "df_comp.date = pd.to_datetime(df_comp.date, dayfirst = True)"
      ],
      "metadata": {
        "id": "Y15ZGf2X4fup"
      },
      "execution_count": null,
      "outputs": []
    },
    {
      "cell_type": "code",
      "source": [
        "df_comp.head()"
      ],
      "metadata": {
        "id": "QHrRll_s4iTI"
      },
      "execution_count": null,
      "outputs": []
    },
    {
      "cell_type": "code",
      "source": [
        "df_comp.date.describe()"
      ],
      "metadata": {
        "id": "wL5cKFqP-6SO"
      },
      "execution_count": null,
      "outputs": []
    },
    {
      "cell_type": "code",
      "source": [
        "df_comp.dtypes"
      ],
      "metadata": {
        "id": "SLn2aqdV-87s"
      },
      "execution_count": null,
      "outputs": []
    },
    {
      "cell_type": "markdown",
      "source": [
        "Seteamos como index del dataset segun el dia"
      ],
      "metadata": {
        "id": "IOETFRKw-_aS"
      }
    },
    {
      "cell_type": "code",
      "source": [
        "df_comp.set_index(\"date\")"
      ],
      "metadata": {
        "id": "nVM_xza-_BB8"
      },
      "execution_count": null,
      "outputs": []
    },
    {
      "cell_type": "code",
      "source": [
        "df_comp.head()"
      ],
      "metadata": {
        "id": "9OVZgQUO_CxR"
      },
      "execution_count": null,
      "outputs": []
    },
    {
      "cell_type": "code",
      "source": [
        "df_comp.set_index(\"date\", inplace=True)\n",
        "df_comp.head()"
      ],
      "metadata": {
        "id": "BDNYEER9_E_l"
      },
      "execution_count": null,
      "outputs": []
    },
    {
      "cell_type": "markdown",
      "source": [
        "#### Adaptamos el datset segun la frecuencia de la serie temporal dada, donde:\n",
        "\n",
        "- h: por hora\n",
        "- w: semanal\n",
        "- d: diario\n",
        "- m: mensual\n",
        "- b: dias laborables\n",
        "\n"
      ],
      "metadata": {
        "id": "ovKeMjv7_IlZ"
      }
    },
    {
      "cell_type": "code",
      "source": [
        "df_comp=df_comp.asfreq('d')\n",
        "df_comp"
      ],
      "metadata": {
        "id": "yLPKPbzJ_JFU"
      },
      "execution_count": null,
      "outputs": []
    },
    {
      "cell_type": "code",
      "source": [
        "df_comp=df_comp.asfreq('b')\n",
        "df_comp.head()"
      ],
      "metadata": {
        "id": "NNT4fNk3_Nj7"
      },
      "execution_count": null,
      "outputs": []
    },
    {
      "cell_type": "code",
      "source": [
        "df_comp.isna()"
      ],
      "metadata": {
        "id": "8DDmMQmf_RM1"
      },
      "execution_count": null,
      "outputs": []
    },
    {
      "cell_type": "code",
      "source": [
        "df_comp.isna().sum()"
      ],
      "metadata": {
        "id": "MfZX4za5_VLd"
      },
      "execution_count": null,
      "outputs": []
    },
    {
      "cell_type": "markdown",
      "source": [
        "Visualizamos una vez mas el dataset, pero esta vez teniendo en cuenta la serie temporal"
      ],
      "metadata": {
        "id": "8K1cg1Vq_XW0"
      }
    },
    {
      "cell_type": "code",
      "source": [
        "df_comp.spx.plot(figsize=(20,5), title = \"índice Standard & Poor's 500\")\n",
        "plt.show()"
      ],
      "metadata": {
        "id": "szVdTCZr_Y4o"
      },
      "execution_count": null,
      "outputs": []
    },
    {
      "cell_type": "code",
      "source": [
        "df_comp.ftse.plot(figsize=(20,5), title = \"Indice bursátil de referencia de la Bolsa de Valores de Londres - FTSE 100\")\n",
        "plt.show()"
      ],
      "metadata": {
        "id": "-IH27rjg_bFS"
      },
      "execution_count": null,
      "outputs": []
    },
    {
      "cell_type": "code",
      "source": [
        "df_comp.spx.plot(figsize=(20,5))\n",
        "df_comp.ftse.plot(figsize=(20,5))\n",
        "plt.title(\"S&P Y FTSE\")\n",
        "plt.show()"
      ],
      "metadata": {
        "id": "vXBk0msc_ciC"
      },
      "execution_count": null,
      "outputs": []
    },
    {
      "cell_type": "markdown",
      "source": [
        "Descomposición de Series Temporales"
      ],
      "metadata": {
        "id": "ChoLUfn-_nEF"
      }
    },
    {
      "cell_type": "code",
      "source": [
        "# Modulo para uso exclusivo aqui\n",
        "from statsmodels.tsa.seasonal import seasonal_decompose"
      ],
      "metadata": {
        "id": "hwCBYo3oHJ-M"
      },
      "execution_count": null,
      "outputs": []
    },
    {
      "cell_type": "markdown",
      "source": [
        "Descomposicion Aditiva"
      ],
      "metadata": {
        "id": "GfqC_duMHL-8"
      }
    },
    {
      "cell_type": "code",
      "source": [
        "s_dec_additive = seasonal_decompose(df_comp.spx, model = \"adittive\")\n",
        "s_dec_additive.plot()\n",
        "plt.show()"
      ],
      "metadata": {
        "id": "NkyEN5HqHNgs"
      },
      "execution_count": null,
      "outputs": []
    },
    {
      "cell_type": "markdown",
      "source": [
        "Descomposicion Multiplicativa"
      ],
      "metadata": {
        "id": "HuTRw62yHPY-"
      }
    },
    {
      "cell_type": "code",
      "source": [
        "import matplotlib\n",
        "\n",
        "matplotlib.rcParams['figure.figsize']=[12.0,8.0]"
      ],
      "metadata": {
        "id": "vbk7NCFRHQ8b"
      },
      "execution_count": null,
      "outputs": []
    },
    {
      "cell_type": "code",
      "source": [
        "s_dec_multiplicative = seasonal_decompose(df_comp.spx, model = \"multiplicative\")\n",
        "s_dec_multiplicative.plot()\n",
        "plt.show()"
      ],
      "metadata": {
        "id": "YZNWoxlpHTPt"
      },
      "execution_count": null,
      "outputs": []
    },
    {
      "cell_type": "markdown",
      "source": [
        "Representación gráfica de la Función de Autocorrelación"
      ],
      "metadata": {
        "id": "621KAP6wHWrL"
      }
    },
    {
      "cell_type": "code",
      "source": [
        "# Modulo para uso exclusivo a partir de aqui\n",
        "from statsmodels.graphics.tsaplots import plot_acf\n",
        "from statsmodels.tsa.stattools import acf"
      ],
      "metadata": {
        "id": "D-577aWSHYo7"
      },
      "execution_count": null,
      "outputs": []
    },
    {
      "cell_type": "code",
      "source": [
        "matplotlib.rcParams['figure.figsize']=[6.0,4.0]"
      ],
      "metadata": {
        "id": "hlqG_GWGHabZ"
      },
      "execution_count": null,
      "outputs": []
    },
    {
      "cell_type": "markdown",
      "source": [
        "Grafico ACF del indice Standard & Poor's 500 (SPX)"
      ],
      "metadata": {
        "id": "gbJhMIASHcZr"
      }
    },
    {
      "cell_type": "code",
      "source": [
        "plot_acf(df_comp.spx,lags=40)\n",
        "plt.title(\"Grafico ACF de SPX\", size= 24)\n",
        "plt.show()"
      ],
      "metadata": {
        "id": "rLP5i8JcHdfY"
      },
      "execution_count": null,
      "outputs": []
    },
    {
      "cell_type": "markdown",
      "source": [
        "Grafico ACF del indice \"DAX\""
      ],
      "metadata": {
        "id": "bb6C3fAzHe-2"
      }
    },
    {
      "cell_type": "code",
      "source": [
        "plot_acf(df_comp.dax,lags=80)\n",
        "plt.title(\"Grafico ACF de DAX\", size= 24)\n",
        "plt.show()"
      ],
      "metadata": {
        "id": "hbza8lzvHgdt"
      },
      "execution_count": null,
      "outputs": []
    },
    {
      "cell_type": "markdown",
      "source": [
        "Grafico ACF del indice \"ftse\""
      ],
      "metadata": {
        "id": "y5JtLuL5HiB1"
      }
    },
    {
      "cell_type": "code",
      "source": [
        "plot_acf(df_comp.ftse,lags=40)\n",
        "plt.title(\"Grafico ACF de ftse\", size= 24)\n",
        "plt.show()"
      ],
      "metadata": {
        "id": "_voyn766HjM7"
      },
      "execution_count": null,
      "outputs": []
    },
    {
      "cell_type": "markdown",
      "source": [
        "Grafico ACF del indice \"nikkei\""
      ],
      "metadata": {
        "id": "Ok2rsV4iHkxx"
      }
    },
    {
      "cell_type": "code",
      "source": [
        "plot_acf(df_comp.nikkei,lags=40)\n",
        "plt.title(\"Grafico ACF de nikkei\", size= 24)\n",
        "plt.show()"
      ],
      "metadata": {
        "id": "eXhgYIciHl9i"
      },
      "execution_count": null,
      "outputs": []
    },
    {
      "cell_type": "markdown",
      "source": [
        "APLICAMOS UNA TRANSFORMACION DE LA SERIE"
      ],
      "metadata": {
        "id": "eZ_mCMBWHn3-"
      }
    },
    {
      "cell_type": "code",
      "source": [
        "primera_diffs=df_comp.spx.values[1:]-df_comp.spx.values[:-1]\n",
        "primera_diffs=np.concatenate([primera_diffs,[0]])"
      ],
      "metadata": {
        "id": "9C6aqzTKHpex"
      },
      "execution_count": null,
      "outputs": []
    },
    {
      "cell_type": "code",
      "source": [
        "df_comp['primera_diffs_spx']=primera_diffs"
      ],
      "metadata": {
        "id": "h9Z5vQqwHq-j"
      },
      "execution_count": null,
      "outputs": []
    },
    {
      "cell_type": "code",
      "source": [
        "df_comp.head()"
      ],
      "metadata": {
        "id": "6hgrrr3DHsQK"
      },
      "execution_count": null,
      "outputs": []
    },
    {
      "cell_type": "code",
      "source": [
        "#grafico este indice con las diferencias aplicadas fila a fila\n",
        "df_comp.primera_diffs_spx.plot(figsize=(20,5), title = \"Primera diferencia sobre el Indice SPX\")\n",
        "plt.show()"
      ],
      "metadata": {
        "id": "n_wGUD0yHt0p"
      },
      "execution_count": null,
      "outputs": []
    },
    {
      "cell_type": "code",
      "source": [
        "plot_acf(df_comp.primera_diffs_spx,lags=40)\n",
        "plt.title(\"Grafico ACF de primera diferencia sobre el Indice SPX\", size= 24)\n",
        "plt.show()"
      ],
      "metadata": {
        "id": "bZQq7x8KHvZl"
      },
      "execution_count": null,
      "outputs": []
    },
    {
      "cell_type": "markdown",
      "source": [
        "Ruido Blanco"
      ],
      "metadata": {
        "id": "fAfjoIr2HxmT"
      }
    },
    {
      "cell_type": "code",
      "source": [
        "wn = np.random.normal(loc = df_comp.spx.mean(), scale = df_comp.spx.std(), size = len(df_comp))\n",
        "df_comp['wn'] = wn\n",
        "df_comp.describe()"
      ],
      "metadata": {
        "id": "U_xowqWCHzGR"
      },
      "execution_count": null,
      "outputs": []
    },
    {
      "cell_type": "code",
      "source": [
        "df_comp.wn.plot(figsize = (30,5))\n",
        "plt.title(\"Grafica de la serie de Ruido Blanco\", size= 24)\n",
        "plt.show()"
      ],
      "metadata": {
        "id": "TyjfQV3wH28w"
      },
      "execution_count": null,
      "outputs": []
    },
    {
      "cell_type": "code",
      "source": [
        "plot_acf(df_comp.wn, lags=20)\n",
        "plt.title(\"Autocorrelacion de Ruido Blanco\", size= 18)\n",
        "plt.show()"
      ],
      "metadata": {
        "id": "UxKEavPBH4OU"
      },
      "execution_count": null,
      "outputs": []
    },
    {
      "cell_type": "markdown",
      "source": [
        "Random Walk"
      ],
      "metadata": {
        "id": "utYsQ0k0H59s"
      }
    },
    {
      "cell_type": "code",
      "source": [
        "# Simulamos el proceso\n",
        "steps = np.random.standard_normal(1000)\n",
        "steps[0]=0\n",
        "random_walk=np.cumsum(steps)"
      ],
      "metadata": {
        "id": "KeQKbiOOH7Kt"
      },
      "execution_count": null,
      "outputs": []
    },
    {
      "cell_type": "code",
      "source": [
        "random_walk[:10]"
      ],
      "metadata": {
        "id": "RDfsXuC6H8gk"
      },
      "execution_count": null,
      "outputs": []
    },
    {
      "cell_type": "code",
      "source": [
        "plt.plot(random_walk)\n",
        "plt.title(\"Grafica de la simulacion del proceso Random Walk\")\n",
        "plt.show()"
      ],
      "metadata": {
        "id": "XOKuCIdbH9tC"
      },
      "execution_count": null,
      "outputs": []
    },
    {
      "cell_type": "code",
      "source": [
        "random_walk_acf_coef = acf(random_walk)\n",
        "random_walk_acf_coef"
      ],
      "metadata": {
        "id": "9143sQaYH_QK"
      },
      "execution_count": null,
      "outputs": []
    },
    {
      "cell_type": "code",
      "source": [
        "plot_acf(random_walk, lags=20)\n",
        "plt.title(\"Grafica ACF-Random Walk\")\n",
        "plt.show()"
      ],
      "metadata": {
        "id": "YINZudPqIAtB"
      },
      "execution_count": null,
      "outputs": []
    },
    {
      "cell_type": "markdown",
      "source": [
        "<body>\n",
        "  <h1> Muchas gracias! 😀</h1>\n",
        "</body>"
      ],
      "metadata": {
        "id": "xSj035Sbn03w"
      }
    }
  ]
}
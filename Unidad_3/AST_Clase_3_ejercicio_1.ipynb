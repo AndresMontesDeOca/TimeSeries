{
  "cells": [
    {
      "cell_type": "markdown",
      "metadata": {
        "id": "view-in-github",
        "colab_type": "text"
      },
      "source": [
        "<a href=\"https://colab.research.google.com/github/AndresMontesDeOca/TimeSeries/blob/main/Unidad_3/AST_Clase_3_ejercicio_1.ipynb\" target=\"_parent\"><img src=\"https://colab.research.google.com/assets/colab-badge.svg\" alt=\"Open In Colab\"/></a>"
      ]
    },
    {
      "cell_type": "markdown",
      "metadata": {
        "id": "3BmvdaAh1QSw"
      },
      "source": [
        "<div class=\"alert alert-block alert-info\">\n",
        "    <h1>Análisis de Series Temporales - 2023</h1>\n",
        "    <h3>Clase 3</h3>\n",
        "    <h5>Ejercicio 1</h5>\n",
        "        <p>Docente: Rodrigo Del Rosso<p>\n",
        "        <p>Asistentes: Sebastián Calcagno y Braian Drago <p>\n",
        "</div>"
      ]
    },
    {
      "cell_type": "markdown",
      "metadata": {
        "id": "e3pRgLixNY2N"
      },
      "source": [
        "# COMIENZA EJEMPLO"
      ]
    },
    {
      "cell_type": "code",
      "execution_count": null,
      "metadata": {
        "id": "FSv3EbiP1PAR"
      },
      "outputs": [],
      "source": [
        "!pip install pmdarima"
      ]
    },
    {
      "cell_type": "code",
      "execution_count": null,
      "metadata": {
        "id": "rPn_msamSAFv"
      },
      "outputs": [],
      "source": [
        "import pandas as pd\n",
        "import numpy as np\n",
        "import matplotlib.pyplot as plt\n",
        "import seaborn as sns\n",
        "from statsmodels.tsa.arima_model import ARMA\n",
        "from statsmodels.tsa.arima_process import arma_generate_sample\n",
        "import statsmodels.api as sm\n",
        "from statsmodels.graphics.tsaplots import plot_acf,plot_pacf\n",
        "\n",
        "import itertools\n",
        "from statsmodels.tsa.arima.model import ARIMA\n",
        "import warnings\n",
        "\n",
        "\n",
        "\n",
        "from pmdarima.arima import auto_arima\n",
        "plt.rcParams['figure.figsize'] = (10, 5)\n",
        "from statsmodels.tsa.arima_process import ArmaProcess"
      ]
    },
    {
      "cell_type": "markdown",
      "metadata": {
        "id": "pfFGB2hVSFIA"
      },
      "source": [
        "# **MODELO MA**"
      ]
    },
    {
      "cell_type": "code",
      "execution_count": null,
      "metadata": {
        "id": "F2aF4cXrSCUH"
      },
      "outputs": [],
      "source": [
        "# Grafico 1: MA parametro: -0.9\n",
        "plt.subplot(2, 1, 1)\n",
        "ar1 = np.array([1])\n",
        "ma1 = np.array([1, -0.9])\n",
        "MA_object1 = ArmaProcess(ar1, ma1)\n",
        "np.random.seed(2023)\n",
        "datos_simulados_1 = MA_object1.generate_sample(nsample=1000)\n",
        "plt.plot(datos_simulados_1);\n",
        "\n",
        "# Grafico 2: MA parametro: +0.9\n",
        "plt.subplot(2, 1, 2)\n",
        "ar2 = np.array([1])\n",
        "ma2 = np.array([1, 0.9])\n",
        "MA_object2 = ArmaProcess(ar2, ma2)\n",
        "datos_simulados_2 = MA_object2.generate_sample(nsample=1000)\n",
        "plt.plot(datos_simulados_2);"
      ]
    },
    {
      "cell_type": "code",
      "execution_count": null,
      "metadata": {
        "id": "i0y3ePL1SIxC"
      },
      "outputs": [],
      "source": [
        "# Grafico 3: MA parametro: -0.3\n",
        "ar3 = np.array([1])\n",
        "ma3 = np.array([1, -0.3])\n",
        "MA_object3 = ArmaProcess(ar3, ma3)\n",
        "datos_simulados_3 = MA_object3.generate_sample(nsample=1000)\n",
        "plt.plot(datos_simulados_3);"
      ]
    },
    {
      "cell_type": "code",
      "execution_count": null,
      "metadata": {
        "id": "ZHZX1REjSKZ-"
      },
      "outputs": [],
      "source": [
        "# grafico ACF de los datos simulados 1:\n",
        "plot_acf(datos_simulados_1, lags=20);\n",
        "\n",
        "# grafico ACF de los datos simulados 2:\n",
        "plot_acf(datos_simulados_2, lags=20);\n",
        "\n",
        "# grafico ACF de los datos simulados 3:\n",
        "plot_acf(datos_simulados_3, lags=20);"
      ]
    },
    {
      "cell_type": "code",
      "execution_count": null,
      "metadata": {
        "id": "MEx9iVhiSMnR"
      },
      "outputs": [],
      "source": [
        "# grafico PACF de los datos simulados 1:\n",
        "plot_pacf(datos_simulados_1, lags=20);\n",
        "\n",
        "# grafico PACF de los datos simulados 2:\n",
        "plot_pacf(datos_simulados_2, lags=20);\n",
        "\n",
        "# grafico PACF de los datos simulados 3:\n",
        "plot_pacf(datos_simulados_3, lags=20);"
      ]
    },
    {
      "cell_type": "markdown",
      "metadata": {
        "id": "iFhDulUrSPVT"
      },
      "source": [
        "*Aqui* vemos el modelo MA(1) de los simulados 1:"
      ]
    },
    {
      "cell_type": "code",
      "execution_count": null,
      "metadata": {
        "id": "tl2Ud7SASSU2"
      },
      "outputs": [],
      "source": [
        "modelo1 = sm.tsa.arima.ARIMA(datos_simulados_1, order=(0,0,1))\n",
        "resultado1 = modelo1.fit()\n",
        "\n",
        "resultado1.summary()\n"
      ]
    },
    {
      "cell_type": "markdown",
      "metadata": {
        "id": "aQ_3RE6nDVbk"
      },
      "source": [
        "AUTO-ARIMA por libreria"
      ]
    },
    {
      "cell_type": "code",
      "execution_count": null,
      "metadata": {
        "id": "CpiNbzBzSUaS"
      },
      "outputs": [],
      "source": [
        "stepwise_fit = auto_arima(datos_simulados_1, trace=True,suppress_warnings=True)"
      ]
    },
    {
      "cell_type": "markdown",
      "metadata": {
        "id": "LU7TeYyBDZLa"
      },
      "source": [
        "AUTO-ARIMA manual"
      ]
    },
    {
      "cell_type": "code",
      "execution_count": null,
      "metadata": {
        "id": "p4YC_tj3PVjN"
      },
      "outputs": [],
      "source": [
        "# Determinamos los parametros p, d y q\n",
        "p = d = range(0, 3)\n",
        "q = range(2)\n",
        "\n",
        "\n",
        "# Combinacion de los diferentes pamatros para luego probar\n",
        "pdq = list(itertools.product(p, d, q))\n",
        "\n",
        "\n",
        "# Inicializa para el loop, con el primer modelo que genera\n",
        "\n",
        "loopinicial = sm.tsa.arima.ARIMA(datos_simulados_1, order=(0,0,0))\n",
        "loopinicialresult = loopinicial.fit()\n",
        "RESULTADOAIC = loopinicialresult.aic\n",
        "\n",
        "orden=[]\n",
        "\n",
        "# Iniciamos el loop\n",
        "for param in pdq:\n",
        "\n",
        "  mod = ARIMA(datos_simulados_1, order=(param))\n",
        "  results = mod.fit()\n",
        "\n",
        "  if results.aic < RESULTADOAIC:\n",
        "    RESULTADOAIC = results.aic\n",
        "    orden = param\n",
        "\n",
        "print(f\"El mejor modelo es un ARIMA{orden}, arrojo el menor AIC de = {RESULTADOAIC  } \")\n"
      ]
    },
    {
      "cell_type": "markdown",
      "metadata": {
        "id": "CK6MSmVhSWrk"
      },
      "source": [
        "# TRABAJAMOS CON LOS DATOS SIMULADOS DEL CASO 2\n",
        "\n",
        "*Aqui* vemos el modelo MA(1) de los simulados 2:"
      ]
    },
    {
      "cell_type": "code",
      "execution_count": null,
      "metadata": {
        "id": "PeWg_4EfaD_r"
      },
      "outputs": [],
      "source": [
        "modelo2_A = sm.tsa.arima.ARIMA(datos_simulados_2, order=(0,0,1))\n",
        "resultado2A = modelo2_A.fit()\n",
        "\n",
        "resultado2A.summary()"
      ]
    },
    {
      "cell_type": "markdown",
      "metadata": {
        "id": "twqZK8isan9R"
      },
      "source": [
        "*Aqui* vemos el modelo MA teniendo en cuenta los lags 1,12 y 13 de los simulados 2:"
      ]
    },
    {
      "cell_type": "code",
      "execution_count": null,
      "metadata": {
        "colab": {
          "background_save": true
        },
        "id": "mGfmdxWYSYRj"
      },
      "outputs": [],
      "source": [
        "modelo2_B = sm.tsa.arima.ARIMA(datos_simulados_2, order=(0,0,(1,0,0,0,0,0,0,0,0,0,0,1,1)))\n",
        "resultado2B = modelo2_B.fit()\n",
        "\n",
        "resultado2B.summary()"
      ]
    },
    {
      "cell_type": "markdown",
      "metadata": {
        "id": "l527HFCDayRi"
      },
      "source": [
        "*Aqui* vemos el modelo MA teniendo en cuenta los lags 1 y 13 de los simulados 2:"
      ]
    },
    {
      "cell_type": "code",
      "execution_count": null,
      "metadata": {
        "id": "OofFD95VZ6u5"
      },
      "outputs": [],
      "source": [
        "modelo2_C = sm.tsa.arima.ARIMA(datos_simulados_2, order=(0,0,(1,0,0,0,0,0,0,0,0,0,0,0,1)))\n",
        "resultado2C = modelo2_C.fit()\n",
        "\n",
        "resultado2C.summary()"
      ]
    },
    {
      "cell_type": "code",
      "execution_count": null,
      "metadata": {
        "id": "zta6TcRxSaoU"
      },
      "outputs": [],
      "source": [
        "stepwise_fit = auto_arima(datos_simulados_2, trace=True,suppress_warnings=True)"
      ]
    },
    {
      "cell_type": "code",
      "execution_count": null,
      "metadata": {
        "id": "JA6aMdnUb-Su"
      },
      "outputs": [],
      "source": [
        "AIC= [resultado2A.aic,resultado2B.aic,resultado2C.aic]\n",
        "BIC= [resultado2A.bic,resultado2B.bic,resultado2C.aic]\n",
        "HQIC= [resultado2A.hqic,resultado2B.hqic,resultado2C.aic]"
      ]
    },
    {
      "cell_type": "code",
      "execution_count": null,
      "metadata": {
        "id": "WGLNCOW1b5mx"
      },
      "outputs": [],
      "source": [
        "MODELOS = ('Lag 1', 'Lags 1, 12 y 13', 'Lags 1 y 13')\n",
        "resumen2 = pd.DataFrame({'AIC':AIC, 'BIC': BIC,'HQIC':HQIC}, index=MODELOS)\n",
        "resumen2.index.name = 'MODELOS'\n",
        "\n",
        "resumen2.round(4)"
      ]
    },
    {
      "cell_type": "markdown",
      "metadata": {
        "id": "73I6ji0ja4hA"
      },
      "source": [
        "*Aqui* vemos el modelo MA(1) de los simulados 3:"
      ]
    },
    {
      "cell_type": "code",
      "execution_count": null,
      "metadata": {
        "id": "I-K27XIkSczG"
      },
      "outputs": [],
      "source": [
        "modelo3 = sm.tsa.arima.ARIMA(datos_simulados_3, order=(0,0,1))\n",
        "resultado3 = modelo3.fit()\n",
        "\n",
        "resultado3.summary()"
      ]
    },
    {
      "cell_type": "code",
      "execution_count": null,
      "metadata": {
        "id": "x0pcguQcSetr"
      },
      "outputs": [],
      "source": [
        "stepwise_fit = auto_arima(datos_simulados_3, trace=True,suppress_warnings=True)"
      ]
    },
    {
      "cell_type": "markdown",
      "metadata": {
        "id": "Z3Zdxhh9ERTJ"
      },
      "source": [
        "FIN DEL CODIGO - GRACIAS"
      ]
    }
  ],
  "metadata": {
    "colab": {
      "provenance": [],
      "include_colab_link": true
    },
    "kernelspec": {
      "display_name": "Python 3",
      "name": "python3"
    },
    "language_info": {
      "name": "python"
    }
  },
  "nbformat": 4,
  "nbformat_minor": 0
}
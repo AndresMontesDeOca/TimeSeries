{
  "nbformat": 4,
  "nbformat_minor": 0,
  "metadata": {
    "colab": {
      "provenance": [],
      "include_colab_link": true
    },
    "kernelspec": {
      "name": "python3",
      "display_name": "Python 3"
    },
    "language_info": {
      "name": "python"
    }
  },
  "cells": [
    {
      "cell_type": "markdown",
      "metadata": {
        "id": "view-in-github",
        "colab_type": "text"
      },
      "source": [
        "<a href=\"https://colab.research.google.com/github/AndresMontesDeOca/TimeSeries/blob/main/AST_Clase_1_ejercicio_3.ipynb\" target=\"_parent\"><img src=\"https://colab.research.google.com/assets/colab-badge.svg\" alt=\"Open In Colab\"/></a>"
      ]
    },
    {
      "cell_type": "markdown",
      "source": [
        "<div class=\"alert alert-block alert-info\">\n",
        "    <h1>Análisis de Series Temporales - 2023</h1>\n",
        "    <h3>Clase 1</h3>\n",
        "    <h5>Ejercicio 3</h5>\n",
        "        <p>Docente: Rodrigo Del Rosso<p>\n",
        "        <p>Asistentes: Sebastián Calcagno  y Braian Drago<p>\n",
        "</div>"
      ],
      "metadata": {
        "id": "J54ckHgGmRQL"
      }
    },
    {
      "cell_type": "code",
      "source": [
        "import pandas as pd\n",
        "import numpy as np\n",
        "import seaborn as sns\n",
        "import matplotlib.pyplot as plt\n",
        "from statsmodels.graphics.tsaplots import plot_acf, plot_pacf\n",
        "from statsmodels.tsa.seasonal import seasonal_decompose\n",
        "\n",
        "\n",
        "import warnings\n",
        "warnings.filterwarnings('ignore')"
      ],
      "metadata": {
        "id": "vhLo48wwtvKK"
      },
      "execution_count": null,
      "outputs": []
    },
    {
      "cell_type": "markdown",
      "source": [
        "\n",
        "**Turismo receptivo y emisivo**\n",
        "\n",
        "Fuente = https://datos.gob.ar/dataset/sspm-encuesta-turismo-internacional/archivo/sspm_322.3"
      ],
      "metadata": {
        "id": "DjBhtlNCuKxb"
      }
    },
    {
      "cell_type": "code",
      "source": [
        "url2='https://raw.githubusercontent.com/sebcalcagno/AnalisisSeriesTemporales/main/turismo-receptivo-emisivo-aeropuerto-internacional-ezeiza-aeroparque%20(1).csv'\n",
        "raw_csv_data2 = pd.read_csv(url2)\n",
        "df2=raw_csv_data2.copy()"
      ],
      "metadata": {
        "id": "UHWBll3UyUI2"
      },
      "execution_count": null,
      "outputs": []
    },
    {
      "cell_type": "code",
      "source": [
        "df2.head()"
      ],
      "metadata": {
        "id": "CR2IIn-DuLMB"
      },
      "execution_count": null,
      "outputs": []
    },
    {
      "cell_type": "code",
      "source": [
        "df2.set_index('indice_tiempo',inplace=True)\n",
        "df2.index=pd.to_datetime(df2.index)\n",
        "\n",
        "#drop null values\n",
        "df2.dropna(inplace=True)\n",
        "\n",
        "df2.turismo_receptivo.plot()"
      ],
      "metadata": {
        "id": "J7qQGZxFyeY5"
      },
      "execution_count": null,
      "outputs": []
    },
    {
      "cell_type": "code",
      "source": [
        "result2=seasonal_decompose(df2['turismo_receptivo'], model='multiplicable')"
      ],
      "metadata": {
        "id": "HLonjaYrzJd0"
      },
      "execution_count": null,
      "outputs": []
    },
    {
      "cell_type": "code",
      "source": [
        "len(df2)"
      ],
      "metadata": {
        "id": "WFV2Bo16qzES"
      },
      "execution_count": null,
      "outputs": []
    },
    {
      "cell_type": "code",
      "source": [
        "result2.seasonal.plot()"
      ],
      "metadata": {
        "id": "eDvQ-NcAzO_1"
      },
      "execution_count": null,
      "outputs": []
    },
    {
      "cell_type": "code",
      "source": [
        "result2.trend.plot()"
      ],
      "metadata": {
        "id": "jVOioYVYzWzE"
      },
      "execution_count": null,
      "outputs": []
    },
    {
      "cell_type": "code",
      "source": [
        "result2.plot();"
      ],
      "metadata": {
        "id": "0FoRbTb-zfsL"
      },
      "execution_count": null,
      "outputs": []
    },
    {
      "cell_type": "code",
      "source": [
        "from statsmodels.graphics.tsaplots import plot_acf"
      ],
      "metadata": {
        "id": "fA5bDBzVgI_G"
      },
      "execution_count": null,
      "outputs": []
    },
    {
      "cell_type": "code",
      "source": [
        "plot_acf(df2.turismo_receptivo, lags=66);"
      ],
      "metadata": {
        "id": "NTqZonVxgL90"
      },
      "execution_count": null,
      "outputs": []
    },
    {
      "cell_type": "markdown",
      "source": [
        "Solo se pueden calcular correlaciones parciales lags de hasta el 50 % del tamaño de la muestra. Los nlags solicitados deben ser menores a 60.\n"
      ],
      "metadata": {
        "id": "6-bbc7n7rREX"
      }
    },
    {
      "cell_type": "code",
      "source": [
        "plot_pacf(df2.turismo_receptivo);"
      ],
      "metadata": {
        "id": "0Oo8Afsag547"
      },
      "execution_count": null,
      "outputs": []
    }
  ]
}
{
  "nbformat": 4,
  "nbformat_minor": 0,
  "metadata": {
    "colab": {
      "provenance": [],
      "include_colab_link": true
    },
    "kernelspec": {
      "name": "python3",
      "display_name": "Python 3"
    },
    "language_info": {
      "name": "python"
    }
  },
  "cells": [
    {
      "cell_type": "markdown",
      "metadata": {
        "id": "view-in-github",
        "colab_type": "text"
      },
      "source": [
        "<a href=\"https://colab.research.google.com/github/AndresMontesDeOca/TimeSeries/blob/main/TP1_Ale_v2.ipynb\" target=\"_parent\"><img src=\"https://colab.research.google.com/assets/colab-badge.svg\" alt=\"Open In Colab\"/></a>"
      ]
    },
    {
      "cell_type": "markdown",
      "source": [
        "# TP #1\n"
      ],
      "metadata": {
        "id": "sFuJ6gLcpRuV"
      }
    },
    {
      "cell_type": "code",
      "source": [
        "#Importar\n",
        "\n",
        "import numpy as np\n",
        "import pandas as pd\n",
        "import matplotlib.pyplot as plt\n",
        "from statsmodels.tsa.stattools import acf\n",
        "from statsmodels.tsa.stattools import adfuller\n",
        "import warnings\n",
        "warnings.filterwarnings('ignore')\n",
        "\n",
        "# Vamos a suprimir la notacion cientifica\n",
        "pd.set_option(\"display.float_format\", lambda x:\"%.2f\" %x)"
      ],
      "metadata": {
        "id": "PNznaGJkqQkl"
      },
      "execution_count": 8,
      "outputs": []
    },
    {
      "cell_type": "markdown",
      "source": [
        "Importamos la Serie"
      ],
      "metadata": {
        "id": "_8qf1Xceqh1g"
      }
    },
    {
      "cell_type": "markdown",
      "source": [
        "Como tenemos la serie en el Drive, tenemos que improtar una serie de librerias para poder levantar la serie"
      ],
      "metadata": {
        "id": "xL-_Fnux9PVh"
      }
    },
    {
      "cell_type": "markdown",
      "source": [
        "No olvidar dar los permisos al archivo para poder leer desde el jpynb el mismo.\n",
        "Luego, copiamso la ruta al archivo, pero solo nos quedamos con el id para acceder al mismo, a continuacion se copia la ruta completa al archivo"
      ],
      "metadata": {
        "id": "e-pxNXXe9atI"
      }
    },
    {
      "cell_type": "markdown",
      "source": [
        "https://drive.google.com/file/d/1cuyeVtIy_DOtiADp5cHwNsucJpzhaBqG/view?usp=share_link\n"
      ],
      "metadata": {
        "id": "XnvnFnHn7SUH"
      }
    },
    {
      "cell_type": "markdown",
      "source": [
        "Siempre que tenga que leer un archivo que esta en un drive, copiar esta ruta"
      ],
      "metadata": {
        "id": "kxLpPzIu9wOq"
      }
    },
    {
      "cell_type": "code",
      "source": [
        "# Code to read csv file into Colaboratory:\n",
        "# !pip install -U -q PyDrive\n",
        "from pydrive.auth import GoogleAuth\n",
        "from pydrive.drive import GoogleDrive\n",
        "from google.colab import auth\n",
        "from oauth2client.client import GoogleCredentials\n",
        "\n",
        "# Authenticate and create the PyDrive client.\n",
        "auth.authenticate_user()\n",
        "gauth = GoogleAuth()\n",
        "gauth.credentials = GoogleCredentials.get_application_default()\n",
        "drive = GoogleDrive(gauth)\n",
        "\n",
        "################################# Datasets ###################################\n",
        "# Air Pasangers\n",
        "id = \"1LV2t7HpwYpxSumUywyRE1wZ2xyF1KF5I\"\n",
        "downloaded = drive.CreateFile({'id':id})\n",
        "downloaded.GetContentFile('DemHoraria_v2.csv')\n",
        "dataD = pd.read_csv(\"DemHoraria_v2.csv\", sep=\",\") # Cargamos el Dataset\n",
        "data = dataD\n",
        "######################################################################\n",
        "# Temperatura\n",
        "id = \"1Lji7usex9EBPQpTgUhAdI6oRnJN9pAxf\"\n",
        "downloaded = drive.CreateFile({'id':id})\n",
        "downloaded.GetContentFile('SerieT20_2022.csv')\n",
        "dataT = pd.read_csv(\"SerieT20_2022.csv\") # Cargamos el Dataset"
      ],
      "metadata": {
        "id": "QCM0Z9P51qZN"
      },
      "execution_count": 9,
      "outputs": []
    },
    {
      "cell_type": "markdown",
      "source": [
        "## Tratamiento de Demanda y Viento"
      ],
      "metadata": {
        "id": "l2i70YwajeFj"
      }
    },
    {
      "cell_type": "code",
      "source": [
        "# Convertimos la columna \"data_hora\" a tipo de datos de fecha y hora\n",
        "data[\"data_hora\"]= pd.to_datetime(data[\"data_hora\"], format=\"%Y-%m-%d %H\")\n",
        "\n",
        "# Renombramos las variables\n",
        "data.rename(columns={\"Demanda_MW\": \"Demanda\", \"data_hora\":\"Fecha\", \"Vel_viento\": \"Viento\"}, inplace=True)\n",
        "\n",
        "# Seteamos la Fecha como Index\n",
        "data=data.set_index(\"Fecha\")\n",
        "\n",
        "# Filtrar los datos para los años 2020, 2021 y 2022\n",
        "data = data['2020':'2022']\n",
        "\n",
        "# Dividimos el DataFrame\n",
        "data1 = data[['Demanda']]\n",
        "data2 = data[['Viento']]\n",
        "# data3 = dataT\n",
        "\n",
        "# display(data.head())\n",
        "display(data1.head())\n",
        "display(data2.head())\n",
        "# display(data3.head())"
      ],
      "metadata": {
        "colab": {
          "base_uri": "https://localhost:8080/",
          "height": 0
        },
        "id": "vjteyOj-5SvD",
        "outputId": "47a6fcb4-9e40-4ca9-df98-5c4e947bf36a"
      },
      "execution_count": 10,
      "outputs": [
        {
          "output_type": "display_data",
          "data": {
            "text/plain": [
              "                     Demanda\n",
              "Fecha                       \n",
              "2020-01-01 00:00:00  1159.49\n",
              "2020-01-01 01:00:00  1081.82\n",
              "2020-01-01 02:00:00  1072.52\n",
              "2020-01-01 03:00:00  1029.42\n",
              "2020-01-01 04:00:00   979.26"
            ],
            "text/html": [
              "\n",
              "  <div id=\"df-136730fc-2d7e-41cc-825d-dd55cf0b28b3\" class=\"colab-df-container\">\n",
              "    <div>\n",
              "<style scoped>\n",
              "    .dataframe tbody tr th:only-of-type {\n",
              "        vertical-align: middle;\n",
              "    }\n",
              "\n",
              "    .dataframe tbody tr th {\n",
              "        vertical-align: top;\n",
              "    }\n",
              "\n",
              "    .dataframe thead th {\n",
              "        text-align: right;\n",
              "    }\n",
              "</style>\n",
              "<table border=\"1\" class=\"dataframe\">\n",
              "  <thead>\n",
              "    <tr style=\"text-align: right;\">\n",
              "      <th></th>\n",
              "      <th>Demanda</th>\n",
              "    </tr>\n",
              "    <tr>\n",
              "      <th>Fecha</th>\n",
              "      <th></th>\n",
              "    </tr>\n",
              "  </thead>\n",
              "  <tbody>\n",
              "    <tr>\n",
              "      <th>2020-01-01 00:00:00</th>\n",
              "      <td>1159.49</td>\n",
              "    </tr>\n",
              "    <tr>\n",
              "      <th>2020-01-01 01:00:00</th>\n",
              "      <td>1081.82</td>\n",
              "    </tr>\n",
              "    <tr>\n",
              "      <th>2020-01-01 02:00:00</th>\n",
              "      <td>1072.52</td>\n",
              "    </tr>\n",
              "    <tr>\n",
              "      <th>2020-01-01 03:00:00</th>\n",
              "      <td>1029.42</td>\n",
              "    </tr>\n",
              "    <tr>\n",
              "      <th>2020-01-01 04:00:00</th>\n",
              "      <td>979.26</td>\n",
              "    </tr>\n",
              "  </tbody>\n",
              "</table>\n",
              "</div>\n",
              "    <div class=\"colab-df-buttons\">\n",
              "\n",
              "  <div class=\"colab-df-container\">\n",
              "    <button class=\"colab-df-convert\" onclick=\"convertToInteractive('df-136730fc-2d7e-41cc-825d-dd55cf0b28b3')\"\n",
              "            title=\"Convert this dataframe to an interactive table.\"\n",
              "            style=\"display:none;\">\n",
              "\n",
              "  <svg xmlns=\"http://www.w3.org/2000/svg\" height=\"24px\" viewBox=\"0 -960 960 960\">\n",
              "    <path d=\"M120-120v-720h720v720H120Zm60-500h600v-160H180v160Zm220 220h160v-160H400v160Zm0 220h160v-160H400v160ZM180-400h160v-160H180v160Zm440 0h160v-160H620v160ZM180-180h160v-160H180v160Zm440 0h160v-160H620v160Z\"/>\n",
              "  </svg>\n",
              "    </button>\n",
              "\n",
              "  <style>\n",
              "    .colab-df-container {\n",
              "      display:flex;\n",
              "      gap: 12px;\n",
              "    }\n",
              "\n",
              "    .colab-df-convert {\n",
              "      background-color: #E8F0FE;\n",
              "      border: none;\n",
              "      border-radius: 50%;\n",
              "      cursor: pointer;\n",
              "      display: none;\n",
              "      fill: #1967D2;\n",
              "      height: 32px;\n",
              "      padding: 0 0 0 0;\n",
              "      width: 32px;\n",
              "    }\n",
              "\n",
              "    .colab-df-convert:hover {\n",
              "      background-color: #E2EBFA;\n",
              "      box-shadow: 0px 1px 2px rgba(60, 64, 67, 0.3), 0px 1px 3px 1px rgba(60, 64, 67, 0.15);\n",
              "      fill: #174EA6;\n",
              "    }\n",
              "\n",
              "    .colab-df-buttons div {\n",
              "      margin-bottom: 4px;\n",
              "    }\n",
              "\n",
              "    [theme=dark] .colab-df-convert {\n",
              "      background-color: #3B4455;\n",
              "      fill: #D2E3FC;\n",
              "    }\n",
              "\n",
              "    [theme=dark] .colab-df-convert:hover {\n",
              "      background-color: #434B5C;\n",
              "      box-shadow: 0px 1px 3px 1px rgba(0, 0, 0, 0.15);\n",
              "      filter: drop-shadow(0px 1px 2px rgba(0, 0, 0, 0.3));\n",
              "      fill: #FFFFFF;\n",
              "    }\n",
              "  </style>\n",
              "\n",
              "    <script>\n",
              "      const buttonEl =\n",
              "        document.querySelector('#df-136730fc-2d7e-41cc-825d-dd55cf0b28b3 button.colab-df-convert');\n",
              "      buttonEl.style.display =\n",
              "        google.colab.kernel.accessAllowed ? 'block' : 'none';\n",
              "\n",
              "      async function convertToInteractive(key) {\n",
              "        const element = document.querySelector('#df-136730fc-2d7e-41cc-825d-dd55cf0b28b3');\n",
              "        const dataTable =\n",
              "          await google.colab.kernel.invokeFunction('convertToInteractive',\n",
              "                                                    [key], {});\n",
              "        if (!dataTable) return;\n",
              "\n",
              "        const docLinkHtml = 'Like what you see? Visit the ' +\n",
              "          '<a target=\"_blank\" href=https://colab.research.google.com/notebooks/data_table.ipynb>data table notebook</a>'\n",
              "          + ' to learn more about interactive tables.';\n",
              "        element.innerHTML = '';\n",
              "        dataTable['output_type'] = 'display_data';\n",
              "        await google.colab.output.renderOutput(dataTable, element);\n",
              "        const docLink = document.createElement('div');\n",
              "        docLink.innerHTML = docLinkHtml;\n",
              "        element.appendChild(docLink);\n",
              "      }\n",
              "    </script>\n",
              "  </div>\n",
              "\n",
              "\n",
              "<div id=\"df-bcb64b74-43ac-4410-a730-5530892ea8fe\">\n",
              "  <button class=\"colab-df-quickchart\" onclick=\"quickchart('df-bcb64b74-43ac-4410-a730-5530892ea8fe')\"\n",
              "            title=\"Suggest charts.\"\n",
              "            style=\"display:none;\">\n",
              "\n",
              "<svg xmlns=\"http://www.w3.org/2000/svg\" height=\"24px\"viewBox=\"0 0 24 24\"\n",
              "     width=\"24px\">\n",
              "    <g>\n",
              "        <path d=\"M19 3H5c-1.1 0-2 .9-2 2v14c0 1.1.9 2 2 2h14c1.1 0 2-.9 2-2V5c0-1.1-.9-2-2-2zM9 17H7v-7h2v7zm4 0h-2V7h2v10zm4 0h-2v-4h2v4z\"/>\n",
              "    </g>\n",
              "</svg>\n",
              "  </button>\n",
              "\n",
              "<style>\n",
              "  .colab-df-quickchart {\n",
              "      --bg-color: #E8F0FE;\n",
              "      --fill-color: #1967D2;\n",
              "      --hover-bg-color: #E2EBFA;\n",
              "      --hover-fill-color: #174EA6;\n",
              "      --disabled-fill-color: #AAA;\n",
              "      --disabled-bg-color: #DDD;\n",
              "  }\n",
              "\n",
              "  [theme=dark] .colab-df-quickchart {\n",
              "      --bg-color: #3B4455;\n",
              "      --fill-color: #D2E3FC;\n",
              "      --hover-bg-color: #434B5C;\n",
              "      --hover-fill-color: #FFFFFF;\n",
              "      --disabled-bg-color: #3B4455;\n",
              "      --disabled-fill-color: #666;\n",
              "  }\n",
              "\n",
              "  .colab-df-quickchart {\n",
              "    background-color: var(--bg-color);\n",
              "    border: none;\n",
              "    border-radius: 50%;\n",
              "    cursor: pointer;\n",
              "    display: none;\n",
              "    fill: var(--fill-color);\n",
              "    height: 32px;\n",
              "    padding: 0;\n",
              "    width: 32px;\n",
              "  }\n",
              "\n",
              "  .colab-df-quickchart:hover {\n",
              "    background-color: var(--hover-bg-color);\n",
              "    box-shadow: 0 1px 2px rgba(60, 64, 67, 0.3), 0 1px 3px 1px rgba(60, 64, 67, 0.15);\n",
              "    fill: var(--button-hover-fill-color);\n",
              "  }\n",
              "\n",
              "  .colab-df-quickchart-complete:disabled,\n",
              "  .colab-df-quickchart-complete:disabled:hover {\n",
              "    background-color: var(--disabled-bg-color);\n",
              "    fill: var(--disabled-fill-color);\n",
              "    box-shadow: none;\n",
              "  }\n",
              "\n",
              "  .colab-df-spinner {\n",
              "    border: 2px solid var(--fill-color);\n",
              "    border-color: transparent;\n",
              "    border-bottom-color: var(--fill-color);\n",
              "    animation:\n",
              "      spin 1s steps(1) infinite;\n",
              "  }\n",
              "\n",
              "  @keyframes spin {\n",
              "    0% {\n",
              "      border-color: transparent;\n",
              "      border-bottom-color: var(--fill-color);\n",
              "      border-left-color: var(--fill-color);\n",
              "    }\n",
              "    20% {\n",
              "      border-color: transparent;\n",
              "      border-left-color: var(--fill-color);\n",
              "      border-top-color: var(--fill-color);\n",
              "    }\n",
              "    30% {\n",
              "      border-color: transparent;\n",
              "      border-left-color: var(--fill-color);\n",
              "      border-top-color: var(--fill-color);\n",
              "      border-right-color: var(--fill-color);\n",
              "    }\n",
              "    40% {\n",
              "      border-color: transparent;\n",
              "      border-right-color: var(--fill-color);\n",
              "      border-top-color: var(--fill-color);\n",
              "    }\n",
              "    60% {\n",
              "      border-color: transparent;\n",
              "      border-right-color: var(--fill-color);\n",
              "    }\n",
              "    80% {\n",
              "      border-color: transparent;\n",
              "      border-right-color: var(--fill-color);\n",
              "      border-bottom-color: var(--fill-color);\n",
              "    }\n",
              "    90% {\n",
              "      border-color: transparent;\n",
              "      border-bottom-color: var(--fill-color);\n",
              "    }\n",
              "  }\n",
              "</style>\n",
              "\n",
              "  <script>\n",
              "    async function quickchart(key) {\n",
              "      const quickchartButtonEl =\n",
              "        document.querySelector('#' + key + ' button');\n",
              "      quickchartButtonEl.disabled = true;  // To prevent multiple clicks.\n",
              "      quickchartButtonEl.classList.add('colab-df-spinner');\n",
              "      try {\n",
              "        const charts = await google.colab.kernel.invokeFunction(\n",
              "            'suggestCharts', [key], {});\n",
              "      } catch (error) {\n",
              "        console.error('Error during call to suggestCharts:', error);\n",
              "      }\n",
              "      quickchartButtonEl.classList.remove('colab-df-spinner');\n",
              "      quickchartButtonEl.classList.add('colab-df-quickchart-complete');\n",
              "    }\n",
              "    (() => {\n",
              "      let quickchartButtonEl =\n",
              "        document.querySelector('#df-bcb64b74-43ac-4410-a730-5530892ea8fe button');\n",
              "      quickchartButtonEl.style.display =\n",
              "        google.colab.kernel.accessAllowed ? 'block' : 'none';\n",
              "    })();\n",
              "  </script>\n",
              "</div>\n",
              "    </div>\n",
              "  </div>\n"
            ]
          },
          "metadata": {}
        },
        {
          "output_type": "display_data",
          "data": {
            "text/plain": [
              "                     Viento\n",
              "Fecha                      \n",
              "2020-01-01 00:00:00   20.10\n",
              "2020-01-01 01:00:00    7.24\n",
              "2020-01-01 02:00:00   10.90\n",
              "2020-01-01 03:00:00   15.58\n",
              "2020-01-01 04:00:00   13.30"
            ],
            "text/html": [
              "\n",
              "  <div id=\"df-897e6cb1-dc77-4e97-bc68-b2de1dcc67a5\" class=\"colab-df-container\">\n",
              "    <div>\n",
              "<style scoped>\n",
              "    .dataframe tbody tr th:only-of-type {\n",
              "        vertical-align: middle;\n",
              "    }\n",
              "\n",
              "    .dataframe tbody tr th {\n",
              "        vertical-align: top;\n",
              "    }\n",
              "\n",
              "    .dataframe thead th {\n",
              "        text-align: right;\n",
              "    }\n",
              "</style>\n",
              "<table border=\"1\" class=\"dataframe\">\n",
              "  <thead>\n",
              "    <tr style=\"text-align: right;\">\n",
              "      <th></th>\n",
              "      <th>Viento</th>\n",
              "    </tr>\n",
              "    <tr>\n",
              "      <th>Fecha</th>\n",
              "      <th></th>\n",
              "    </tr>\n",
              "  </thead>\n",
              "  <tbody>\n",
              "    <tr>\n",
              "      <th>2020-01-01 00:00:00</th>\n",
              "      <td>20.10</td>\n",
              "    </tr>\n",
              "    <tr>\n",
              "      <th>2020-01-01 01:00:00</th>\n",
              "      <td>7.24</td>\n",
              "    </tr>\n",
              "    <tr>\n",
              "      <th>2020-01-01 02:00:00</th>\n",
              "      <td>10.90</td>\n",
              "    </tr>\n",
              "    <tr>\n",
              "      <th>2020-01-01 03:00:00</th>\n",
              "      <td>15.58</td>\n",
              "    </tr>\n",
              "    <tr>\n",
              "      <th>2020-01-01 04:00:00</th>\n",
              "      <td>13.30</td>\n",
              "    </tr>\n",
              "  </tbody>\n",
              "</table>\n",
              "</div>\n",
              "    <div class=\"colab-df-buttons\">\n",
              "\n",
              "  <div class=\"colab-df-container\">\n",
              "    <button class=\"colab-df-convert\" onclick=\"convertToInteractive('df-897e6cb1-dc77-4e97-bc68-b2de1dcc67a5')\"\n",
              "            title=\"Convert this dataframe to an interactive table.\"\n",
              "            style=\"display:none;\">\n",
              "\n",
              "  <svg xmlns=\"http://www.w3.org/2000/svg\" height=\"24px\" viewBox=\"0 -960 960 960\">\n",
              "    <path d=\"M120-120v-720h720v720H120Zm60-500h600v-160H180v160Zm220 220h160v-160H400v160Zm0 220h160v-160H400v160ZM180-400h160v-160H180v160Zm440 0h160v-160H620v160ZM180-180h160v-160H180v160Zm440 0h160v-160H620v160Z\"/>\n",
              "  </svg>\n",
              "    </button>\n",
              "\n",
              "  <style>\n",
              "    .colab-df-container {\n",
              "      display:flex;\n",
              "      gap: 12px;\n",
              "    }\n",
              "\n",
              "    .colab-df-convert {\n",
              "      background-color: #E8F0FE;\n",
              "      border: none;\n",
              "      border-radius: 50%;\n",
              "      cursor: pointer;\n",
              "      display: none;\n",
              "      fill: #1967D2;\n",
              "      height: 32px;\n",
              "      padding: 0 0 0 0;\n",
              "      width: 32px;\n",
              "    }\n",
              "\n",
              "    .colab-df-convert:hover {\n",
              "      background-color: #E2EBFA;\n",
              "      box-shadow: 0px 1px 2px rgba(60, 64, 67, 0.3), 0px 1px 3px 1px rgba(60, 64, 67, 0.15);\n",
              "      fill: #174EA6;\n",
              "    }\n",
              "\n",
              "    .colab-df-buttons div {\n",
              "      margin-bottom: 4px;\n",
              "    }\n",
              "\n",
              "    [theme=dark] .colab-df-convert {\n",
              "      background-color: #3B4455;\n",
              "      fill: #D2E3FC;\n",
              "    }\n",
              "\n",
              "    [theme=dark] .colab-df-convert:hover {\n",
              "      background-color: #434B5C;\n",
              "      box-shadow: 0px 1px 3px 1px rgba(0, 0, 0, 0.15);\n",
              "      filter: drop-shadow(0px 1px 2px rgba(0, 0, 0, 0.3));\n",
              "      fill: #FFFFFF;\n",
              "    }\n",
              "  </style>\n",
              "\n",
              "    <script>\n",
              "      const buttonEl =\n",
              "        document.querySelector('#df-897e6cb1-dc77-4e97-bc68-b2de1dcc67a5 button.colab-df-convert');\n",
              "      buttonEl.style.display =\n",
              "        google.colab.kernel.accessAllowed ? 'block' : 'none';\n",
              "\n",
              "      async function convertToInteractive(key) {\n",
              "        const element = document.querySelector('#df-897e6cb1-dc77-4e97-bc68-b2de1dcc67a5');\n",
              "        const dataTable =\n",
              "          await google.colab.kernel.invokeFunction('convertToInteractive',\n",
              "                                                    [key], {});\n",
              "        if (!dataTable) return;\n",
              "\n",
              "        const docLinkHtml = 'Like what you see? Visit the ' +\n",
              "          '<a target=\"_blank\" href=https://colab.research.google.com/notebooks/data_table.ipynb>data table notebook</a>'\n",
              "          + ' to learn more about interactive tables.';\n",
              "        element.innerHTML = '';\n",
              "        dataTable['output_type'] = 'display_data';\n",
              "        await google.colab.output.renderOutput(dataTable, element);\n",
              "        const docLink = document.createElement('div');\n",
              "        docLink.innerHTML = docLinkHtml;\n",
              "        element.appendChild(docLink);\n",
              "      }\n",
              "    </script>\n",
              "  </div>\n",
              "\n",
              "\n",
              "<div id=\"df-11276aaf-4739-4b60-bd61-b89a42d2a05d\">\n",
              "  <button class=\"colab-df-quickchart\" onclick=\"quickchart('df-11276aaf-4739-4b60-bd61-b89a42d2a05d')\"\n",
              "            title=\"Suggest charts.\"\n",
              "            style=\"display:none;\">\n",
              "\n",
              "<svg xmlns=\"http://www.w3.org/2000/svg\" height=\"24px\"viewBox=\"0 0 24 24\"\n",
              "     width=\"24px\">\n",
              "    <g>\n",
              "        <path d=\"M19 3H5c-1.1 0-2 .9-2 2v14c0 1.1.9 2 2 2h14c1.1 0 2-.9 2-2V5c0-1.1-.9-2-2-2zM9 17H7v-7h2v7zm4 0h-2V7h2v10zm4 0h-2v-4h2v4z\"/>\n",
              "    </g>\n",
              "</svg>\n",
              "  </button>\n",
              "\n",
              "<style>\n",
              "  .colab-df-quickchart {\n",
              "      --bg-color: #E8F0FE;\n",
              "      --fill-color: #1967D2;\n",
              "      --hover-bg-color: #E2EBFA;\n",
              "      --hover-fill-color: #174EA6;\n",
              "      --disabled-fill-color: #AAA;\n",
              "      --disabled-bg-color: #DDD;\n",
              "  }\n",
              "\n",
              "  [theme=dark] .colab-df-quickchart {\n",
              "      --bg-color: #3B4455;\n",
              "      --fill-color: #D2E3FC;\n",
              "      --hover-bg-color: #434B5C;\n",
              "      --hover-fill-color: #FFFFFF;\n",
              "      --disabled-bg-color: #3B4455;\n",
              "      --disabled-fill-color: #666;\n",
              "  }\n",
              "\n",
              "  .colab-df-quickchart {\n",
              "    background-color: var(--bg-color);\n",
              "    border: none;\n",
              "    border-radius: 50%;\n",
              "    cursor: pointer;\n",
              "    display: none;\n",
              "    fill: var(--fill-color);\n",
              "    height: 32px;\n",
              "    padding: 0;\n",
              "    width: 32px;\n",
              "  }\n",
              "\n",
              "  .colab-df-quickchart:hover {\n",
              "    background-color: var(--hover-bg-color);\n",
              "    box-shadow: 0 1px 2px rgba(60, 64, 67, 0.3), 0 1px 3px 1px rgba(60, 64, 67, 0.15);\n",
              "    fill: var(--button-hover-fill-color);\n",
              "  }\n",
              "\n",
              "  .colab-df-quickchart-complete:disabled,\n",
              "  .colab-df-quickchart-complete:disabled:hover {\n",
              "    background-color: var(--disabled-bg-color);\n",
              "    fill: var(--disabled-fill-color);\n",
              "    box-shadow: none;\n",
              "  }\n",
              "\n",
              "  .colab-df-spinner {\n",
              "    border: 2px solid var(--fill-color);\n",
              "    border-color: transparent;\n",
              "    border-bottom-color: var(--fill-color);\n",
              "    animation:\n",
              "      spin 1s steps(1) infinite;\n",
              "  }\n",
              "\n",
              "  @keyframes spin {\n",
              "    0% {\n",
              "      border-color: transparent;\n",
              "      border-bottom-color: var(--fill-color);\n",
              "      border-left-color: var(--fill-color);\n",
              "    }\n",
              "    20% {\n",
              "      border-color: transparent;\n",
              "      border-left-color: var(--fill-color);\n",
              "      border-top-color: var(--fill-color);\n",
              "    }\n",
              "    30% {\n",
              "      border-color: transparent;\n",
              "      border-left-color: var(--fill-color);\n",
              "      border-top-color: var(--fill-color);\n",
              "      border-right-color: var(--fill-color);\n",
              "    }\n",
              "    40% {\n",
              "      border-color: transparent;\n",
              "      border-right-color: var(--fill-color);\n",
              "      border-top-color: var(--fill-color);\n",
              "    }\n",
              "    60% {\n",
              "      border-color: transparent;\n",
              "      border-right-color: var(--fill-color);\n",
              "    }\n",
              "    80% {\n",
              "      border-color: transparent;\n",
              "      border-right-color: var(--fill-color);\n",
              "      border-bottom-color: var(--fill-color);\n",
              "    }\n",
              "    90% {\n",
              "      border-color: transparent;\n",
              "      border-bottom-color: var(--fill-color);\n",
              "    }\n",
              "  }\n",
              "</style>\n",
              "\n",
              "  <script>\n",
              "    async function quickchart(key) {\n",
              "      const quickchartButtonEl =\n",
              "        document.querySelector('#' + key + ' button');\n",
              "      quickchartButtonEl.disabled = true;  // To prevent multiple clicks.\n",
              "      quickchartButtonEl.classList.add('colab-df-spinner');\n",
              "      try {\n",
              "        const charts = await google.colab.kernel.invokeFunction(\n",
              "            'suggestCharts', [key], {});\n",
              "      } catch (error) {\n",
              "        console.error('Error during call to suggestCharts:', error);\n",
              "      }\n",
              "      quickchartButtonEl.classList.remove('colab-df-spinner');\n",
              "      quickchartButtonEl.classList.add('colab-df-quickchart-complete');\n",
              "    }\n",
              "    (() => {\n",
              "      let quickchartButtonEl =\n",
              "        document.querySelector('#df-11276aaf-4739-4b60-bd61-b89a42d2a05d button');\n",
              "      quickchartButtonEl.style.display =\n",
              "        google.colab.kernel.accessAllowed ? 'block' : 'none';\n",
              "    })();\n",
              "  </script>\n",
              "</div>\n",
              "    </div>\n",
              "  </div>\n"
            ]
          },
          "metadata": {}
        }
      ]
    },
    {
      "cell_type": "markdown",
      "source": [
        "## Tratamiento de Temperatura"
      ],
      "metadata": {
        "id": "wMO7Ft8bjinX"
      }
    },
    {
      "cell_type": "code",
      "source": [
        "data3 = dataT.dropna()\n",
        "\n",
        "# Renombramos las variables\n",
        "data3.rename(columns={\"TempAire\": \"Temperatura\"}, inplace=True)\n",
        "\n",
        "# Convertimos la columna \"Fecha\" a tipo de datos de fecha y hora\n",
        "data3[\"Fecha\"]= pd.to_datetime(data3[\"Fecha\"], format='%m/%d/%Y %H:%M')\n",
        "\n",
        "# Seteamos la Fecha como Index\n",
        "data3=data3.set_index(\"Fecha\")\n",
        "\n",
        "display(data3.info())"
      ],
      "metadata": {
        "id": "q0GcYVF9jpfx",
        "outputId": "99859a18-fcd3-4c02-e8bb-c5ffed6298a3",
        "colab": {
          "base_uri": "https://localhost:8080/",
          "height": 173
        }
      },
      "execution_count": 11,
      "outputs": [
        {
          "output_type": "stream",
          "name": "stdout",
          "text": [
            "<class 'pandas.core.frame.DataFrame'>\n",
            "DatetimeIndex: 26277 entries, 2020-01-01 00:00:00 to 2022-12-31 23:00:00\n",
            "Data columns (total 1 columns):\n",
            " #   Column       Non-Null Count  Dtype  \n",
            "---  ------       --------------  -----  \n",
            " 0   Temperatura  26277 non-null  float64\n",
            "dtypes: float64(1)\n",
            "memory usage: 410.6 KB\n"
          ]
        },
        {
          "output_type": "display_data",
          "data": {
            "text/plain": [
              "None"
            ]
          },
          "metadata": {}
        }
      ]
    },
    {
      "cell_type": "markdown",
      "source": [
        "En base a los valores anteriores, claramente hay datos atipicos en la base, en primer lugar no podemso tener valores negativos de demanda, vemos que el minimo es negativo y el maximo supera el pico de 2242 MW, todo lo que este fuera de este rango, son atipicos"
      ],
      "metadata": {
        "id": "NRIPYpgf2bFq"
      }
    },
    {
      "cell_type": "markdown",
      "source": [
        "# Union Datasets"
      ],
      "metadata": {
        "id": "5W9EH2nYtVhr"
      }
    },
    {
      "cell_type": "code",
      "source": [
        "# Comparar los índices de data1 y data3 para encontrar diferencias\n",
        "differences = data1.index.difference(data3.index)\n",
        "\n",
        "# Crear un nuevo DataFrame con los índices faltantes y todas las columnas en NaN\n",
        "missing_indices = pd.DataFrame(index=differences)\n",
        "\n",
        "# Unir este nuevo DataFrame con data3, manteniendo todos los valores de data3 y poniendo NaN en los valores faltantes\n",
        "data3 = data3.combine_first(missing_indices)\n",
        "\n",
        "# Ordenar el DataFrame por el índice\n",
        "data3.sort_index(inplace=True)"
      ],
      "metadata": {
        "id": "FdZ-2Jj_tbSs"
      },
      "execution_count": 12,
      "outputs": []
    },
    {
      "cell_type": "code",
      "source": [],
      "metadata": {
        "id": "_Em2Nhg4vmec"
      },
      "execution_count": 14,
      "outputs": []
    },
    {
      "cell_type": "markdown",
      "source": [
        "# Preprocesamiento"
      ],
      "metadata": {
        "id": "E7iio9ye1bZl"
      }
    },
    {
      "cell_type": "markdown",
      "source": [
        "## Verificacion de Datos Faltantes"
      ],
      "metadata": {
        "id": "5i6M9UImZiZz"
      }
    },
    {
      "cell_type": "code",
      "source": [
        "# Verificamos el Dataset\n",
        "print(data3_combined.info())\n",
        "display(data3_combined.head())"
      ],
      "metadata": {
        "id": "HYu1tyBX1pC2"
      },
      "execution_count": null,
      "outputs": []
    },
    {
      "cell_type": "markdown",
      "source": [
        "- Se observan 65535 registros\n",
        "- No se obuservan nulos."
      ],
      "metadata": {
        "id": "8GdFiBoGZXZE"
      }
    },
    {
      "cell_type": "markdown",
      "source": [
        "## Eliminamos la tercer columna.\n",
        "(velocidad del viento, dado que no la vamos a utilizar)"
      ],
      "metadata": {
        "id": "OLw58n7H9fNy"
      }
    },
    {
      "cell_type": "code",
      "source": [
        "data.drop(columns=\"Vel_viento\", inplace=True)"
      ],
      "metadata": {
        "id": "Xzzurlgm93zj"
      },
      "execution_count": null,
      "outputs": []
    },
    {
      "cell_type": "code",
      "source": [
        "# Convertimos la columna \"data_hora\" a tipo de datos de fecha y hora\n",
        "\n",
        "data[\"data_hora\"]= pd.to_datetime(data[\"data_hora\"], format=\"%Y-%m-%d %H\")"
      ],
      "metadata": {
        "id": "fqbSC1x2-Kc7"
      },
      "execution_count": null,
      "outputs": []
    },
    {
      "cell_type": "code",
      "source": [
        "# Renombramos las variables\n",
        "data.rename(columns={\"Demanda_MW\": \"Demanda\", \"data_hora\":\"Fecha\"}, inplace=True)"
      ],
      "metadata": {
        "id": "wkVLkRr9-6sr"
      },
      "execution_count": null,
      "outputs": []
    },
    {
      "cell_type": "code",
      "source": [
        "# Seteamos la Fecha como Index\n",
        "data=data.set_index(\"Fecha\")\n",
        "display(data.head())"
      ],
      "metadata": {
        "id": "D_Cu1-JN_nlW"
      },
      "execution_count": null,
      "outputs": []
    },
    {
      "cell_type": "markdown",
      "source": [
        "## Analisis de Outliers"
      ],
      "metadata": {
        "id": "5DeU2AHbAALc"
      }
    },
    {
      "cell_type": "code",
      "source": [
        "# Hacemos una descripcion del dataset\n",
        "display(data.describe())"
      ],
      "metadata": {
        "id": "vugHcLQYAF0z"
      },
      "execution_count": null,
      "outputs": []
    },
    {
      "cell_type": "markdown",
      "source": [
        "Como ya se indico, es necesario evaluar los valores atipicos, como es una demanda electrica lo que estamos analizando, no es posible tener valores negativos, no tiene sentido fisico. Segun el minimo que figura en el analisis anterior, tenemos valores negativos.\n",
        "Por otro lado, el pico de demanda maxima en el periodo analizado es 2300MW, por lo tanto, todo valor superior es atipico."
      ],
      "metadata": {
        "id": "llypERwdATc5"
      }
    },
    {
      "cell_type": "markdown",
      "source": [
        "En este periodo tenemos un solo valor \"0\", el cual es un dato real, fue el corte del 19 de junio de 2019, corte que afecto a Argentina, Brazil y Uruguay, el valor que sigue en minimo es de 83MW."
      ],
      "metadata": {
        "id": "PzBT05KsBWU4"
      }
    },
    {
      "cell_type": "code",
      "source": [
        "# En basea a lo antes expuesto, vemos en que fechas tenemos los errores. Cotas establecidas [83, 2300]\n",
        "display(data.query(\"Demanda> 2300 or Demanda<83\"))\n"
      ],
      "metadata": {
        "id": "cMQ5nYPYA2VZ"
      },
      "execution_count": null,
      "outputs": []
    },
    {
      "cell_type": "code",
      "source": [
        "# # Calculamos la mediana general\n",
        "# median_demand=data[\"Demanda\"][data[\"Demanda\"].between(83, 2300)].median()\n",
        "# print(\"Mediana:\", median_demand)"
      ],
      "metadata": {
        "id": "s9W16g6sFMJD"
      },
      "execution_count": null,
      "outputs": []
    },
    {
      "cell_type": "markdown",
      "source": [
        "Si bien se plantea sustituir los valores extremos por la mediana, no es lo mas conveniente, dado que depende el momento del a;o y la hora donde esta el valor extremo, deberiamos sustituir el valor por el valor en la hora anterior o posterior al valor atipico. De todas formas, como ahora no se como hacerlo, continuo con el procedimiento que hizo Andres"
      ],
      "metadata": {
        "id": "xniubD4mGPnS"
      }
    },
    {
      "cell_type": "code",
      "source": [
        "# # Remplazo valores extremos y negativos por la media calculada\n",
        "# data[\"Demanda\"]= data[\"Demanda\"].apply(lambda x:median_demand if x>2300 or x<83 else x)"
      ],
      "metadata": {
        "id": "u6eBQaIAGrvu"
      },
      "execution_count": null,
      "outputs": []
    },
    {
      "cell_type": "markdown",
      "source": [
        "Aca en lugar de reemplazar los valores fuera de rango por la Mediana general, primero los ponemos en Null, y luego aplicamos un Back-Fill"
      ],
      "metadata": {
        "id": "hoCS9ViDRkbB"
      }
    },
    {
      "cell_type": "code",
      "source": [
        "# Poniendo en nulos los valores menores a 83 o mayores a 2300\n",
        "data['Demanda'] = data['Demanda'].apply(lambda x: x if (x >= 83 and x <= 2300) else None)\n",
        "\n",
        "print('Cantidad de fuera de rango previa:', data.isnull().sum())\n",
        "\n",
        "# Realizando backfill para llenar los valores nulos/fuera de rabgo\n",
        "data['Demanda'].fillna(method='backfill', inplace=True)\n",
        "\n",
        "print('Cantidad de fuera de rango post:', data.isnull().sum())"
      ],
      "metadata": {
        "id": "rD4e6Ig2Qz80"
      },
      "execution_count": null,
      "outputs": []
    },
    {
      "cell_type": "code",
      "source": [
        "# Hacemos otro describ para verificar la correccion de los errores\n",
        "display(data.describe())"
      ],
      "metadata": {
        "id": "sBvxMGAkHHRj"
      },
      "execution_count": null,
      "outputs": []
    },
    {
      "cell_type": "code",
      "source": [
        "# Ploteamos para ver como queda la serie corregida\n",
        "data.plot(title=\"Serie horaria de demanda ee\", figsize=(12,4))\n",
        "plt.show()"
      ],
      "metadata": {
        "id": "QtG6waGLHbTh"
      },
      "execution_count": null,
      "outputs": []
    },
    {
      "cell_type": "markdown",
      "source": [
        "- Se siguen observando dos valores muy bajos, segurmente debamos modificar la cota inferior. Confirmarlo con Ale"
      ],
      "metadata": {
        "id": "xG8lk6A1STIT"
      }
    },
    {
      "cell_type": "markdown",
      "source": [
        "Decidimos no agregar los valores por dia, y dejarlos atomizados por hora"
      ],
      "metadata": {
        "id": "NkK5Q74NTiBu"
      }
    },
    {
      "cell_type": "code",
      "source": [
        "# # Dado que el corte po rhora es muy atomizado, agregamos por dia\n",
        "# data_daily=data[\"Demanda\"].resample(\"D\").sum()\n",
        "# data_daily.plot(title=\"Serie agregada por Dia de demanda ee\", figsize=(12,4))\n",
        "# plt.show()\n"
      ],
      "metadata": {
        "id": "a69TRe2qIFw2"
      },
      "execution_count": null,
      "outputs": []
    },
    {
      "cell_type": "code",
      "source": [
        "# # Seguimos con la variable data\n",
        "# data=data_daily.to_frame() # Lo paso a Pandas DataFrame, sino me lo tranforma a Pandas Serie (No se porque se hizo este paso)"
      ],
      "metadata": {
        "id": "EhTDBGf3JN37"
      },
      "execution_count": null,
      "outputs": []
    },
    {
      "cell_type": "markdown",
      "source": [
        "## Agregacion por dia"
      ],
      "metadata": {
        "id": "pV6Oajm7k76I"
      }
    },
    {
      "cell_type": "code",
      "source": [
        "# Tener el corte por hora no tiene mucho sentido para el Analisis\n",
        "# Ademas, las notebook corren muy lento con tantos datos\n",
        "\n",
        "# Ploteamos para ver como quedaria la serie corregida\n",
        "data.plot(title='Serie agregada por Hora', figsize=(12, 4))\n",
        "plt.show()\n",
        "\n",
        "# El corte por hora es muy atomizado, agregamos por dia\n",
        "data_daily = data['Demanda'].resample('D').sum()\n",
        "data_daily.plot(title='Serie agregada por Dia', figsize=(12, 4))\n",
        "plt.show()\n",
        "\n",
        "# Seguimos con la variable data\n",
        "data = data_daily.to_frame() # Lo paso a Pandas DataFrame, sino me lo transforma a Pandas"
      ],
      "metadata": {
        "id": "mSuk2GE8lBp3"
      },
      "execution_count": null,
      "outputs": []
    },
    {
      "cell_type": "markdown",
      "source": [
        "# Funciones Auxiliares\n",
        "(no creo que las usemos)"
      ],
      "metadata": {
        "id": "a9XZanNkaLIO"
      }
    },
    {
      "cell_type": "markdown",
      "source": [
        "## Analisis Analitico del Orden de Diferenciacion"
      ],
      "metadata": {
        "id": "6791rI-6aXMh"
      }
    },
    {
      "cell_type": "code",
      "source": [
        "# Funciones Auxiliares para en Analsis Analitico de Diferenciacion\n",
        "\n",
        "from pmdarima.arima import auto_arima, ndiffs, nsdiffs\n",
        "from pmdarima.arima import ADFTest\n",
        "\n",
        "def diferenciacion(y):\n",
        "  # Estimado de número de diferencias con ADF test:Dickey-Fuller\n",
        "  n_adf = ndiffs(y, test='adf')  # -> 0\n",
        "\n",
        "  # KPSS test (auto_arima default): Kwiatkowski-Phillips-Schmidt-Shin\n",
        "  n_kpss = ndiffs(y, test='kpss')  # -> 0\n",
        "\n",
        "  # PP test: Phillips-Perron\n",
        "  n_pp = ndiffs(y, test='pp')  # -> 0\n",
        "\n",
        "  print('Estimado de número de diferencias con KPSS test(MAIN)')\n",
        "  print(n_kpss)\n",
        "\n",
        "\n",
        "  print('Estimado de número de diferencias con ADF test')\n",
        "  print(n_adf)\n",
        "\n",
        "  print('Estimado de número de diferencias con PP test')\n",
        "  print(n_pp)\n",
        "\n",
        "  print('Se debe realizar diferenciación (should_diff) ADF Test')\n",
        "  adftest = ADFTest(alpha=0.05)\n",
        "  print(adftest.should_diff(y))"
      ],
      "metadata": {
        "id": "lzJGZ75mWawa"
      },
      "execution_count": null,
      "outputs": []
    },
    {
      "cell_type": "markdown",
      "source": [
        "## Analisis Analitico de Estacionariedad"
      ],
      "metadata": {
        "id": "nL-juKZJX2DB"
      }
    },
    {
      "cell_type": "code",
      "source": [
        "# Funciones Auxiliares para el Analisis Analitco de Estacionariedad\n",
        "# Mepa que es lo mismo que ADFTest de  pmdarima\n",
        "\n",
        "from statsmodels.tsa.stattools import adfuller\n",
        "\n",
        "def estacioneriedad(y):\n",
        "  resultado = adfuller(y)\n",
        "  print('Estadistico ADF: %f' % resultado[0])\n",
        "  print('p-valor: %f' % resultado[1])\n",
        "  print('Valores criticos:')\n",
        "  for key, valor in resultado[4].items():\n",
        "    print('\\t%s: %.3f' % (key, valor))"
      ],
      "metadata": {
        "id": "Xwy2UyT5X9pj"
      },
      "execution_count": null,
      "outputs": []
    },
    {
      "cell_type": "code",
      "source": [
        "print_test_afd(data)"
      ],
      "metadata": {
        "id": "q-Ri0PpaYeRI"
      },
      "execution_count": null,
      "outputs": []
    },
    {
      "cell_type": "markdown",
      "source": [
        "# Analisis de la Serie\n"
      ],
      "metadata": {
        "id": "-NJJQCIYb0Lv"
      }
    },
    {
      "cell_type": "markdown",
      "source": [
        "## 2. Graficar las series originales"
      ],
      "metadata": {
        "id": "qcI-j5lGcHFW"
      }
    },
    {
      "cell_type": "code",
      "source": [
        "# Ploteamos la serie original\n",
        "\n",
        "data.plot(figsize=(12, 4))\n",
        "plt.show()"
      ],
      "metadata": {
        "id": "g51uNXt0cJOz"
      },
      "execution_count": null,
      "outputs": []
    },
    {
      "cell_type": "markdown",
      "source": [
        "- Se siguen viendo dos valores atipicos a mediadios del 2017 y del 2019. Habria que revisar las cotas que nos dio el Negocio\n",
        "- Sigo creyendo que nos conviene acumular los valores por dia en lugar de por hora, no se puede apreciar la serie sino"
      ],
      "metadata": {
        "id": "f3q6mZuOcXVZ"
      }
    },
    {
      "cell_type": "code",
      "source": [
        "# Diferenciacion Analitica de la Serie original\n",
        "\n",
        "diferenciacion(data)"
      ],
      "metadata": {
        "id": "Jq8NfYVSc3pN"
      },
      "execution_count": null,
      "outputs": []
    },
    {
      "cell_type": "markdown",
      "source": [
        "- Kwiatkowski-Phillips-Schmidt-Shin nos dice que debemos diferenciar una vez\n",
        "- Agumented Dickey-Fuller y Phillips-Perron nos dicen que no es necesario\n",
        "- Todavia no tomamos una decision acerca si conviene diferenciar o no"
      ],
      "metadata": {
        "id": "zBjRlmdzdchf"
      }
    },
    {
      "cell_type": "markdown",
      "source": [
        "## 3. Graficar la FAS, FAC y FACP"
      ],
      "metadata": {
        "id": "YUGtYzwfeBz6"
      }
    },
    {
      "cell_type": "code",
      "source": [
        "# Graficamos las Funciones de Autocorrelacion\n",
        "\n",
        "from statsmodels.graphics.tsaplots import plot_acf, plot_pacf\n",
        "\n",
        "# ACF y PACF\n",
        "fig, (ax1, ax2) = plt.subplots(2, 1, figsize=(10, 8))\n",
        "\n",
        "# ACF\n",
        "plot_acf(data['Demanda'], ax=ax1, lags=50)\n",
        "ax1.set_title('Autocorrelation Function')\n",
        "\n",
        "# PACF\n",
        "plot_pacf(data['Demanda'], ax=ax2, lags=50)\n",
        "ax2.set_title('Partial Autocorrelation Function')\n",
        "\n",
        "plt.tight_layout()\n",
        "plt.show()"
      ],
      "metadata": {
        "id": "RVSxywE6eMKw"
      },
      "execution_count": null,
      "outputs": []
    },
    {
      "cell_type": "markdown",
      "source": [
        "- Del Grafico de Partial-Autocorrelacion (PACF) podemos concluir que la Serie tiene un pico en el lag 1, lo que indica que una Diferenciacion de Orden 1 es recomendable\n",
        "- Del grarfico Autocorrelacion (ACF) concluimos que la Serie tiene un Trend decreciente, como asi tambien se observan unos valles, lo que indica tambien que la Serie puede tener un componente de Estacionalidad"
      ],
      "metadata": {
        "id": "mDbcM1fInj-w"
      }
    },
    {
      "cell_type": "markdown",
      "source": [
        "## 4. Realizar distintas pruebas de raíces unitarias"
      ],
      "metadata": {
        "id": "h3TxsZ7no7Qc"
      }
    },
    {
      "cell_type": "code",
      "source": [
        "# Tests Analiticos de Diferenciacion\n",
        "\n",
        "# !pip install -q arch\n",
        "from statsmodels.tsa.stattools import adfuller, kpss\n",
        "from arch.unitroot import PhillipsPerron\n",
        "\n",
        "kpss_pvalue = kpss(data)[1]\n",
        "adf_pvalue = adfuller(data)[1]\n",
        "pp = PhillipsPerron(data)\n",
        "\n",
        "print('p-values de los distintos test:\\n')\n",
        "print('KPSS (Kwiatkowski-Phillips-Schmidt-Shin)', kpss_pvalue)\n",
        "print('Dickey-Fuller Aumentada (ADF):', np.round(adf_pvalue, 4), '\\n')\n",
        "print(pp)\n",
        "\n"
      ],
      "metadata": {
        "id": "A8HHGUFvpBR4"
      },
      "execution_count": null,
      "outputs": []
    },
    {
      "cell_type": "markdown",
      "source": [
        "- La H0 del test de KPSS indica la estacionariedad, la cual rechazamos con un p-value obtenido del 0.01%\n",
        "- En cambio los tests de ADF y PP, con ambos p-values casi del 0%, rechazan la H0 de no-estacionariedad\n",
        "- Los diferentes test nos arrojan valores contradictorios\n"
      ],
      "metadata": {
        "id": "s0sL6r2cvnMj"
      }
    },
    {
      "cell_type": "markdown",
      "source": [
        "## 5. Estimaciones con distintos parametros en SARIMA\n",
        "PENDIENTE\n"
      ],
      "metadata": {
        "id": "9duzjHvU0kEl"
      }
    },
    {
      "cell_type": "code",
      "source": [
        "# Analizamos la descomposicion de la Serie\n",
        "\n",
        "from statsmodels.tsa.seasonal import seasonal_decompose\n",
        "\n",
        "plt.figure(figsize=(14, 6))\n",
        "seasonal_decompose(data['Demanda'], model='additive', period=12).plot()\n",
        "plt.show()"
      ],
      "metadata": {
        "id": "zoRAfNq20rkc"
      },
      "execution_count": null,
      "outputs": []
    },
    {
      "cell_type": "markdown",
      "source": [
        "- Se observa tanto Trend como Estacionalidad, la serie no es Estacionaria\n",
        "- Es recomendable Diferenciar la serie de alguna manera, antes de aplicar SARIMA"
      ],
      "metadata": {
        "id": "rPEJn3tf1Jl-"
      }
    }
  ]
}